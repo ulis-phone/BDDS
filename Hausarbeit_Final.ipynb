{
  "nbformat": 4,
  "nbformat_minor": 0,
  "metadata": {
    "colab": {
      "name": "Hausarbeit.ipynb",
      "version": "0.3.2",
      "provenance": [],
      "collapsed_sections": [],
      "toc_visible": true,
      "include_colab_link": true
    },
    "kernelspec": {
      "name": "python3",
      "display_name": "Python 3"
    }
  },
  "cells": [
    {
      "cell_type": "markdown",
      "metadata": {
        "id": "view-in-github",
        "colab_type": "text"
      },
      "source": [
        "<a href=\"https://colab.research.google.com/github/ulis-phone/BDDS/blob/master/Hausarbeit_Final.ipynb\" target=\"_parent\"><img src=\"https://colab.research.google.com/assets/colab-badge.svg\" alt=\"Open In Colab\"/></a>"
      ]
    },
    {
      "metadata": {
        "id": "TPZn-spbBojD",
        "colab_type": "text"
      },
      "cell_type": "markdown",
      "source": [
        "#Hausarbeit"
      ]
    },
    {
      "metadata": {
        "id": "uZrhp1idBsOu",
        "colab_type": "text"
      },
      "cell_type": "markdown",
      "source": [
        "#Initialisierung"
      ]
    },
    {
      "metadata": {
        "id": "bjkbhKMbBlmn",
        "colab_type": "code",
        "colab": {}
      },
      "cell_type": "code",
      "source": [
        "# Magic Commands um Plotz unter den Zellen sehen\n",
        "%matplotlib inline\n",
        "\n",
        "import numpy as np #wandelt tabellen in matrizen und vektoren\n",
        "import pandas as pd #pandas laden\n",
        "from sklearn.ensemble import RandomForestClassifier\n",
        "from sklearn.feature_selection import RFECV\n",
        "from sklearn.impute import MissingIndicator, SimpleImputer  #für leerwerte\n",
        "from sklearn.model_selection import cross_val_score\n",
        "from sklearn.preprocessing import LabelEncoder, StandardScaler\n",
        "from sklearn.linear_model import SGDClassifier # verwendete methode laden, classifier macht 0,1 als ergebnis\n",
        "from sklearn.metrics import accuracy_score, precision_score, recall_score, f1_score #unterordner für diese Funktionspakete um genauigkeiten zu bestimmen \n",
        "from sklearn.model_selection import KFold, train_test_split # import von kfold zur validierung \n",
        "import seaborn as picture #Grafig addin laden\n",
        "import matplotlib as mpl\n",
        "import matplotlib.pyplot as plt\n",
        "from sklearn.model_selection import StratifiedKFold"
      ],
      "execution_count": 0,
      "outputs": []
    },
    {
      "metadata": {
        "id": "2kCc9I4uR5d7",
        "colab_type": "code",
        "colab": {}
      },
      "cell_type": "code",
      "source": [
        "# Pandas Configuration\n",
        "pd.set_option('display.max_columns', None)\n",
        "pd.set_option('display.float_format', lambda x: '%.4f' % x)"
      ],
      "execution_count": 0,
      "outputs": []
    },
    {
      "metadata": {
        "id": "0hkon-iqB3UU",
        "colab_type": "text"
      },
      "cell_type": "markdown",
      "source": [
        "##Datenimport"
      ]
    },
    {
      "metadata": {
        "id": "v5l8Yq5YB6al",
        "colab_type": "code",
        "outputId": "01c8e76b-1a77-4c40-a068-545aa9470fe0",
        "colab": {
          "base_uri": "https://localhost:8080/",
          "height": 206
        }
      },
      "cell_type": "code",
      "source": [
        "\n",
        "quelle = pd.read_csv('https://github.com/saschaschworm/dsb/blob/master/Data%20Sets/Term%20Paper/bank_marketing/bank_marketing.csv?raw=true', sep=';')\n",
        "\n",
        "quelle.head() #Anzeige der Daten"
      ],
      "execution_count": 0,
      "outputs": [
        {
          "output_type": "execute_result",
          "data": {
            "text/html": [
              "<div>\n",
              "<style scoped>\n",
              "    .dataframe tbody tr th:only-of-type {\n",
              "        vertical-align: middle;\n",
              "    }\n",
              "\n",
              "    .dataframe tbody tr th {\n",
              "        vertical-align: top;\n",
              "    }\n",
              "\n",
              "    .dataframe thead th {\n",
              "        text-align: right;\n",
              "    }\n",
              "</style>\n",
              "<table border=\"1\" class=\"dataframe\">\n",
              "  <thead>\n",
              "    <tr style=\"text-align: right;\">\n",
              "      <th></th>\n",
              "      <th>age</th>\n",
              "      <th>job</th>\n",
              "      <th>marital</th>\n",
              "      <th>education</th>\n",
              "      <th>default</th>\n",
              "      <th>housing</th>\n",
              "      <th>loan</th>\n",
              "      <th>contact</th>\n",
              "      <th>month</th>\n",
              "      <th>day_of_week</th>\n",
              "      <th>duration</th>\n",
              "      <th>campaign</th>\n",
              "      <th>pdays</th>\n",
              "      <th>previous</th>\n",
              "      <th>poutcome</th>\n",
              "      <th>emp.var.rate</th>\n",
              "      <th>cons.price.idx</th>\n",
              "      <th>cons.conf.idx</th>\n",
              "      <th>euribor3m</th>\n",
              "      <th>nr.employed</th>\n",
              "      <th>y</th>\n",
              "    </tr>\n",
              "  </thead>\n",
              "  <tbody>\n",
              "    <tr>\n",
              "      <th>0</th>\n",
              "      <td>56</td>\n",
              "      <td>housemaid</td>\n",
              "      <td>married</td>\n",
              "      <td>basic.4y</td>\n",
              "      <td>no</td>\n",
              "      <td>no</td>\n",
              "      <td>no</td>\n",
              "      <td>telephone</td>\n",
              "      <td>may</td>\n",
              "      <td>mon</td>\n",
              "      <td>261</td>\n",
              "      <td>1</td>\n",
              "      <td>999</td>\n",
              "      <td>0</td>\n",
              "      <td>nonexistent</td>\n",
              "      <td>1.1000</td>\n",
              "      <td>93.9940</td>\n",
              "      <td>-36.4000</td>\n",
              "      <td>4.8570</td>\n",
              "      <td>5191.0000</td>\n",
              "      <td>no</td>\n",
              "    </tr>\n",
              "    <tr>\n",
              "      <th>1</th>\n",
              "      <td>57</td>\n",
              "      <td>services</td>\n",
              "      <td>married</td>\n",
              "      <td>high.school</td>\n",
              "      <td>unknown</td>\n",
              "      <td>no</td>\n",
              "      <td>no</td>\n",
              "      <td>telephone</td>\n",
              "      <td>may</td>\n",
              "      <td>mon</td>\n",
              "      <td>149</td>\n",
              "      <td>1</td>\n",
              "      <td>999</td>\n",
              "      <td>0</td>\n",
              "      <td>nonexistent</td>\n",
              "      <td>1.1000</td>\n",
              "      <td>93.9940</td>\n",
              "      <td>-36.4000</td>\n",
              "      <td>4.8570</td>\n",
              "      <td>5191.0000</td>\n",
              "      <td>no</td>\n",
              "    </tr>\n",
              "    <tr>\n",
              "      <th>2</th>\n",
              "      <td>37</td>\n",
              "      <td>services</td>\n",
              "      <td>married</td>\n",
              "      <td>high.school</td>\n",
              "      <td>no</td>\n",
              "      <td>yes</td>\n",
              "      <td>no</td>\n",
              "      <td>telephone</td>\n",
              "      <td>may</td>\n",
              "      <td>mon</td>\n",
              "      <td>226</td>\n",
              "      <td>1</td>\n",
              "      <td>999</td>\n",
              "      <td>0</td>\n",
              "      <td>nonexistent</td>\n",
              "      <td>1.1000</td>\n",
              "      <td>93.9940</td>\n",
              "      <td>-36.4000</td>\n",
              "      <td>4.8570</td>\n",
              "      <td>5191.0000</td>\n",
              "      <td>no</td>\n",
              "    </tr>\n",
              "    <tr>\n",
              "      <th>3</th>\n",
              "      <td>40</td>\n",
              "      <td>admin.</td>\n",
              "      <td>married</td>\n",
              "      <td>basic.6y</td>\n",
              "      <td>no</td>\n",
              "      <td>no</td>\n",
              "      <td>no</td>\n",
              "      <td>telephone</td>\n",
              "      <td>may</td>\n",
              "      <td>mon</td>\n",
              "      <td>151</td>\n",
              "      <td>1</td>\n",
              "      <td>999</td>\n",
              "      <td>0</td>\n",
              "      <td>nonexistent</td>\n",
              "      <td>1.1000</td>\n",
              "      <td>93.9940</td>\n",
              "      <td>-36.4000</td>\n",
              "      <td>4.8570</td>\n",
              "      <td>5191.0000</td>\n",
              "      <td>no</td>\n",
              "    </tr>\n",
              "    <tr>\n",
              "      <th>4</th>\n",
              "      <td>56</td>\n",
              "      <td>services</td>\n",
              "      <td>married</td>\n",
              "      <td>high.school</td>\n",
              "      <td>no</td>\n",
              "      <td>no</td>\n",
              "      <td>yes</td>\n",
              "      <td>telephone</td>\n",
              "      <td>may</td>\n",
              "      <td>mon</td>\n",
              "      <td>307</td>\n",
              "      <td>1</td>\n",
              "      <td>999</td>\n",
              "      <td>0</td>\n",
              "      <td>nonexistent</td>\n",
              "      <td>1.1000</td>\n",
              "      <td>93.9940</td>\n",
              "      <td>-36.4000</td>\n",
              "      <td>4.8570</td>\n",
              "      <td>5191.0000</td>\n",
              "      <td>no</td>\n",
              "    </tr>\n",
              "  </tbody>\n",
              "</table>\n",
              "</div>"
            ],
            "text/plain": [
              "   age        job  marital    education  default housing loan    contact  \\\n",
              "0   56  housemaid  married     basic.4y       no      no   no  telephone   \n",
              "1   57   services  married  high.school  unknown      no   no  telephone   \n",
              "2   37   services  married  high.school       no     yes   no  telephone   \n",
              "3   40     admin.  married     basic.6y       no      no   no  telephone   \n",
              "4   56   services  married  high.school       no      no  yes  telephone   \n",
              "\n",
              "  month day_of_week  duration  campaign  pdays  previous     poutcome  \\\n",
              "0   may         mon       261         1    999         0  nonexistent   \n",
              "1   may         mon       149         1    999         0  nonexistent   \n",
              "2   may         mon       226         1    999         0  nonexistent   \n",
              "3   may         mon       151         1    999         0  nonexistent   \n",
              "4   may         mon       307         1    999         0  nonexistent   \n",
              "\n",
              "   emp.var.rate  cons.price.idx  cons.conf.idx  euribor3m  nr.employed   y  \n",
              "0        1.1000         93.9940       -36.4000     4.8570    5191.0000  no  \n",
              "1        1.1000         93.9940       -36.4000     4.8570    5191.0000  no  \n",
              "2        1.1000         93.9940       -36.4000     4.8570    5191.0000  no  \n",
              "3        1.1000         93.9940       -36.4000     4.8570    5191.0000  no  \n",
              "4        1.1000         93.9940       -36.4000     4.8570    5191.0000  no  "
            ]
          },
          "metadata": {
            "tags": []
          },
          "execution_count": 3
        }
      ]
    },
    {
      "metadata": {
        "id": "JYAA-x-GS43b",
        "colab_type": "code",
        "colab": {}
      },
      "cell_type": "code",
      "source": [
        "#Copy um originadaten nicht zu verändern\n",
        "data = quelle.copy()"
      ],
      "execution_count": 0,
      "outputs": []
    },
    {
      "metadata": {
        "id": "H1aGBCwvSQqk",
        "colab_type": "code",
        "outputId": "e79efff1-10b0-41b4-a6fa-528c7240b4a0",
        "colab": {
          "base_uri": "https://localhost:8080/",
          "height": 36
        }
      },
      "cell_type": "code",
      "source": [
        "data.shape #Daten Dimension"
      ],
      "execution_count": 0,
      "outputs": [
        {
          "output_type": "execute_result",
          "data": {
            "text/plain": [
              "(41188, 21)"
            ]
          },
          "metadata": {
            "tags": []
          },
          "execution_count": 5
        }
      ]
    },
    {
      "metadata": {
        "id": "q0jThqSDCTeU",
        "colab_type": "code",
        "outputId": "a842c027-2838-46a3-dfd1-d94edba9451f",
        "colab": {
          "base_uri": "https://localhost:8080/",
          "height": 110
        }
      },
      "cell_type": "code",
      "source": [
        "data.columns # Spaltennamen"
      ],
      "execution_count": 0,
      "outputs": [
        {
          "output_type": "execute_result",
          "data": {
            "text/plain": [
              "Index(['age', 'job', 'marital', 'education', 'default', 'housing', 'loan',\n",
              "       'contact', 'month', 'day_of_week', 'duration', 'campaign', 'pdays',\n",
              "       'previous', 'poutcome', 'emp.var.rate', 'cons.price.idx',\n",
              "       'cons.conf.idx', 'euribor3m', 'nr.employed', 'y'],\n",
              "      dtype='object')"
            ]
          },
          "metadata": {
            "tags": []
          },
          "execution_count": 6
        }
      ]
    },
    {
      "metadata": {
        "id": "qfPUgaSfDAfS",
        "colab_type": "text"
      },
      "cell_type": "markdown",
      "source": [
        "##Data Dictionary\n",
        "\n",
        "\n",
        "**age** = Alter  (numeric)\n",
        "\n",
        "**job** = Job (categorical: 'admin.','blue-collar', 'entrepreneur', 'housemaid', 'management', 'retired','self-employed', 'services', 'student', 'technician', 'unemployed', 'unknown')\n",
        "\n",
        "**marital** = Beziehungsstatus (categorical: 'divorced','married','single','unknown'; note: 'divorced' means divorced or widowed)\n",
        "\n",
        "**education** = Bildungsstand (categorical: 'basic.4y','basic.6y','basic.9y','high.school','illiterate','professional.course','university.degree','unknown')\n",
        "\n",
        "**default** = Kreditausfall (categorical: 'no','yes','unknown')\n",
        "\n",
        "**housing** = Immobilienkredit? (categorical: 'no','yes','unknown')\n",
        "\n",
        "**loan** = Kredit (categorical: 'no','yes','unknown')\n",
        "\n",
        "**contact** = Kontaktart (categorical: 'cellular','telephone')\n",
        "\n",
        "**month** = Monat (categorical: 'jan', 'feb', 'mar', ..., 'nov', 'dec')\n",
        "\n",
        "**day_of_week** = Tag (categorical: 'mon','tue','wed','thu','fri')\n",
        "\n",
        "**duration** =Kontaktdauer in s (numeric). Important note: this attribute highly affects the output target (e.g., if duration=0 then y='no'). Yet, the duration is not known before a call is performed. Also, after the end of the call y is obviously known. Thus, this input should only be included for benchmark purposes and should be discarded if the intention is to have a realistic predictive model.\n",
        "\n",
        "**campaign** = Anzahl Kontakte > number of contacts performed during this campaign and for this client (numeric, includes last contact)\n",
        "\n",
        "**pdays** = Tage zur vorherigen Campange > number of days that passed by after the client was last contacted from a previous campaign (numeric; 999 means client was not previously contacted)\n",
        "\n",
        "**previous** = Anzahl vorgeriger Kontakte gesamt>  number of contacts performed before this campaign and for this client (numeric)\n",
        "\n",
        "**poutcome** = Ergebnis in vorheriger Campange> outcome of the previous marketing campaign (categorical: 'failure','nonexistent','success')\n",
        "\n",
        "**emp.var.rate** = beschäftigungsquote ? employment variation rate - quarterly indicator (numeric)\n",
        "\n",
        "**cons.price.idx** = Verbraucher Preis Index > Preiskorb Wert MArktkennzahl > Lebendsstandartwert d Kunden > consumer price index - monthly indicator (numeric)\n",
        "\n",
        "**cons.conf.idx** = Kunden Vertrauen  an die Wirtschaftslage > Bereitschaft in die Wirtschaft zu investiern > consumer confidence index - monthly indicator (numeric) Konsumentenverhalten prüfen > relevants für alle Kunden\n",
        "\n",
        "**euribor3m** = Zinzsatz zu dem sich eine Bank 3 Monatzgelder zu leien, untereinander, REverenszinz > euribor 3 month rate - daily indicator (numeric)\n",
        "\n",
        "**nr.employed** = Anzahl der Beschäftigten > number of employees - quarterly indicator (numeric)\n",
        "\n",
        "**y** = Abschluss? > has the client subscribed a term deposit? (binary: 'yes','no')\n",
        "\n"
      ]
    },
    {
      "metadata": {
        "id": "gQ4Tw0qz_N2f",
        "colab_type": "text"
      },
      "cell_type": "markdown",
      "source": [
        "#Target Variable festlegen und analysieren\n",
        "\n",
        "Target = y"
      ]
    },
    {
      "metadata": {
        "id": "udHorx9l_Qwt",
        "colab_type": "code",
        "outputId": "d195f66a-56e6-4988-adb9-9f143334b75d",
        "colab": {
          "base_uri": "https://localhost:8080/",
          "height": 36
        }
      },
      "cell_type": "code",
      "source": [
        "data['y'].unique() #Inhhalte von target prüfen"
      ],
      "execution_count": 0,
      "outputs": [
        {
          "output_type": "execute_result",
          "data": {
            "text/plain": [
              "array(['no', 'yes'], dtype=object)"
            ]
          },
          "metadata": {
            "tags": []
          },
          "execution_count": 7
        }
      ]
    },
    {
      "metadata": {
        "id": "v7jOF9d2A4D7",
        "colab_type": "code",
        "outputId": "c5a4b211-f1e5-4438-8fc4-9a08dd59b8a9",
        "colab": {
          "base_uri": "https://localhost:8080/",
          "height": 73
        }
      },
      "cell_type": "code",
      "source": [
        "data['y'].value_counts() #Inhalte Zählen\n"
      ],
      "execution_count": 0,
      "outputs": [
        {
          "output_type": "execute_result",
          "data": {
            "text/plain": [
              "no     36548\n",
              "yes     4640\n",
              "Name: y, dtype: int64"
            ]
          },
          "metadata": {
            "tags": []
          },
          "execution_count": 8
        }
      ]
    },
    {
      "metadata": {
        "id": "cWAQEdh0I7-1",
        "colab_type": "code",
        "outputId": "47785d4e-7b8a-4338-ffd1-61c72ffe0cf4",
        "colab": {
          "base_uri": "https://localhost:8080/",
          "height": 54
        }
      },
      "cell_type": "code",
      "source": [
        "target_no = len(data[data['y']=='no'])\n",
        "target_yes = len(data[data['y']=='yes'])\n",
        "percent_no = target_no/(target_no+target_yes)\n",
        "percent_yes = target_yes/(target_no+target_yes)\n",
        "\n",
        "print(f'- kein Abschluss: {percent_no * 100:.2f}%')\n",
        "print(f'- Abschluss: {percent_yes * 100:.2f}%')"
      ],
      "execution_count": 0,
      "outputs": [
        {
          "output_type": "stream",
          "text": [
            "- kein Abschluss: 88.73%\n",
            "- Abschluss: 11.27%\n"
          ],
          "name": "stdout"
        }
      ]
    },
    {
      "metadata": {
        "id": "fqp9Ao8jI2bh",
        "colab_type": "text"
      },
      "cell_type": "markdown",
      "source": [
        "##Target in Binary Convertieren"
      ]
    },
    {
      "metadata": {
        "id": "WRcQTIxB3I9Z",
        "colab_type": "code",
        "outputId": "3a3c1099-5d8d-44cf-92a3-2983e7ad47ec",
        "colab": {
          "base_uri": "https://localhost:8080/",
          "height": 128
        }
      },
      "cell_type": "code",
      "source": [
        "data.y.head()"
      ],
      "execution_count": 0,
      "outputs": [
        {
          "output_type": "execute_result",
          "data": {
            "text/plain": [
              "0    no\n",
              "1    no\n",
              "2    no\n",
              "3    no\n",
              "4    no\n",
              "Name: y, dtype: object"
            ]
          },
          "metadata": {
            "tags": []
          },
          "execution_count": 10
        }
      ]
    },
    {
      "metadata": {
        "id": "JKR6vF_6eWxI",
        "colab_type": "code",
        "colab": {}
      },
      "cell_type": "code",
      "source": [
        "# Initialize label encoder for labeling categorical values.   text in wertebereich konvertieren\n",
        "label_encoder = LabelEncoder()\n",
        "label_encoder.fit(data['y'].values)\n",
        "\n",
        "# Coding Categorical Values into Labeled Values\n",
        "data['y'] = label_encoder.transform(data['y'].values)"
      ],
      "execution_count": 0,
      "outputs": []
    },
    {
      "metadata": {
        "id": "JY3jhDiM2ZJy",
        "colab_type": "code",
        "outputId": "d785016d-58ee-4a7c-f274-7c0932303e32",
        "colab": {
          "base_uri": "https://localhost:8080/",
          "height": 128
        }
      },
      "cell_type": "code",
      "source": [
        "data.y.head()"
      ],
      "execution_count": 0,
      "outputs": [
        {
          "output_type": "execute_result",
          "data": {
            "text/plain": [
              "0    0\n",
              "1    0\n",
              "2    0\n",
              "3    0\n",
              "4    0\n",
              "Name: y, dtype: int64"
            ]
          },
          "metadata": {
            "tags": []
          },
          "execution_count": 12
        }
      ]
    },
    {
      "metadata": {
        "id": "hFHAfIp-Amhz",
        "colab_type": "text"
      },
      "cell_type": "markdown",
      "source": [
        "##grafische Ausgabe testen"
      ]
    },
    {
      "metadata": {
        "id": "cFHPEy8rBQy8",
        "colab_type": "code",
        "outputId": "95f7762f-f243-4f90-e62f-4ed5d555b33b",
        "colab": {
          "base_uri": "https://localhost:8080/",
          "height": 316
        }
      },
      "cell_type": "code",
      "source": [
        "ausgabe = picture.countplot(x='y' , data=data) # Grafig Ausgeben\n",
        "\n"
      ],
      "execution_count": 0,
      "outputs": [
        {
          "output_type": "stream",
          "text": [
            "/usr/local/lib/python3.6/dist-packages/seaborn/categorical.py:1428: FutureWarning: remove_na is deprecated and is a private function. Do not use.\n",
            "  stat_data = remove_na(group_data)\n"
          ],
          "name": "stderr"
        },
        {
          "output_type": "display_data",
          "data": {
            "image/png": "[encoded data removed]",
            "text/plain": [
              "<matplotlib.figure.Figure at 0x7ff8be751a58>"
            ]
          },
          "metadata": {
            "tags": []
          }
        }
      ]
    },
    {
      "metadata": {
        "id": "g07fnYy2Mw00",
        "colab_type": "text"
      },
      "cell_type": "markdown",
      "source": [
        "#Features analysieren"
      ]
    },
    {
      "metadata": {
        "id": "OfwejHqXTexf",
        "colab_type": "code",
        "outputId": "93de4bf7-45b6-4600-ab40-be51e7a81272",
        "colab": {
          "base_uri": "https://localhost:8080/",
          "height": 81
        }
      },
      "cell_type": "code",
      "source": [
        "# Display the data types\n",
        "pd.DataFrame(data.dtypes).T"
      ],
      "execution_count": 0,
      "outputs": [
        {
          "output_type": "execute_result",
          "data": {
            "text/html": [
              "<div>\n",
              "<style scoped>\n",
              "    .dataframe tbody tr th:only-of-type {\n",
              "        vertical-align: middle;\n",
              "    }\n",
              "\n",
              "    .dataframe tbody tr th {\n",
              "        vertical-align: top;\n",
              "    }\n",
              "\n",
              "    .dataframe thead th {\n",
              "        text-align: right;\n",
              "    }\n",
              "</style>\n",
              "<table border=\"1\" class=\"dataframe\">\n",
              "  <thead>\n",
              "    <tr style=\"text-align: right;\">\n",
              "      <th></th>\n",
              "      <th>age</th>\n",
              "      <th>job</th>\n",
              "      <th>marital</th>\n",
              "      <th>education</th>\n",
              "      <th>default</th>\n",
              "      <th>housing</th>\n",
              "      <th>loan</th>\n",
              "      <th>contact</th>\n",
              "      <th>month</th>\n",
              "      <th>day_of_week</th>\n",
              "      <th>duration</th>\n",
              "      <th>campaign</th>\n",
              "      <th>pdays</th>\n",
              "      <th>previous</th>\n",
              "      <th>poutcome</th>\n",
              "      <th>emp.var.rate</th>\n",
              "      <th>cons.price.idx</th>\n",
              "      <th>cons.conf.idx</th>\n",
              "      <th>euribor3m</th>\n",
              "      <th>nr.employed</th>\n",
              "      <th>y</th>\n",
              "    </tr>\n",
              "  </thead>\n",
              "  <tbody>\n",
              "    <tr>\n",
              "      <th>0</th>\n",
              "      <td>int64</td>\n",
              "      <td>object</td>\n",
              "      <td>object</td>\n",
              "      <td>object</td>\n",
              "      <td>object</td>\n",
              "      <td>object</td>\n",
              "      <td>object</td>\n",
              "      <td>object</td>\n",
              "      <td>object</td>\n",
              "      <td>object</td>\n",
              "      <td>int64</td>\n",
              "      <td>int64</td>\n",
              "      <td>int64</td>\n",
              "      <td>int64</td>\n",
              "      <td>object</td>\n",
              "      <td>float64</td>\n",
              "      <td>float64</td>\n",
              "      <td>float64</td>\n",
              "      <td>float64</td>\n",
              "      <td>float64</td>\n",
              "      <td>int64</td>\n",
              "    </tr>\n",
              "  </tbody>\n",
              "</table>\n",
              "</div>"
            ],
            "text/plain": [
              "     age     job marital education default housing    loan contact   month  \\\n",
              "0  int64  object  object    object  object  object  object  object  object   \n",
              "\n",
              "  day_of_week duration campaign  pdays previous poutcome emp.var.rate  \\\n",
              "0      object    int64    int64  int64    int64   object      float64   \n",
              "\n",
              "  cons.price.idx cons.conf.idx euribor3m nr.employed      y  \n",
              "0        float64       float64   float64     float64  int64  "
            ]
          },
          "metadata": {
            "tags": []
          },
          "execution_count": 14
        }
      ]
    },
    {
      "metadata": {
        "id": "DqIz7i_nUNao",
        "colab_type": "code",
        "outputId": "d7a57f1e-e882-4f97-9fba-8c72eabd8bc6",
        "colab": {
          "base_uri": "https://localhost:8080/",
          "height": 424
        }
      },
      "cell_type": "code",
      "source": [
        "data.dtypes"
      ],
      "execution_count": 0,
      "outputs": [
        {
          "output_type": "execute_result",
          "data": {
            "text/plain": [
              "age                 int64\n",
              "job                object\n",
              "marital            object\n",
              "education          object\n",
              "default            object\n",
              "housing            object\n",
              "loan               object\n",
              "contact            object\n",
              "month              object\n",
              "day_of_week        object\n",
              "duration            int64\n",
              "campaign            int64\n",
              "pdays               int64\n",
              "previous            int64\n",
              "poutcome           object\n",
              "emp.var.rate      float64\n",
              "cons.price.idx    float64\n",
              "cons.conf.idx     float64\n",
              "euribor3m         float64\n",
              "nr.employed       float64\n",
              "y                   int64\n",
              "dtype: object"
            ]
          },
          "metadata": {
            "tags": []
          },
          "execution_count": 15
        }
      ]
    },
    {
      "metadata": {
        "id": "lCupAKSuFkYw",
        "colab_type": "code",
        "outputId": "5319bd9a-359d-4b67-e6e8-0bbb9d692aca",
        "colab": {
          "base_uri": "https://localhost:8080/",
          "height": 36
        }
      },
      "cell_type": "code",
      "source": [
        "data.dtypes.unique()"
      ],
      "execution_count": 0,
      "outputs": [
        {
          "output_type": "execute_result",
          "data": {
            "text/plain": [
              "array([dtype('int64'), dtype('O'), dtype('float64')], dtype=object)"
            ]
          },
          "metadata": {
            "tags": []
          },
          "execution_count": 16
        }
      ]
    },
    {
      "metadata": {
        "id": "-UtLU3WUTR5L",
        "colab_type": "code",
        "outputId": "dd9993ad-ca93-46ff-9872-e90b800bfbac",
        "colab": {
          "base_uri": "https://localhost:8080/",
          "height": 175
        }
      },
      "cell_type": "code",
      "source": [
        "#statistische Auswertung\n",
        "data.select_dtypes(['object']).describe()"
      ],
      "execution_count": 0,
      "outputs": [
        {
          "output_type": "execute_result",
          "data": {
            "text/html": [
              "<div>\n",
              "<style scoped>\n",
              "    .dataframe tbody tr th:only-of-type {\n",
              "        vertical-align: middle;\n",
              "    }\n",
              "\n",
              "    .dataframe tbody tr th {\n",
              "        vertical-align: top;\n",
              "    }\n",
              "\n",
              "    .dataframe thead th {\n",
              "        text-align: right;\n",
              "    }\n",
              "</style>\n",
              "<table border=\"1\" class=\"dataframe\">\n",
              "  <thead>\n",
              "    <tr style=\"text-align: right;\">\n",
              "      <th></th>\n",
              "      <th>job</th>\n",
              "      <th>marital</th>\n",
              "      <th>education</th>\n",
              "      <th>default</th>\n",
              "      <th>housing</th>\n",
              "      <th>loan</th>\n",
              "      <th>contact</th>\n",
              "      <th>month</th>\n",
              "      <th>day_of_week</th>\n",
              "      <th>poutcome</th>\n",
              "    </tr>\n",
              "  </thead>\n",
              "  <tbody>\n",
              "    <tr>\n",
              "      <th>count</th>\n",
              "      <td>41188</td>\n",
              "      <td>41188</td>\n",
              "      <td>41188</td>\n",
              "      <td>41188</td>\n",
              "      <td>41188</td>\n",
              "      <td>41188</td>\n",
              "      <td>41188</td>\n",
              "      <td>41188</td>\n",
              "      <td>41188</td>\n",
              "      <td>41188</td>\n",
              "    </tr>\n",
              "    <tr>\n",
              "      <th>unique</th>\n",
              "      <td>12</td>\n",
              "      <td>4</td>\n",
              "      <td>8</td>\n",
              "      <td>3</td>\n",
              "      <td>3</td>\n",
              "      <td>3</td>\n",
              "      <td>2</td>\n",
              "      <td>10</td>\n",
              "      <td>5</td>\n",
              "      <td>3</td>\n",
              "    </tr>\n",
              "    <tr>\n",
              "      <th>top</th>\n",
              "      <td>admin.</td>\n",
              "      <td>married</td>\n",
              "      <td>university.degree</td>\n",
              "      <td>no</td>\n",
              "      <td>yes</td>\n",
              "      <td>no</td>\n",
              "      <td>cellular</td>\n",
              "      <td>may</td>\n",
              "      <td>thu</td>\n",
              "      <td>nonexistent</td>\n",
              "    </tr>\n",
              "    <tr>\n",
              "      <th>freq</th>\n",
              "      <td>10422</td>\n",
              "      <td>24928</td>\n",
              "      <td>12168</td>\n",
              "      <td>32588</td>\n",
              "      <td>21576</td>\n",
              "      <td>33950</td>\n",
              "      <td>26144</td>\n",
              "      <td>13769</td>\n",
              "      <td>8623</td>\n",
              "      <td>35563</td>\n",
              "    </tr>\n",
              "  </tbody>\n",
              "</table>\n",
              "</div>"
            ],
            "text/plain": [
              "           job  marital          education default housing   loan   contact  \\\n",
              "count    41188    41188              41188   41188   41188  41188     41188   \n",
              "unique      12        4                  8       3       3      3         2   \n",
              "top     admin.  married  university.degree      no     yes     no  cellular   \n",
              "freq     10422    24928              12168   32588   21576  33950     26144   \n",
              "\n",
              "        month day_of_week     poutcome  \n",
              "count   41188       41188        41188  \n",
              "unique     10           5            3  \n",
              "top       may         thu  nonexistent  \n",
              "freq    13769        8623        35563  "
            ]
          },
          "metadata": {
            "tags": []
          },
          "execution_count": 17
        }
      ]
    },
    {
      "metadata": {
        "id": "RmrbtqQ0Tmre",
        "colab_type": "code",
        "outputId": "19a0ac8a-41f6-4470-e522-7dcb415c2711",
        "colab": {
          "base_uri": "https://localhost:8080/",
          "height": 300
        }
      },
      "cell_type": "code",
      "source": [
        "#statistische Auswertung\n",
        "data.select_dtypes(['float64', 'int64']).describe()"
      ],
      "execution_count": 0,
      "outputs": [
        {
          "output_type": "execute_result",
          "data": {
            "text/html": [
              "<div>\n",
              "<style scoped>\n",
              "    .dataframe tbody tr th:only-of-type {\n",
              "        vertical-align: middle;\n",
              "    }\n",
              "\n",
              "    .dataframe tbody tr th {\n",
              "        vertical-align: top;\n",
              "    }\n",
              "\n",
              "    .dataframe thead th {\n",
              "        text-align: right;\n",
              "    }\n",
              "</style>\n",
              "<table border=\"1\" class=\"dataframe\">\n",
              "  <thead>\n",
              "    <tr style=\"text-align: right;\">\n",
              "      <th></th>\n",
              "      <th>age</th>\n",
              "      <th>duration</th>\n",
              "      <th>campaign</th>\n",
              "      <th>pdays</th>\n",
              "      <th>previous</th>\n",
              "      <th>emp.var.rate</th>\n",
              "      <th>cons.price.idx</th>\n",
              "      <th>cons.conf.idx</th>\n",
              "      <th>euribor3m</th>\n",
              "      <th>nr.employed</th>\n",
              "      <th>y</th>\n",
              "    </tr>\n",
              "  </thead>\n",
              "  <tbody>\n",
              "    <tr>\n",
              "      <th>count</th>\n",
              "      <td>41188.0000</td>\n",
              "      <td>41188.0000</td>\n",
              "      <td>41188.0000</td>\n",
              "      <td>41188.0000</td>\n",
              "      <td>41188.0000</td>\n",
              "      <td>41188.0000</td>\n",
              "      <td>41188.0000</td>\n",
              "      <td>41188.0000</td>\n",
              "      <td>41188.0000</td>\n",
              "      <td>41188.0000</td>\n",
              "      <td>41188.0000</td>\n",
              "    </tr>\n",
              "    <tr>\n",
              "      <th>mean</th>\n",
              "      <td>40.0241</td>\n",
              "      <td>258.2850</td>\n",
              "      <td>2.5676</td>\n",
              "      <td>962.4755</td>\n",
              "      <td>0.1730</td>\n",
              "      <td>0.0819</td>\n",
              "      <td>93.5757</td>\n",
              "      <td>-40.5026</td>\n",
              "      <td>3.6213</td>\n",
              "      <td>5167.0359</td>\n",
              "      <td>0.1127</td>\n",
              "    </tr>\n",
              "    <tr>\n",
              "      <th>std</th>\n",
              "      <td>10.4212</td>\n",
              "      <td>259.2792</td>\n",
              "      <td>2.7700</td>\n",
              "      <td>186.9109</td>\n",
              "      <td>0.4949</td>\n",
              "      <td>1.5710</td>\n",
              "      <td>0.5788</td>\n",
              "      <td>4.6282</td>\n",
              "      <td>1.7344</td>\n",
              "      <td>72.2515</td>\n",
              "      <td>0.3162</td>\n",
              "    </tr>\n",
              "    <tr>\n",
              "      <th>min</th>\n",
              "      <td>17.0000</td>\n",
              "      <td>0.0000</td>\n",
              "      <td>1.0000</td>\n",
              "      <td>0.0000</td>\n",
              "      <td>0.0000</td>\n",
              "      <td>-3.4000</td>\n",
              "      <td>92.2010</td>\n",
              "      <td>-50.8000</td>\n",
              "      <td>0.6340</td>\n",
              "      <td>4963.6000</td>\n",
              "      <td>0.0000</td>\n",
              "    </tr>\n",
              "    <tr>\n",
              "      <th>25%</th>\n",
              "      <td>32.0000</td>\n",
              "      <td>102.0000</td>\n",
              "      <td>1.0000</td>\n",
              "      <td>999.0000</td>\n",
              "      <td>0.0000</td>\n",
              "      <td>-1.8000</td>\n",
              "      <td>93.0750</td>\n",
              "      <td>-42.7000</td>\n",
              "      <td>1.3440</td>\n",
              "      <td>5099.1000</td>\n",
              "      <td>0.0000</td>\n",
              "    </tr>\n",
              "    <tr>\n",
              "      <th>50%</th>\n",
              "      <td>38.0000</td>\n",
              "      <td>180.0000</td>\n",
              "      <td>2.0000</td>\n",
              "      <td>999.0000</td>\n",
              "      <td>0.0000</td>\n",
              "      <td>1.1000</td>\n",
              "      <td>93.7490</td>\n",
              "      <td>-41.8000</td>\n",
              "      <td>4.8570</td>\n",
              "      <td>5191.0000</td>\n",
              "      <td>0.0000</td>\n",
              "    </tr>\n",
              "    <tr>\n",
              "      <th>75%</th>\n",
              "      <td>47.0000</td>\n",
              "      <td>319.0000</td>\n",
              "      <td>3.0000</td>\n",
              "      <td>999.0000</td>\n",
              "      <td>0.0000</td>\n",
              "      <td>1.4000</td>\n",
              "      <td>93.9940</td>\n",
              "      <td>-36.4000</td>\n",
              "      <td>4.9610</td>\n",
              "      <td>5228.1000</td>\n",
              "      <td>0.0000</td>\n",
              "    </tr>\n",
              "    <tr>\n",
              "      <th>max</th>\n",
              "      <td>98.0000</td>\n",
              "      <td>4918.0000</td>\n",
              "      <td>56.0000</td>\n",
              "      <td>999.0000</td>\n",
              "      <td>7.0000</td>\n",
              "      <td>1.4000</td>\n",
              "      <td>94.7670</td>\n",
              "      <td>-26.9000</td>\n",
              "      <td>5.0450</td>\n",
              "      <td>5228.1000</td>\n",
              "      <td>1.0000</td>\n",
              "    </tr>\n",
              "  </tbody>\n",
              "</table>\n",
              "</div>"
            ],
            "text/plain": [
              "             age   duration   campaign      pdays   previous  emp.var.rate  \\\n",
              "count 41188.0000 41188.0000 41188.0000 41188.0000 41188.0000    41188.0000   \n",
              "mean     40.0241   258.2850     2.5676   962.4755     0.1730        0.0819   \n",
              "std      10.4212   259.2792     2.7700   186.9109     0.4949        1.5710   \n",
              "min      17.0000     0.0000     1.0000     0.0000     0.0000       -3.4000   \n",
              "25%      32.0000   102.0000     1.0000   999.0000     0.0000       -1.8000   \n",
              "50%      38.0000   180.0000     2.0000   999.0000     0.0000        1.1000   \n",
              "75%      47.0000   319.0000     3.0000   999.0000     0.0000        1.4000   \n",
              "max      98.0000  4918.0000    56.0000   999.0000     7.0000        1.4000   \n",
              "\n",
              "       cons.price.idx  cons.conf.idx  euribor3m  nr.employed          y  \n",
              "count      41188.0000     41188.0000 41188.0000   41188.0000 41188.0000  \n",
              "mean          93.5757       -40.5026     3.6213    5167.0359     0.1127  \n",
              "std            0.5788         4.6282     1.7344      72.2515     0.3162  \n",
              "min           92.2010       -50.8000     0.6340    4963.6000     0.0000  \n",
              "25%           93.0750       -42.7000     1.3440    5099.1000     0.0000  \n",
              "50%           93.7490       -41.8000     4.8570    5191.0000     0.0000  \n",
              "75%           93.9940       -36.4000     4.9610    5228.1000     0.0000  \n",
              "max           94.7670       -26.9000     5.0450    5228.1000     1.0000  "
            ]
          },
          "metadata": {
            "tags": []
          },
          "execution_count": 18
        }
      ]
    },
    {
      "metadata": {
        "id": "vKChcu6rNJOy",
        "colab_type": "code",
        "outputId": "3d85ad7a-2878-4155-8ce8-5d6d43b0a015",
        "colab": {
          "base_uri": "https://localhost:8080/",
          "height": 144
        }
      },
      "cell_type": "code",
      "source": [
        "data.groupby('y').mean()"
      ],
      "execution_count": 0,
      "outputs": [
        {
          "output_type": "execute_result",
          "data": {
            "text/html": [
              "<div>\n",
              "<style scoped>\n",
              "    .dataframe tbody tr th:only-of-type {\n",
              "        vertical-align: middle;\n",
              "    }\n",
              "\n",
              "    .dataframe tbody tr th {\n",
              "        vertical-align: top;\n",
              "    }\n",
              "\n",
              "    .dataframe thead th {\n",
              "        text-align: right;\n",
              "    }\n",
              "</style>\n",
              "<table border=\"1\" class=\"dataframe\">\n",
              "  <thead>\n",
              "    <tr style=\"text-align: right;\">\n",
              "      <th></th>\n",
              "      <th>age</th>\n",
              "      <th>duration</th>\n",
              "      <th>campaign</th>\n",
              "      <th>pdays</th>\n",
              "      <th>previous</th>\n",
              "      <th>emp.var.rate</th>\n",
              "      <th>cons.price.idx</th>\n",
              "      <th>cons.conf.idx</th>\n",
              "      <th>euribor3m</th>\n",
              "      <th>nr.employed</th>\n",
              "    </tr>\n",
              "    <tr>\n",
              "      <th>y</th>\n",
              "      <th></th>\n",
              "      <th></th>\n",
              "      <th></th>\n",
              "      <th></th>\n",
              "      <th></th>\n",
              "      <th></th>\n",
              "      <th></th>\n",
              "      <th></th>\n",
              "      <th></th>\n",
              "      <th></th>\n",
              "    </tr>\n",
              "  </thead>\n",
              "  <tbody>\n",
              "    <tr>\n",
              "      <th>0</th>\n",
              "      <td>39.9112</td>\n",
              "      <td>220.8448</td>\n",
              "      <td>2.6331</td>\n",
              "      <td>984.1139</td>\n",
              "      <td>0.1324</td>\n",
              "      <td>0.2489</td>\n",
              "      <td>93.6038</td>\n",
              "      <td>-40.5931</td>\n",
              "      <td>3.8115</td>\n",
              "      <td>5176.1666</td>\n",
              "    </tr>\n",
              "    <tr>\n",
              "      <th>1</th>\n",
              "      <td>40.9131</td>\n",
              "      <td>553.1912</td>\n",
              "      <td>2.0517</td>\n",
              "      <td>792.0356</td>\n",
              "      <td>0.4927</td>\n",
              "      <td>-1.2334</td>\n",
              "      <td>93.3544</td>\n",
              "      <td>-39.7898</td>\n",
              "      <td>2.1231</td>\n",
              "      <td>5095.1160</td>\n",
              "    </tr>\n",
              "  </tbody>\n",
              "</table>\n",
              "</div>"
            ],
            "text/plain": [
              "      age  duration  campaign    pdays  previous  emp.var.rate  \\\n",
              "y                                                                \n",
              "0 39.9112  220.8448    2.6331 984.1139    0.1324        0.2489   \n",
              "1 40.9131  553.1912    2.0517 792.0356    0.4927       -1.2334   \n",
              "\n",
              "   cons.price.idx  cons.conf.idx  euribor3m  nr.employed  \n",
              "y                                                         \n",
              "0         93.6038       -40.5931     3.8115    5176.1666  \n",
              "1         93.3544       -39.7898     2.1231    5095.1160  "
            ]
          },
          "metadata": {
            "tags": []
          },
          "execution_count": 19
        }
      ]
    },
    {
      "metadata": {
        "id": "1Obhb4seEpvi",
        "colab_type": "text"
      },
      "cell_type": "markdown",
      "source": [
        "##leere Felder suchen"
      ]
    },
    {
      "metadata": {
        "id": "0Hv-3Hx0Eo_s",
        "colab_type": "code",
        "outputId": "5362ea07-3185-44c1-aa51-fa1edbbab971",
        "colab": {
          "base_uri": "https://localhost:8080/",
          "height": 424
        }
      },
      "cell_type": "code",
      "source": [
        "leer=data\n",
        "leer.isnull().sum()"
      ],
      "execution_count": 0,
      "outputs": [
        {
          "output_type": "execute_result",
          "data": {
            "text/plain": [
              "age               0\n",
              "job               0\n",
              "marital           0\n",
              "education         0\n",
              "default           0\n",
              "housing           0\n",
              "loan              0\n",
              "contact           0\n",
              "month             0\n",
              "day_of_week       0\n",
              "duration          0\n",
              "campaign          0\n",
              "pdays             0\n",
              "previous          0\n",
              "poutcome          0\n",
              "emp.var.rate      0\n",
              "cons.price.idx    0\n",
              "cons.conf.idx     0\n",
              "euribor3m         0\n",
              "nr.employed       0\n",
              "y                 0\n",
              "dtype: int64"
            ]
          },
          "metadata": {
            "tags": []
          },
          "execution_count": 20
        }
      ]
    },
    {
      "metadata": {
        "id": "0LvvJVixUnDy",
        "colab_type": "text"
      },
      "cell_type": "markdown",
      "source": [
        "#Personenbezogene Daten"
      ]
    },
    {
      "metadata": {
        "id": "I4XrjfQ8qaAs",
        "colab_type": "text"
      },
      "cell_type": "markdown",
      "source": [
        "### 1 age\n",
        " Alter > numeric"
      ]
    },
    {
      "metadata": {
        "id": "UTofKIqxXE6l",
        "colab_type": "code",
        "colab": {}
      },
      "cell_type": "code",
      "source": [
        "#Feature auslesen\t\n",
        "#Inhhalte von target prüfen\n",
        "data['age_class']=data['age']"
      ],
      "execution_count": 0,
      "outputs": []
    },
    {
      "metadata": {
        "id": "sIIjFK7LdKcW",
        "colab_type": "code",
        "outputId": "314fe106-31cc-4e81-9536-14999bdd286d",
        "colab": {
          "base_uri": "https://localhost:8080/",
          "height": 128
        }
      },
      "cell_type": "code",
      "source": [
        "#Feature kategorisieren\n",
        "data['age_class'] = [90 if (i <= 100)&(i > 90) else i for i in data['age_class']]\n",
        "data['age_class'] = [90 if (i <= 90)& (i > 80) else i for i in data['age_class']]\n",
        "data['age_class'] = [80 if (i <= 80)& (i > 70) else i for i in data['age_class']]\n",
        "data['age_class'] = [70 if (i <= 70)& (i > 60) else i for i in data['age_class']]\n",
        "data['age_class'] = [60 if (i <= 60)& (i > 50) else i for i in data['age_class']]\n",
        "data['age_class'] = [50 if (i <= 50)& (i > 40) else i for i in data['age_class']]\n",
        "data['age_class'] = [40 if (i <= 40)& (i > 30) else i for i in data['age_class']]\n",
        "data['age_class'] = [30 if (i <= 30)& (i > 20) else i for i in data['age_class']]\n",
        "data['age_class'] = [20 if (i <= 20)& (i > 10) else i for i in data['age_class']]\n",
        "data['age_class'] = [1  if (i < 10)& (i >=  0) else i for i in data['age_class']]\n",
        "data.age_class.head()"
      ],
      "execution_count": 0,
      "outputs": [
        {
          "output_type": "execute_result",
          "data": {
            "text/plain": [
              "0    60\n",
              "1    60\n",
              "2    40\n",
              "3    40\n",
              "4    60\n",
              "Name: age_class, dtype: int64"
            ]
          },
          "metadata": {
            "tags": []
          },
          "execution_count": 87
        }
      ]
    },
    {
      "metadata": {
        "id": "VkU0mQSlNgSf",
        "colab_type": "code",
        "outputId": "c33f06e9-be3b-44cc-e39f-1d8b404f3078",
        "colab": {
          "base_uri": "https://localhost:8080/",
          "height": 184
        }
      },
      "cell_type": "code",
      "source": [
        "data['age_class'].value_counts() #Inhalte Zählen"
      ],
      "execution_count": 0,
      "outputs": [
        {
          "output_type": "execute_result",
          "data": {
            "text/plain": [
              "40    16385\n",
              "50    10240\n",
              "30     7243\n",
              "60     6270\n",
              "70      488\n",
              "80      303\n",
              "20      140\n",
              "90      119\n",
              "Name: age_class, dtype: int64"
            ]
          },
          "metadata": {
            "tags": []
          },
          "execution_count": 23
        }
      ]
    },
    {
      "metadata": {
        "id": "mT3Q6ptXsq7B",
        "colab_type": "code",
        "outputId": "924faa61-4254-414e-ac4a-e8359b73fbcb",
        "colab": {
          "base_uri": "https://localhost:8080/",
          "height": 332
        }
      },
      "cell_type": "code",
      "source": [
        "#Prozentual zeilenweise\n",
        "test = pd.crosstab(index=data['age_class'], columns=data['y'], margins=False).apply(lambda zeile: zeile/zeile.sum(), axis=1).round(4)*100\n",
        "test"
      ],
      "execution_count": 0,
      "outputs": [
        {
          "output_type": "execute_result",
          "data": {
            "text/html": [
              "<div>\n",
              "<style scoped>\n",
              "    .dataframe tbody tr th:only-of-type {\n",
              "        vertical-align: middle;\n",
              "    }\n",
              "\n",
              "    .dataframe tbody tr th {\n",
              "        vertical-align: top;\n",
              "    }\n",
              "\n",
              "    .dataframe thead th {\n",
              "        text-align: right;\n",
              "    }\n",
              "</style>\n",
              "<table border=\"1\" class=\"dataframe\">\n",
              "  <thead>\n",
              "    <tr style=\"text-align: right;\">\n",
              "      <th>y</th>\n",
              "      <th>0</th>\n",
              "      <th>1</th>\n",
              "    </tr>\n",
              "    <tr>\n",
              "      <th>age_class</th>\n",
              "      <th></th>\n",
              "      <th></th>\n",
              "    </tr>\n",
              "  </thead>\n",
              "  <tbody>\n",
              "    <tr>\n",
              "      <th>20</th>\n",
              "      <td>59.2900</td>\n",
              "      <td>40.7100</td>\n",
              "    </tr>\n",
              "    <tr>\n",
              "      <th>30</th>\n",
              "      <td>85.2700</td>\n",
              "      <td>14.7300</td>\n",
              "    </tr>\n",
              "    <tr>\n",
              "      <th>40</th>\n",
              "      <td>90.2500</td>\n",
              "      <td>9.7500</td>\n",
              "    </tr>\n",
              "    <tr>\n",
              "      <th>50</th>\n",
              "      <td>91.8300</td>\n",
              "      <td>8.1700</td>\n",
              "    </tr>\n",
              "    <tr>\n",
              "      <th>60</th>\n",
              "      <td>89.3500</td>\n",
              "      <td>10.6500</td>\n",
              "    </tr>\n",
              "    <tr>\n",
              "      <th>70</th>\n",
              "      <td>56.5600</td>\n",
              "      <td>43.4400</td>\n",
              "    </tr>\n",
              "    <tr>\n",
              "      <th>80</th>\n",
              "      <td>52.8100</td>\n",
              "      <td>47.1900</td>\n",
              "    </tr>\n",
              "    <tr>\n",
              "      <th>90</th>\n",
              "      <td>50.4200</td>\n",
              "      <td>49.5800</td>\n",
              "    </tr>\n",
              "  </tbody>\n",
              "</table>\n",
              "</div>"
            ],
            "text/plain": [
              "y               0       1\n",
              "age_class                \n",
              "20        59.2900 40.7100\n",
              "30        85.2700 14.7300\n",
              "40        90.2500  9.7500\n",
              "50        91.8300  8.1700\n",
              "60        89.3500 10.6500\n",
              "70        56.5600 43.4400\n",
              "80        52.8100 47.1900\n",
              "90        50.4200 49.5800"
            ]
          },
          "metadata": {
            "tags": []
          },
          "execution_count": 24
        }
      ]
    },
    {
      "metadata": {
        "id": "N1I-AFl7pAD_",
        "colab_type": "text"
      },
      "cell_type": "markdown",
      "source": [
        "###2 job \n",
        "Beruf > Kategorie"
      ]
    },
    {
      "metadata": {
        "id": "J5XJtzPF720E",
        "colab_type": "code",
        "outputId": "035ba167-8510-41cd-defc-67ea206a7f1d",
        "colab": {
          "base_uri": "https://localhost:8080/",
          "height": 457
        }
      },
      "cell_type": "code",
      "source": [
        "#Prozentual zeilenweise\n",
        "pd.crosstab(index=data['job'], columns=data['y'], margins=False).apply(lambda zeile: zeile/zeile.sum(), axis=1).round(4)*100"
      ],
      "execution_count": 0,
      "outputs": [
        {
          "output_type": "execute_result",
          "data": {
            "text/html": [
              "<div>\n",
              "<style scoped>\n",
              "    .dataframe tbody tr th:only-of-type {\n",
              "        vertical-align: middle;\n",
              "    }\n",
              "\n",
              "    .dataframe tbody tr th {\n",
              "        vertical-align: top;\n",
              "    }\n",
              "\n",
              "    .dataframe thead th {\n",
              "        text-align: right;\n",
              "    }\n",
              "</style>\n",
              "<table border=\"1\" class=\"dataframe\">\n",
              "  <thead>\n",
              "    <tr style=\"text-align: right;\">\n",
              "      <th>y</th>\n",
              "      <th>0</th>\n",
              "      <th>1</th>\n",
              "    </tr>\n",
              "    <tr>\n",
              "      <th>job</th>\n",
              "      <th></th>\n",
              "      <th></th>\n",
              "    </tr>\n",
              "  </thead>\n",
              "  <tbody>\n",
              "    <tr>\n",
              "      <th>admin.</th>\n",
              "      <td>87.0300</td>\n",
              "      <td>12.9700</td>\n",
              "    </tr>\n",
              "    <tr>\n",
              "      <th>blue-collar</th>\n",
              "      <td>93.1100</td>\n",
              "      <td>6.8900</td>\n",
              "    </tr>\n",
              "    <tr>\n",
              "      <th>entrepreneur</th>\n",
              "      <td>91.4800</td>\n",
              "      <td>8.5200</td>\n",
              "    </tr>\n",
              "    <tr>\n",
              "      <th>housemaid</th>\n",
              "      <td>90.0000</td>\n",
              "      <td>10.0000</td>\n",
              "    </tr>\n",
              "    <tr>\n",
              "      <th>management</th>\n",
              "      <td>88.7800</td>\n",
              "      <td>11.2200</td>\n",
              "    </tr>\n",
              "    <tr>\n",
              "      <th>retired</th>\n",
              "      <td>74.7700</td>\n",
              "      <td>25.2300</td>\n",
              "    </tr>\n",
              "    <tr>\n",
              "      <th>self-employed</th>\n",
              "      <td>89.5100</td>\n",
              "      <td>10.4900</td>\n",
              "    </tr>\n",
              "    <tr>\n",
              "      <th>services</th>\n",
              "      <td>91.8600</td>\n",
              "      <td>8.1400</td>\n",
              "    </tr>\n",
              "    <tr>\n",
              "      <th>student</th>\n",
              "      <td>68.5700</td>\n",
              "      <td>31.4300</td>\n",
              "    </tr>\n",
              "    <tr>\n",
              "      <th>technician</th>\n",
              "      <td>89.1700</td>\n",
              "      <td>10.8300</td>\n",
              "    </tr>\n",
              "    <tr>\n",
              "      <th>unemployed</th>\n",
              "      <td>85.8000</td>\n",
              "      <td>14.2000</td>\n",
              "    </tr>\n",
              "    <tr>\n",
              "      <th>unknown</th>\n",
              "      <td>88.7900</td>\n",
              "      <td>11.2100</td>\n",
              "    </tr>\n",
              "  </tbody>\n",
              "</table>\n",
              "</div>"
            ],
            "text/plain": [
              "y                   0       1\n",
              "job                          \n",
              "admin.        87.0300 12.9700\n",
              "blue-collar   93.1100  6.8900\n",
              "entrepreneur  91.4800  8.5200\n",
              "housemaid     90.0000 10.0000\n",
              "management    88.7800 11.2200\n",
              "retired       74.7700 25.2300\n",
              "self-employed 89.5100 10.4900\n",
              "services      91.8600  8.1400\n",
              "student       68.5700 31.4300\n",
              "technician    89.1700 10.8300\n",
              "unemployed    85.8000 14.2000\n",
              "unknown       88.7900 11.2100"
            ]
          },
          "metadata": {
            "tags": []
          },
          "execution_count": 25
        }
      ]
    },
    {
      "metadata": {
        "id": "U24cNDIhvNGO",
        "colab_type": "code",
        "outputId": "c0097efd-34c1-445a-baa4-95a1ba8b574c",
        "colab": {
          "base_uri": "https://localhost:8080/",
          "height": 387
        }
      },
      "cell_type": "code",
      "source": [
        "data.hist(column=\"job\",by=\"y\",bins=50)"
      ],
      "execution_count": 0,
      "outputs": [
        {
          "output_type": "execute_result",
          "data": {
            "text/plain": [
              "array([<matplotlib.axes._subplots.AxesSubplot object at 0x7ff8bbe3c780>,\n",
              "       <matplotlib.axes._subplots.AxesSubplot object at 0x7ff8bab6b2e8>],\n",
              "      dtype=object)"
            ]
          },
          "metadata": {
            "tags": []
          },
          "execution_count": 26
        },
        {
          "output_type": "display_data",
          "data": {
            "image/png": "[encoded data removed]",
            "text/plain": [
              "<matplotlib.figure.Figure at 0x7ff8bbe3c7f0>"
            ]
          },
          "metadata": {
            "tags": []
          }
        }
      ]
    },
    {
      "metadata": {
        "id": "hoMT4-_0D8_-",
        "colab_type": "code",
        "outputId": "7b5c84ed-ba1d-4da3-fce7-1a2ef2eaf9b0",
        "colab": {
          "base_uri": "https://localhost:8080/",
          "height": 73
        }
      },
      "cell_type": "code",
      "source": [
        "#Feature auslesen\t\n",
        "data['job_class']=data['job']\n",
        "\n",
        "#Feature kategorisieren\n",
        "data['job_class'] = [1 if (i == 'retired') else i for i in data['job_class']]\n",
        "data['job_class'] = [1 if (i == 'student') else 0 for i in data['job_class']]\n",
        "data['job_class'].value_counts() #Inhalte Zählen"
      ],
      "execution_count": 0,
      "outputs": [
        {
          "output_type": "execute_result",
          "data": {
            "text/plain": [
              "0    40313\n",
              "1      875\n",
              "Name: job_class, dtype: int64"
            ]
          },
          "metadata": {
            "tags": []
          },
          "execution_count": 27
        }
      ]
    },
    {
      "metadata": {
        "id": "Rh-0YPbgpB6W",
        "colab_type": "text"
      },
      "cell_type": "markdown",
      "source": [
        "###3 marital\n",
        "Beziehungsstatus > Kategorie"
      ]
    },
    {
      "metadata": {
        "id": "8SeMQO-euzAW",
        "colab_type": "code",
        "outputId": "ae0cd798-fe3b-453c-9a42-34b5cf983df0",
        "colab": {
          "base_uri": "https://localhost:8080/",
          "height": 206
        }
      },
      "cell_type": "code",
      "source": [
        "#Prozentual zeilenweise \n",
        "pd.crosstab(index=data['marital'], columns=data['y'], margins=False).apply(lambda zeile: zeile/zeile.sum(), axis=1).round(4)*100"
      ],
      "execution_count": 0,
      "outputs": [
        {
          "output_type": "execute_result",
          "data": {
            "text/html": [
              "<div>\n",
              "<style scoped>\n",
              "    .dataframe tbody tr th:only-of-type {\n",
              "        vertical-align: middle;\n",
              "    }\n",
              "\n",
              "    .dataframe tbody tr th {\n",
              "        vertical-align: top;\n",
              "    }\n",
              "\n",
              "    .dataframe thead th {\n",
              "        text-align: right;\n",
              "    }\n",
              "</style>\n",
              "<table border=\"1\" class=\"dataframe\">\n",
              "  <thead>\n",
              "    <tr style=\"text-align: right;\">\n",
              "      <th>y</th>\n",
              "      <th>0</th>\n",
              "      <th>1</th>\n",
              "    </tr>\n",
              "    <tr>\n",
              "      <th>marital</th>\n",
              "      <th></th>\n",
              "      <th></th>\n",
              "    </tr>\n",
              "  </thead>\n",
              "  <tbody>\n",
              "    <tr>\n",
              "      <th>divorced</th>\n",
              "      <td>89.6800</td>\n",
              "      <td>10.3200</td>\n",
              "    </tr>\n",
              "    <tr>\n",
              "      <th>married</th>\n",
              "      <td>89.8400</td>\n",
              "      <td>10.1600</td>\n",
              "    </tr>\n",
              "    <tr>\n",
              "      <th>single</th>\n",
              "      <td>86.0000</td>\n",
              "      <td>14.0000</td>\n",
              "    </tr>\n",
              "    <tr>\n",
              "      <th>unknown</th>\n",
              "      <td>85.0000</td>\n",
              "      <td>15.0000</td>\n",
              "    </tr>\n",
              "  </tbody>\n",
              "</table>\n",
              "</div>"
            ],
            "text/plain": [
              "y              0       1\n",
              "marital                 \n",
              "divorced 89.6800 10.3200\n",
              "married  89.8400 10.1600\n",
              "single   86.0000 14.0000\n",
              "unknown  85.0000 15.0000"
            ]
          },
          "metadata": {
            "tags": []
          },
          "execution_count": 28
        }
      ]
    },
    {
      "metadata": {
        "id": "TbS_zifVuzdz",
        "colab_type": "code",
        "outputId": "5adf2598-bcc3-478c-f392-39208602faef",
        "colab": {
          "base_uri": "https://localhost:8080/",
          "height": 365
        }
      },
      "cell_type": "code",
      "source": [
        "# Grafig Ausgeben > Verhältnis zu y\n",
        "data.hist(column=\"marital\",by=\"y\",bins=50)\n"
      ],
      "execution_count": 0,
      "outputs": [
        {
          "output_type": "execute_result",
          "data": {
            "text/plain": [
              "array([<matplotlib.axes._subplots.AxesSubplot object at 0x7ff8baa237f0>,\n",
              "       <matplotlib.axes._subplots.AxesSubplot object at 0x7ff8ba9c5a58>],\n",
              "      dtype=object)"
            ]
          },
          "metadata": {
            "tags": []
          },
          "execution_count": 29
        },
        {
          "output_type": "display_data",
          "data": {
            "image/png": "[encoded data removed]",
            "text/plain": [
              "<matplotlib.figure.Figure at 0x7ff8baa262e8>"
            ]
          },
          "metadata": {
            "tags": []
          }
        }
      ]
    },
    {
      "metadata": {
        "id": "UXDJ11KHHw1m",
        "colab_type": "code",
        "colab": {}
      },
      "cell_type": "code",
      "source": [
        "\n",
        "\n"
      ],
      "execution_count": 0,
      "outputs": []
    },
    {
      "metadata": {
        "id": "to3GBujepDu9",
        "colab_type": "text"
      },
      "cell_type": "markdown",
      "source": [
        "###4 education\n",
        "Bildung > Kategorie"
      ]
    },
    {
      "metadata": {
        "id": "gV6KKcAKzxVa",
        "colab_type": "code",
        "outputId": "d8a7704c-7b86-4b52-f019-2e7a40bf916f",
        "colab": {
          "base_uri": "https://localhost:8080/",
          "height": 332
        }
      },
      "cell_type": "code",
      "source": [
        " #Prozentual zeilenweise \n",
        "pd.crosstab(index=data['education'], columns=data['y'], margins=False).apply(lambda zeile: zeile/zeile.sum(), axis=1).round(4)*100"
      ],
      "execution_count": 0,
      "outputs": [
        {
          "output_type": "execute_result",
          "data": {
            "text/html": [
              "<div>\n",
              "<style scoped>\n",
              "    .dataframe tbody tr th:only-of-type {\n",
              "        vertical-align: middle;\n",
              "    }\n",
              "\n",
              "    .dataframe tbody tr th {\n",
              "        vertical-align: top;\n",
              "    }\n",
              "\n",
              "    .dataframe thead th {\n",
              "        text-align: right;\n",
              "    }\n",
              "</style>\n",
              "<table border=\"1\" class=\"dataframe\">\n",
              "  <thead>\n",
              "    <tr style=\"text-align: right;\">\n",
              "      <th>y</th>\n",
              "      <th>0</th>\n",
              "      <th>1</th>\n",
              "    </tr>\n",
              "    <tr>\n",
              "      <th>education</th>\n",
              "      <th></th>\n",
              "      <th></th>\n",
              "    </tr>\n",
              "  </thead>\n",
              "  <tbody>\n",
              "    <tr>\n",
              "      <th>basic.4y</th>\n",
              "      <td>89.7500</td>\n",
              "      <td>10.2500</td>\n",
              "    </tr>\n",
              "    <tr>\n",
              "      <th>basic.6y</th>\n",
              "      <td>91.8000</td>\n",
              "      <td>8.2000</td>\n",
              "    </tr>\n",
              "    <tr>\n",
              "      <th>basic.9y</th>\n",
              "      <td>92.1800</td>\n",
              "      <td>7.8200</td>\n",
              "    </tr>\n",
              "    <tr>\n",
              "      <th>high.school</th>\n",
              "      <td>89.1600</td>\n",
              "      <td>10.8400</td>\n",
              "    </tr>\n",
              "    <tr>\n",
              "      <th>illiterate</th>\n",
              "      <td>77.7800</td>\n",
              "      <td>22.2200</td>\n",
              "    </tr>\n",
              "    <tr>\n",
              "      <th>professional.course</th>\n",
              "      <td>88.6500</td>\n",
              "      <td>11.3500</td>\n",
              "    </tr>\n",
              "    <tr>\n",
              "      <th>university.degree</th>\n",
              "      <td>86.2800</td>\n",
              "      <td>13.7200</td>\n",
              "    </tr>\n",
              "    <tr>\n",
              "      <th>unknown</th>\n",
              "      <td>85.5000</td>\n",
              "      <td>14.5000</td>\n",
              "    </tr>\n",
              "  </tbody>\n",
              "</table>\n",
              "</div>"
            ],
            "text/plain": [
              "y                         0       1\n",
              "education                          \n",
              "basic.4y            89.7500 10.2500\n",
              "basic.6y            91.8000  8.2000\n",
              "basic.9y            92.1800  7.8200\n",
              "high.school         89.1600 10.8400\n",
              "illiterate          77.7800 22.2200\n",
              "professional.course 88.6500 11.3500\n",
              "university.degree   86.2800 13.7200\n",
              "unknown             85.5000 14.5000"
            ]
          },
          "metadata": {
            "tags": []
          },
          "execution_count": 30
        }
      ]
    },
    {
      "metadata": {
        "id": "jpxk9l56vbOI",
        "colab_type": "code",
        "outputId": "d7f8b6ff-c35c-456d-a785-6292ce5b4237",
        "colab": {
          "base_uri": "https://localhost:8080/",
          "height": 411
        }
      },
      "cell_type": "code",
      "source": [
        "# Grafig Ausgeben > Verhältnis zu y \n",
        "data.hist(column=\"education\",by=\"y\",bins=50)"
      ],
      "execution_count": 0,
      "outputs": [
        {
          "output_type": "execute_result",
          "data": {
            "text/plain": [
              "array([<matplotlib.axes._subplots.AxesSubplot object at 0x7ff8ba8ef4a8>,\n",
              "       <matplotlib.axes._subplots.AxesSubplot object at 0x7ff8ba7c9cc0>],\n",
              "      dtype=object)"
            ]
          },
          "metadata": {
            "tags": []
          },
          "execution_count": 31
        },
        {
          "output_type": "display_data",
          "data": {
            "image/png": "[encoded data removed]",
            "text/plain": [
              "<matplotlib.figure.Figure at 0x7ff8ba8704a8>"
            ]
          },
          "metadata": {
            "tags": []
          }
        }
      ]
    },
    {
      "metadata": {
        "id": "fJfH-SAQH_a3",
        "colab_type": "code",
        "colab": {}
      },
      "cell_type": "code",
      "source": [
        ""
      ],
      "execution_count": 0,
      "outputs": []
    },
    {
      "metadata": {
        "id": "CcxhVS1RXgQT",
        "colab_type": "text"
      },
      "cell_type": "markdown",
      "source": [
        "## Grafische Analyse"
      ]
    },
    {
      "metadata": {
        "id": "t1MrN3auWyKA",
        "colab_type": "code",
        "outputId": "599ec90b-ef56-49a4-eb41-3590491ff072",
        "colab": {
          "base_uri": "https://localhost:8080/",
          "height": 585
        }
      },
      "cell_type": "code",
      "source": [
        "fig = plt.figure(figsize=(20, 8))\n",
        "\n",
        "ax1 = fig.add_subplot(231)\n",
        "data.groupby('age_class').size().plot(kind='bar', ax=ax1)\n",
        "\n",
        "ax2 = fig.add_subplot(232)\n",
        "data.groupby('job').size().plot(kind='bar', ax=ax2)\n",
        "\n",
        "\n",
        "ax3 = fig.add_subplot(234)\n",
        "data.groupby(['age_class', 'y']).size().groupby(level=0).apply(lambda x: 100 * x / x.sum()).unstack().plot(kind='bar', stacked=True, ax=ax3)\n",
        "ax3.legend(loc='center left', bbox_to_anchor=(1, 0.5))\n",
        "\n",
        "ax4 = fig.add_subplot(235)\n",
        "data.groupby(['job', 'y']).size().groupby(level=0).apply(lambda x: 100 * x / x.sum()).unstack().plot(kind='bar', stacked=True, ax=ax4)\n",
        "ax4.legend(loc='center left', bbox_to_anchor=(1, 0.5))\n",
        "\n",
        "\n",
        "plt.tight_layout()\n",
        "plt.show()\n"
      ],
      "execution_count": 0,
      "outputs": [
        {
          "output_type": "display_data",
          "data": {
            "image/png": "[encoded data removed]",
            "text/plain": [
              "<matplotlib.figure.Figure at 0x7ff8ba6eadd8>"
            ]
          },
          "metadata": {
            "tags": []
          }
        }
      ]
    },
    {
      "metadata": {
        "id": "YGhm7RHwXoan",
        "colab_type": "code",
        "outputId": "63a27668-4489-4779-9553-2eb0aed3d96c",
        "colab": {
          "base_uri": "https://localhost:8080/",
          "height": 585
        }
      },
      "cell_type": "code",
      "source": [
        "fig = plt.figure(figsize=(20, 8))\n",
        "\n",
        "ax1 = fig.add_subplot(231)\n",
        "data.groupby('marital').size().plot(kind='bar', ax=ax1)\n",
        "\n",
        "ax2 = fig.add_subplot(232)\n",
        "data.groupby('education').size().plot(kind='bar', ax=ax2)\n",
        "\n",
        "\n",
        "ax3 = fig.add_subplot(234)\n",
        "data.groupby(['marital', 'y']).size().groupby(level=0).apply(lambda x: 100 * x / x.sum()).unstack().plot(kind='bar', stacked=True, ax=ax3)\n",
        "ax3.legend(loc='center left', bbox_to_anchor=(1, 0.5))\n",
        "\n",
        "ax4 = fig.add_subplot(235)\n",
        "data.groupby(['education', 'y']).size().groupby(level=0).apply(lambda x: 100 * x / x.sum()).unstack().plot(kind='bar', stacked=True, ax=ax4)\n",
        "ax4.legend(loc='center left', bbox_to_anchor=(1, 0.5))\n",
        "\n",
        "\n",
        "plt.tight_layout()\n",
        "plt.show()"
      ],
      "execution_count": 0,
      "outputs": [
        {
          "output_type": "display_data",
          "data": {
            "image/png": "[encoded data removed]",
            "text/plain": [
              "<matplotlib.figure.Figure at 0x7ff8ba61b198>"
            ]
          },
          "metadata": {
            "tags": []
          }
        }
      ]
    },
    {
      "metadata": {
        "id": "fAWjyGhroWiX",
        "colab_type": "code",
        "outputId": "d1cbc263-d5af-469b-d644-539bad9d2f0d",
        "colab": {
          "base_uri": "https://localhost:8080/",
          "height": 319
        }
      },
      "cell_type": "code",
      "source": [
        "fig = plt.figure(figsize=(20, 8))\n",
        "\n",
        "\n",
        "\n",
        "ax1 = fig.add_subplot(234)\n",
        "data.groupby(['age_class', 'y']).size().groupby(level=0).apply(lambda x: 100 * x / x.sum()).unstack().plot(kind='bar', stacked=True, ax=ax1)\n",
        "ax3.legend(loc='center left', bbox_to_anchor=(1, 0.5))\n",
        "\n",
        "\n",
        "\n",
        "plt.tight_layout()\n",
        "plt.show()"
      ],
      "execution_count": 0,
      "outputs": [
        {
          "output_type": "display_data",
          "data": {
            "image/png": "[encoded data removed]",
            "text/plain": [
              "<matplotlib.figure.Figure at 0x7ff8b9c596d8>"
            ]
          },
          "metadata": {
            "tags": []
          }
        }
      ]
    },
    {
      "metadata": {
        "id": "i0AlCKMNIIem",
        "colab_type": "code",
        "colab": {}
      },
      "cell_type": "code",
      "source": [
        "#Spalte rausnehmen\n",
        "data.drop(['education'], axis=1, inplace=True)\n",
        "#Spalte rausnehmen\n",
        "data.drop(['marital'], axis=1, inplace=True)\n",
        "#Spalte rausnehmen\n",
        "data.drop(['job', 'age_class'], axis=1, inplace=True)"
      ],
      "execution_count": 0,
      "outputs": []
    },
    {
      "metadata": {
        "id": "Ej8a1h_bUwgu",
        "colab_type": "text"
      },
      "cell_type": "markdown",
      "source": [
        "# Kundendaten über bestehende Produkte"
      ]
    },
    {
      "metadata": {
        "id": "V5pAH6g-pFN1",
        "colab_type": "text"
      },
      "cell_type": "markdown",
      "source": [
        "###5 default\n",
        "Kreditausfall > Kategorie"
      ]
    },
    {
      "metadata": {
        "id": "l26Lmx3R-iyf",
        "colab_type": "code",
        "outputId": "1a616acb-8fc2-47d7-da93-7a431ad107f4",
        "colab": {
          "base_uri": "https://localhost:8080/",
          "height": 175
        }
      },
      "cell_type": "code",
      "source": [
        "#Prozentual zeilenweise \n",
        "pd.crosstab(index=data['default'], columns=data['y'], margins=False).apply(lambda zeile: zeile/zeile.sum(), axis=1).round(4)*100\n"
      ],
      "execution_count": 0,
      "outputs": [
        {
          "output_type": "execute_result",
          "data": {
            "text/html": [
              "<div>\n",
              "<style scoped>\n",
              "    .dataframe tbody tr th:only-of-type {\n",
              "        vertical-align: middle;\n",
              "    }\n",
              "\n",
              "    .dataframe tbody tr th {\n",
              "        vertical-align: top;\n",
              "    }\n",
              "\n",
              "    .dataframe thead th {\n",
              "        text-align: right;\n",
              "    }\n",
              "</style>\n",
              "<table border=\"1\" class=\"dataframe\">\n",
              "  <thead>\n",
              "    <tr style=\"text-align: right;\">\n",
              "      <th>y</th>\n",
              "      <th>0</th>\n",
              "      <th>1</th>\n",
              "    </tr>\n",
              "    <tr>\n",
              "      <th>default</th>\n",
              "      <th></th>\n",
              "      <th></th>\n",
              "    </tr>\n",
              "  </thead>\n",
              "  <tbody>\n",
              "    <tr>\n",
              "      <th>no</th>\n",
              "      <td>87.1200</td>\n",
              "      <td>12.8800</td>\n",
              "    </tr>\n",
              "    <tr>\n",
              "      <th>unknown</th>\n",
              "      <td>94.8500</td>\n",
              "      <td>5.1500</td>\n",
              "    </tr>\n",
              "    <tr>\n",
              "      <th>yes</th>\n",
              "      <td>100.0000</td>\n",
              "      <td>0.0000</td>\n",
              "    </tr>\n",
              "  </tbody>\n",
              "</table>\n",
              "</div>"
            ],
            "text/plain": [
              "y              0       1\n",
              "default                 \n",
              "no       87.1200 12.8800\n",
              "unknown  94.8500  5.1500\n",
              "yes     100.0000  0.0000"
            ]
          },
          "metadata": {
            "tags": []
          },
          "execution_count": 35
        }
      ]
    },
    {
      "metadata": {
        "id": "_5aGaaLVBQB8",
        "colab_type": "code",
        "outputId": "0f2a794d-8847-49a2-8421-4b47de06e11b",
        "colab": {
          "base_uri": "https://localhost:8080/",
          "height": 91
        }
      },
      "cell_type": "code",
      "source": [
        "data['default'].value_counts() #Inhalte Zählen"
      ],
      "execution_count": 0,
      "outputs": [
        {
          "output_type": "execute_result",
          "data": {
            "text/plain": [
              "no         32588\n",
              "unknown     8597\n",
              "yes            3\n",
              "Name: default, dtype: int64"
            ]
          },
          "metadata": {
            "tags": []
          },
          "execution_count": 36
        }
      ]
    },
    {
      "metadata": {
        "id": "fsLiV-T6pG4h",
        "colab_type": "text"
      },
      "cell_type": "markdown",
      "source": [
        "### 6 housing\n",
        "Immobilienkredit >> Kategorie"
      ]
    },
    {
      "metadata": {
        "id": "QYwFs9wT-2iP",
        "colab_type": "code",
        "outputId": "4d147517-a71b-4805-f48f-5ac2e6e17d3b",
        "colab": {
          "base_uri": "https://localhost:8080/",
          "height": 175
        }
      },
      "cell_type": "code",
      "source": [
        " #Prozentual zeilenweise \n",
        "pd.crosstab(index=data['housing'], columns=data['y'], margins=False).apply(lambda zeile: zeile/zeile.sum(), axis=1).round(4)*100\n"
      ],
      "execution_count": 0,
      "outputs": [
        {
          "output_type": "execute_result",
          "data": {
            "text/html": [
              "<div>\n",
              "<style scoped>\n",
              "    .dataframe tbody tr th:only-of-type {\n",
              "        vertical-align: middle;\n",
              "    }\n",
              "\n",
              "    .dataframe tbody tr th {\n",
              "        vertical-align: top;\n",
              "    }\n",
              "\n",
              "    .dataframe thead th {\n",
              "        text-align: right;\n",
              "    }\n",
              "</style>\n",
              "<table border=\"1\" class=\"dataframe\">\n",
              "  <thead>\n",
              "    <tr style=\"text-align: right;\">\n",
              "      <th>y</th>\n",
              "      <th>0</th>\n",
              "      <th>1</th>\n",
              "    </tr>\n",
              "    <tr>\n",
              "      <th>housing</th>\n",
              "      <th></th>\n",
              "      <th></th>\n",
              "    </tr>\n",
              "  </thead>\n",
              "  <tbody>\n",
              "    <tr>\n",
              "      <th>no</th>\n",
              "      <td>89.1200</td>\n",
              "      <td>10.8800</td>\n",
              "    </tr>\n",
              "    <tr>\n",
              "      <th>unknown</th>\n",
              "      <td>89.1900</td>\n",
              "      <td>10.8100</td>\n",
              "    </tr>\n",
              "    <tr>\n",
              "      <th>yes</th>\n",
              "      <td>88.3800</td>\n",
              "      <td>11.6200</td>\n",
              "    </tr>\n",
              "  </tbody>\n",
              "</table>\n",
              "</div>"
            ],
            "text/plain": [
              "y             0       1\n",
              "housing                \n",
              "no      89.1200 10.8800\n",
              "unknown 89.1900 10.8100\n",
              "yes     88.3800 11.6200"
            ]
          },
          "metadata": {
            "tags": []
          },
          "execution_count": 37
        }
      ]
    },
    {
      "metadata": {
        "id": "yE0c6ZiTpIsF",
        "colab_type": "text"
      },
      "cell_type": "markdown",
      "source": [
        "###7 loan \n",
        "Kredit (Darlehn) > Kategorie"
      ]
    },
    {
      "metadata": {
        "id": "x5km5AGe_WV8",
        "colab_type": "code",
        "outputId": "e07dff63-bf39-436c-f927-048a689c6de4",
        "colab": {
          "base_uri": "https://localhost:8080/",
          "height": 175
        }
      },
      "cell_type": "code",
      "source": [
        " #Prozentual zeilenweise \n",
        "pd.crosstab(index=data['loan'], columns=data['y'], margins=False).apply(lambda zeile: zeile/zeile.sum(), axis=1).round(4)*100\n"
      ],
      "execution_count": 0,
      "outputs": [
        {
          "output_type": "execute_result",
          "data": {
            "text/html": [
              "<div>\n",
              "<style scoped>\n",
              "    .dataframe tbody tr th:only-of-type {\n",
              "        vertical-align: middle;\n",
              "    }\n",
              "\n",
              "    .dataframe tbody tr th {\n",
              "        vertical-align: top;\n",
              "    }\n",
              "\n",
              "    .dataframe thead th {\n",
              "        text-align: right;\n",
              "    }\n",
              "</style>\n",
              "<table border=\"1\" class=\"dataframe\">\n",
              "  <thead>\n",
              "    <tr style=\"text-align: right;\">\n",
              "      <th>y</th>\n",
              "      <th>0</th>\n",
              "      <th>1</th>\n",
              "    </tr>\n",
              "    <tr>\n",
              "      <th>loan</th>\n",
              "      <th></th>\n",
              "      <th></th>\n",
              "    </tr>\n",
              "  </thead>\n",
              "  <tbody>\n",
              "    <tr>\n",
              "      <th>no</th>\n",
              "      <td>88.6600</td>\n",
              "      <td>11.3400</td>\n",
              "    </tr>\n",
              "    <tr>\n",
              "      <th>unknown</th>\n",
              "      <td>89.1900</td>\n",
              "      <td>10.8100</td>\n",
              "    </tr>\n",
              "    <tr>\n",
              "      <th>yes</th>\n",
              "      <td>89.0700</td>\n",
              "      <td>10.9300</td>\n",
              "    </tr>\n",
              "  </tbody>\n",
              "</table>\n",
              "</div>"
            ],
            "text/plain": [
              "y             0       1\n",
              "loan                   \n",
              "no      88.6600 11.3400\n",
              "unknown 89.1900 10.8100\n",
              "yes     89.0700 10.9300"
            ]
          },
          "metadata": {
            "tags": []
          },
          "execution_count": 38
        }
      ]
    },
    {
      "metadata": {
        "id": "sM2DluvvZJvv",
        "colab_type": "text"
      },
      "cell_type": "markdown",
      "source": [
        "## grafische Analyse"
      ]
    },
    {
      "metadata": {
        "id": "gwrzzfo3ZNmx",
        "colab_type": "code",
        "outputId": "8464bd76-a35a-47cf-c90a-e3d4f29166cc",
        "colab": {
          "base_uri": "https://localhost:8080/",
          "height": 585
        }
      },
      "cell_type": "code",
      "source": [
        "fig = plt.figure(figsize=(20, 8))\n",
        "\n",
        "ax1 = fig.add_subplot(231)\n",
        "data.groupby('default').size().plot(kind='bar', ax=ax1)\n",
        "\n",
        "ax2 = fig.add_subplot(232)\n",
        "data.groupby('housing').size().plot(kind='bar', ax=ax2)\n",
        "\n",
        "ax3 = fig.add_subplot(233)\n",
        "data.groupby('loan').size().plot(kind='bar', ax=ax3)\n",
        "\n",
        "ax4 = fig.add_subplot(234)\n",
        "data.groupby(['default', 'y']).size().groupby(level=0).apply(lambda x: 100 * x / x.sum()).unstack().plot(kind='bar', stacked=True, ax=ax4)\n",
        "ax4.legend(loc='center left', bbox_to_anchor=(1, 0.5))\n",
        "\n",
        "ax5 = fig.add_subplot(235)\n",
        "data.groupby(['housing', 'y']).size().groupby(level=0).apply(lambda x: 100 * x / x.sum()).unstack().plot(kind='bar', stacked=True, ax=ax5)\n",
        "ax5.legend(loc='center left', bbox_to_anchor=(1, 0.5))\n",
        "\n",
        "ax6 = fig.add_subplot(236)\n",
        "data.groupby(['loan', 'y']).size().groupby(level=0).apply(lambda x: 100 * x / x.sum()).unstack().plot(kind='bar', stacked=True, ax=ax6)\n",
        "ax6.legend(loc='center left', bbox_to_anchor=(1, 0.5))\n",
        "\n",
        "plt.tight_layout()\n",
        "plt.show()"
      ],
      "execution_count": 0,
      "outputs": [
        {
          "output_type": "display_data",
          "data": {
            "image/png": "[encoded data removed]",
            "text/plain": [
              "<matplotlib.figure.Figure at 0x7ff8ba6a2f60>"
            ]
          },
          "metadata": {
            "tags": []
          }
        }
      ]
    },
    {
      "metadata": {
        "id": "NBaw25tgIg7g",
        "colab_type": "code",
        "colab": {}
      },
      "cell_type": "code",
      "source": [
        "#Spalte rausnehmen\n",
        "data.drop(['default', 'housing', 'loan'], axis=1, inplace=True)"
      ],
      "execution_count": 0,
      "outputs": []
    },
    {
      "metadata": {
        "id": "od9HlFgDU9of",
        "colab_type": "text"
      },
      "cell_type": "markdown",
      "source": [
        "# Kundenkontakt"
      ]
    },
    {
      "metadata": {
        "id": "51qy3GY2pJqf",
        "colab_type": "text"
      },
      "cell_type": "markdown",
      "source": [
        "###8 contact\n",
        "Kontaktart (telefon etc...) > Kategorie"
      ]
    },
    {
      "metadata": {
        "id": "h_cB6Xb5_iUB",
        "colab_type": "code",
        "outputId": "f81f5b21-cad1-4407-b8e2-c68d26e9dfc7",
        "colab": {
          "base_uri": "https://localhost:8080/",
          "height": 144
        }
      },
      "cell_type": "code",
      "source": [
        "#Prozentual zeilenweise \n",
        "pd.crosstab(index=data['contact'], columns=data['y'], margins=False).apply(lambda zeile: zeile/zeile.sum(), axis=1).round(4)*100\n"
      ],
      "execution_count": 0,
      "outputs": [
        {
          "output_type": "execute_result",
          "data": {
            "text/html": [
              "<div>\n",
              "<style scoped>\n",
              "    .dataframe tbody tr th:only-of-type {\n",
              "        vertical-align: middle;\n",
              "    }\n",
              "\n",
              "    .dataframe tbody tr th {\n",
              "        vertical-align: top;\n",
              "    }\n",
              "\n",
              "    .dataframe thead th {\n",
              "        text-align: right;\n",
              "    }\n",
              "</style>\n",
              "<table border=\"1\" class=\"dataframe\">\n",
              "  <thead>\n",
              "    <tr style=\"text-align: right;\">\n",
              "      <th>y</th>\n",
              "      <th>0</th>\n",
              "      <th>1</th>\n",
              "    </tr>\n",
              "    <tr>\n",
              "      <th>contact</th>\n",
              "      <th></th>\n",
              "      <th></th>\n",
              "    </tr>\n",
              "  </thead>\n",
              "  <tbody>\n",
              "    <tr>\n",
              "      <th>cellular</th>\n",
              "      <td>85.2600</td>\n",
              "      <td>14.7400</td>\n",
              "    </tr>\n",
              "    <tr>\n",
              "      <th>telephone</th>\n",
              "      <td>94.7700</td>\n",
              "      <td>5.2300</td>\n",
              "    </tr>\n",
              "  </tbody>\n",
              "</table>\n",
              "</div>"
            ],
            "text/plain": [
              "y               0       1\n",
              "contact                  \n",
              "cellular  85.2600 14.7400\n",
              "telephone 94.7700  5.2300"
            ]
          },
          "metadata": {
            "tags": []
          },
          "execution_count": 41
        }
      ]
    },
    {
      "metadata": {
        "id": "PwhxC1b6I7rA",
        "colab_type": "code",
        "outputId": "652e958f-4abb-4bb5-9963-59a4e765f2d1",
        "colab": {
          "base_uri": "https://localhost:8080/",
          "height": 73
        }
      },
      "cell_type": "code",
      "source": [
        "#Feature auslesen\t\n",
        "data['contact_class']=data['contact']\n",
        "#Feature kategorisieren\n",
        "data['contact_class'] = [1 if (i == 'cellular') else 0 for i in data['contact_class']]\n",
        "data['contact_class'].value_counts() #Inhalte Zählen\n"
      ],
      "execution_count": 0,
      "outputs": [
        {
          "output_type": "execute_result",
          "data": {
            "text/plain": [
              "1    26144\n",
              "0    15044\n",
              "Name: contact_class, dtype: int64"
            ]
          },
          "metadata": {
            "tags": []
          },
          "execution_count": 42
        }
      ]
    },
    {
      "metadata": {
        "id": "CLa7EFiOpK39",
        "colab_type": "text"
      },
      "cell_type": "markdown",
      "source": [
        "###9 month\n",
        "Monat des Kontaktes > Kategorie"
      ]
    },
    {
      "metadata": {
        "id": "bsVEZj8U_4QY",
        "colab_type": "code",
        "outputId": "7a457fea-5a48-47a5-a795-b1c164ce314d",
        "colab": {
          "base_uri": "https://localhost:8080/",
          "height": 395
        }
      },
      "cell_type": "code",
      "source": [
        " #Prozentual zeilenweise \n",
        "pd.crosstab(index=data['month'], columns=data['y'], margins=False).apply(lambda zeile: zeile/zeile.sum(), axis=1).round(4)*100"
      ],
      "execution_count": 0,
      "outputs": [
        {
          "output_type": "execute_result",
          "data": {
            "text/html": [
              "<div>\n",
              "<style scoped>\n",
              "    .dataframe tbody tr th:only-of-type {\n",
              "        vertical-align: middle;\n",
              "    }\n",
              "\n",
              "    .dataframe tbody tr th {\n",
              "        vertical-align: top;\n",
              "    }\n",
              "\n",
              "    .dataframe thead th {\n",
              "        text-align: right;\n",
              "    }\n",
              "</style>\n",
              "<table border=\"1\" class=\"dataframe\">\n",
              "  <thead>\n",
              "    <tr style=\"text-align: right;\">\n",
              "      <th>y</th>\n",
              "      <th>0</th>\n",
              "      <th>1</th>\n",
              "    </tr>\n",
              "    <tr>\n",
              "      <th>month</th>\n",
              "      <th></th>\n",
              "      <th></th>\n",
              "    </tr>\n",
              "  </thead>\n",
              "  <tbody>\n",
              "    <tr>\n",
              "      <th>apr</th>\n",
              "      <td>79.5200</td>\n",
              "      <td>20.4800</td>\n",
              "    </tr>\n",
              "    <tr>\n",
              "      <th>aug</th>\n",
              "      <td>89.4000</td>\n",
              "      <td>10.6000</td>\n",
              "    </tr>\n",
              "    <tr>\n",
              "      <th>dec</th>\n",
              "      <td>51.1000</td>\n",
              "      <td>48.9000</td>\n",
              "    </tr>\n",
              "    <tr>\n",
              "      <th>jul</th>\n",
              "      <td>90.9500</td>\n",
              "      <td>9.0500</td>\n",
              "    </tr>\n",
              "    <tr>\n",
              "      <th>jun</th>\n",
              "      <td>89.4900</td>\n",
              "      <td>10.5100</td>\n",
              "    </tr>\n",
              "    <tr>\n",
              "      <th>mar</th>\n",
              "      <td>49.4500</td>\n",
              "      <td>50.5500</td>\n",
              "    </tr>\n",
              "    <tr>\n",
              "      <th>may</th>\n",
              "      <td>93.5700</td>\n",
              "      <td>6.4300</td>\n",
              "    </tr>\n",
              "    <tr>\n",
              "      <th>nov</th>\n",
              "      <td>89.8600</td>\n",
              "      <td>10.1400</td>\n",
              "    </tr>\n",
              "    <tr>\n",
              "      <th>oct</th>\n",
              "      <td>56.1300</td>\n",
              "      <td>43.8700</td>\n",
              "    </tr>\n",
              "    <tr>\n",
              "      <th>sep</th>\n",
              "      <td>55.0900</td>\n",
              "      <td>44.9100</td>\n",
              "    </tr>\n",
              "  </tbody>\n",
              "</table>\n",
              "</div>"
            ],
            "text/plain": [
              "y           0       1\n",
              "month                \n",
              "apr   79.5200 20.4800\n",
              "aug   89.4000 10.6000\n",
              "dec   51.1000 48.9000\n",
              "jul   90.9500  9.0500\n",
              "jun   89.4900 10.5100\n",
              "mar   49.4500 50.5500\n",
              "may   93.5700  6.4300\n",
              "nov   89.8600 10.1400\n",
              "oct   56.1300 43.8700\n",
              "sep   55.0900 44.9100"
            ]
          },
          "metadata": {
            "tags": []
          },
          "execution_count": 43
        }
      ]
    },
    {
      "metadata": {
        "id": "MX9oDE_0JmCw",
        "colab_type": "code",
        "outputId": "f2b9ab86-d54d-44aa-f482-04e17012ccc7",
        "colab": {
          "base_uri": "https://localhost:8080/",
          "height": 73
        }
      },
      "cell_type": "code",
      "source": [
        "#Feature auslesen\t\n",
        "data['month_class']=data['month']\n",
        "#Feature kategorisieren\n",
        "data['month_class'] = [1 if (i == 'dec') else i for i in data['month_class']]\n",
        "data['month_class'] = [1 if (i == 'mar') else i for i in data['month_class']]\n",
        "data['month_class'] = [1 if (i == 'oct') else i for i in data['month_class']]\n",
        "data['month_class'] = [1 if (i == 'sep') else 0 for i in data['month_class']]\n",
        "data['month_class'].value_counts() #Inhalte Zählen\n"
      ],
      "execution_count": 0,
      "outputs": [
        {
          "output_type": "execute_result",
          "data": {
            "text/plain": [
              "0    40618\n",
              "1      570\n",
              "Name: month_class, dtype: int64"
            ]
          },
          "metadata": {
            "tags": []
          },
          "execution_count": 44
        }
      ]
    },
    {
      "metadata": {
        "id": "BXJ5yVLupL8h",
        "colab_type": "text"
      },
      "cell_type": "markdown",
      "source": [
        "###10 day_of_week \n",
        "Wochentag > Kategorie"
      ]
    },
    {
      "metadata": {
        "id": "Ma7yGef74slh",
        "colab_type": "code",
        "outputId": "cd9288f2-798d-45b1-d304-935b5ce75ae6",
        "colab": {
          "base_uri": "https://localhost:8080/",
          "height": 238
        }
      },
      "cell_type": "code",
      "source": [
        " #Prozentual zeilenweise \n",
        "pd.crosstab(index=data['day_of_week'], columns=data['y'], margins=False).apply(lambda zeile: zeile/zeile.sum(), axis=1).round(4)*100\n"
      ],
      "execution_count": 0,
      "outputs": [
        {
          "output_type": "execute_result",
          "data": {
            "text/html": [
              "<div>\n",
              "<style scoped>\n",
              "    .dataframe tbody tr th:only-of-type {\n",
              "        vertical-align: middle;\n",
              "    }\n",
              "\n",
              "    .dataframe tbody tr th {\n",
              "        vertical-align: top;\n",
              "    }\n",
              "\n",
              "    .dataframe thead th {\n",
              "        text-align: right;\n",
              "    }\n",
              "</style>\n",
              "<table border=\"1\" class=\"dataframe\">\n",
              "  <thead>\n",
              "    <tr style=\"text-align: right;\">\n",
              "      <th>y</th>\n",
              "      <th>0</th>\n",
              "      <th>1</th>\n",
              "    </tr>\n",
              "    <tr>\n",
              "      <th>day_of_week</th>\n",
              "      <th></th>\n",
              "      <th></th>\n",
              "    </tr>\n",
              "  </thead>\n",
              "  <tbody>\n",
              "    <tr>\n",
              "      <th>fri</th>\n",
              "      <td>89.1900</td>\n",
              "      <td>10.8100</td>\n",
              "    </tr>\n",
              "    <tr>\n",
              "      <th>mon</th>\n",
              "      <td>90.0500</td>\n",
              "      <td>9.9500</td>\n",
              "    </tr>\n",
              "    <tr>\n",
              "      <th>thu</th>\n",
              "      <td>87.8800</td>\n",
              "      <td>12.1200</td>\n",
              "    </tr>\n",
              "    <tr>\n",
              "      <th>tue</th>\n",
              "      <td>88.2200</td>\n",
              "      <td>11.7800</td>\n",
              "    </tr>\n",
              "    <tr>\n",
              "      <th>wed</th>\n",
              "      <td>88.3300</td>\n",
              "      <td>11.6700</td>\n",
              "    </tr>\n",
              "  </tbody>\n",
              "</table>\n",
              "</div>"
            ],
            "text/plain": [
              "y                 0       1\n",
              "day_of_week                \n",
              "fri         89.1900 10.8100\n",
              "mon         90.0500  9.9500\n",
              "thu         87.8800 12.1200\n",
              "tue         88.2200 11.7800\n",
              "wed         88.3300 11.6700"
            ]
          },
          "metadata": {
            "tags": []
          },
          "execution_count": 45
        }
      ]
    },
    {
      "metadata": {
        "id": "m5wBOBshpNg5",
        "colab_type": "text"
      },
      "cell_type": "markdown",
      "source": [
        "###11 duration\n",
        "Kontaktdauer in s > Numerisch >\n",
        "\n",
        "\n",
        "\n"
      ]
    },
    {
      "metadata": {
        "id": "Xb4uSbVPAM9d",
        "colab_type": "code",
        "outputId": "0f00e950-fa4f-4f6a-fa7f-290adc92c242",
        "colab": {
          "base_uri": "https://localhost:8080/",
          "height": 165
        }
      },
      "cell_type": "code",
      "source": [
        "#Feature kategorisieren\n",
        "data['duration_class']=data['duration']\n",
        "data['duration_class'] = [1  if (i >=  0    )&(i < 60  )  else i for i in data['duration_class']]\n",
        "data['duration_class'] = [2  if (i >=  60   )&(i < 120 )  else i for i in data['duration_class']]\n",
        "data['duration_class'] = [3  if (i >=  120  )&(i < 180 )  else i for i in data['duration_class']]\n",
        "data['duration_class'] = [4  if (i >=  180  )&(i < 240 )  else i for i in data['duration_class']]\n",
        "data['duration_class'] = [5  if (i >=  240  )&(i < 300 )  else i for i in data['duration_class']]\n",
        "data['duration_class'] = [10 if (i >=  300  )&(i < 600 )  else i for i in data['duration_class']]\n",
        "data['duration_class'] = [15 if (i >=  600  )&(i < 900 )  else i for i in data['duration_class']]\n",
        "data['duration_class'] = [20 if (i >=  900  )&(i < 1200)  else i for i in data['duration_class']]\n",
        "data['duration_class'] = [25 if (i >=  1200 )&(i < 1500)  else i for i in data['duration_class']]\n",
        "data['duration_class'] = [30 if (i >=  1500 )&(i < 1800)  else i for i in data['duration_class']]\n",
        "data['duration_class'] = [35 if (i >=  1800 )&(i < 2100)  else i for i in data['duration_class']]\n",
        "data['duration_class'] = [40 if (i >=  2100 )&(i < 2400)  else i for i in data['duration_class']]\n",
        "data['duration_class'] = [45 if (i >=  2400 )&(i < 2700)  else i for i in data['duration_class']]\n",
        "data['duration_class'] = [50 if (i >=  2700 )             else i for i in data['duration_class']]\n",
        "data.duration_class.head(7)\n"
      ],
      "execution_count": 0,
      "outputs": [
        {
          "output_type": "execute_result",
          "data": {
            "text/plain": [
              "0     5\n",
              "1     3\n",
              "2     4\n",
              "3     3\n",
              "4    10\n",
              "5     4\n",
              "6     3\n",
              "Name: duration_class, dtype: int64"
            ]
          },
          "metadata": {
            "tags": []
          },
          "execution_count": 46
        }
      ]
    },
    {
      "metadata": {
        "id": "yQLTH-RqBvvN",
        "colab_type": "code",
        "outputId": "17d7a0e0-1d93-4388-c661-0cda42c9b851",
        "colab": {
          "base_uri": "https://localhost:8080/",
          "height": 520
        }
      },
      "cell_type": "code",
      "source": [
        " #Prozentual zeilenweise \n",
        "pd.crosstab(index=data['duration_class'], columns=data['y'], margins=False).apply(lambda zeile: zeile/zeile.sum(), axis=1) .round(4)*100\n"
      ],
      "execution_count": 0,
      "outputs": [
        {
          "output_type": "execute_result",
          "data": {
            "text/html": [
              "<div>\n",
              "<style scoped>\n",
              "    .dataframe tbody tr th:only-of-type {\n",
              "        vertical-align: middle;\n",
              "    }\n",
              "\n",
              "    .dataframe tbody tr th {\n",
              "        vertical-align: top;\n",
              "    }\n",
              "\n",
              "    .dataframe thead th {\n",
              "        text-align: right;\n",
              "    }\n",
              "</style>\n",
              "<table border=\"1\" class=\"dataframe\">\n",
              "  <thead>\n",
              "    <tr style=\"text-align: right;\">\n",
              "      <th>y</th>\n",
              "      <th>0</th>\n",
              "      <th>1</th>\n",
              "    </tr>\n",
              "    <tr>\n",
              "      <th>duration_class</th>\n",
              "      <th></th>\n",
              "      <th></th>\n",
              "    </tr>\n",
              "  </thead>\n",
              "  <tbody>\n",
              "    <tr>\n",
              "      <th>1</th>\n",
              "      <td>99.9800</td>\n",
              "      <td>0.0200</td>\n",
              "    </tr>\n",
              "    <tr>\n",
              "      <th>2</th>\n",
              "      <td>98.1100</td>\n",
              "      <td>1.8900</td>\n",
              "    </tr>\n",
              "    <tr>\n",
              "      <th>3</th>\n",
              "      <td>94.9400</td>\n",
              "      <td>5.0600</td>\n",
              "    </tr>\n",
              "    <tr>\n",
              "      <th>4</th>\n",
              "      <td>91.0800</td>\n",
              "      <td>8.9200</td>\n",
              "    </tr>\n",
              "    <tr>\n",
              "      <th>5</th>\n",
              "      <td>88.0400</td>\n",
              "      <td>11.9600</td>\n",
              "    </tr>\n",
              "    <tr>\n",
              "      <th>10</th>\n",
              "      <td>81.4600</td>\n",
              "      <td>18.5400</td>\n",
              "    </tr>\n",
              "    <tr>\n",
              "      <th>15</th>\n",
              "      <td>57.7000</td>\n",
              "      <td>42.3000</td>\n",
              "    </tr>\n",
              "    <tr>\n",
              "      <th>20</th>\n",
              "      <td>42.6500</td>\n",
              "      <td>57.3500</td>\n",
              "    </tr>\n",
              "    <tr>\n",
              "      <th>25</th>\n",
              "      <td>37.9900</td>\n",
              "      <td>62.0100</td>\n",
              "    </tr>\n",
              "    <tr>\n",
              "      <th>30</th>\n",
              "      <td>33.9600</td>\n",
              "      <td>66.0400</td>\n",
              "    </tr>\n",
              "    <tr>\n",
              "      <th>35</th>\n",
              "      <td>39.2900</td>\n",
              "      <td>60.7100</td>\n",
              "    </tr>\n",
              "    <tr>\n",
              "      <th>40</th>\n",
              "      <td>42.8600</td>\n",
              "      <td>57.1400</td>\n",
              "    </tr>\n",
              "    <tr>\n",
              "      <th>45</th>\n",
              "      <td>23.0800</td>\n",
              "      <td>76.9200</td>\n",
              "    </tr>\n",
              "    <tr>\n",
              "      <th>50</th>\n",
              "      <td>55.5600</td>\n",
              "      <td>44.4400</td>\n",
              "    </tr>\n",
              "  </tbody>\n",
              "</table>\n",
              "</div>"
            ],
            "text/plain": [
              "y                    0       1\n",
              "duration_class                \n",
              "1              99.9800  0.0200\n",
              "2              98.1100  1.8900\n",
              "3              94.9400  5.0600\n",
              "4              91.0800  8.9200\n",
              "5              88.0400 11.9600\n",
              "10             81.4600 18.5400\n",
              "15             57.7000 42.3000\n",
              "20             42.6500 57.3500\n",
              "25             37.9900 62.0100\n",
              "30             33.9600 66.0400\n",
              "35             39.2900 60.7100\n",
              "40             42.8600 57.1400\n",
              "45             23.0800 76.9200\n",
              "50             55.5600 44.4400"
            ]
          },
          "metadata": {
            "tags": []
          },
          "execution_count": 47
        }
      ]
    },
    {
      "metadata": {
        "id": "EyupYx0ApO-K",
        "colab_type": "text"
      },
      "cell_type": "markdown",
      "source": [
        "###12 campaign\n",
        "Anzahl Kontakte > numerisch"
      ]
    },
    {
      "metadata": {
        "id": "QhrYprtNVWHP",
        "colab_type": "code",
        "outputId": "7d96daff-7340-4c0b-ebe8-4fc5bfb03dab",
        "colab": {
          "base_uri": "https://localhost:8080/",
          "height": 336
        }
      },
      "cell_type": "code",
      "source": [
        "data.hist(column=\"campaign\",by=\"y\",bins=50)"
      ],
      "execution_count": 0,
      "outputs": [
        {
          "output_type": "execute_result",
          "data": {
            "text/plain": [
              "array([<matplotlib.axes._subplots.AxesSubplot object at 0x7ff8ba4f4048>,\n",
              "       <matplotlib.axes._subplots.AxesSubplot object at 0x7ff8ba1cdc18>],\n",
              "      dtype=object)"
            ]
          },
          "metadata": {
            "tags": []
          },
          "execution_count": 48
        },
        {
          "output_type": "display_data",
          "data": {
            "image/png": "[encoded data removed]",
            "text/plain": [
              "<matplotlib.figure.Figure at 0x7ff8ba76ec18>"
            ]
          },
          "metadata": {
            "tags": []
          }
        }
      ]
    },
    {
      "metadata": {
        "id": "BKPsKYexUvz9",
        "colab_type": "code",
        "outputId": "d6cc9cd6-d5c1-4916-904c-ff4a9e582267",
        "colab": {
          "base_uri": "https://localhost:8080/",
          "height": 1398
        }
      },
      "cell_type": "code",
      "source": [
        "#Prozentual zeilenweise \n",
        "pd.crosstab(index=data['campaign'], columns=data['y'], margins=False).apply(lambda zeile: zeile/zeile.sum(), axis=1) .round(4)*100\n"
      ],
      "execution_count": 0,
      "outputs": [
        {
          "output_type": "execute_result",
          "data": {
            "text/html": [
              "<div>\n",
              "<style scoped>\n",
              "    .dataframe tbody tr th:only-of-type {\n",
              "        vertical-align: middle;\n",
              "    }\n",
              "\n",
              "    .dataframe tbody tr th {\n",
              "        vertical-align: top;\n",
              "    }\n",
              "\n",
              "    .dataframe thead th {\n",
              "        text-align: right;\n",
              "    }\n",
              "</style>\n",
              "<table border=\"1\" class=\"dataframe\">\n",
              "  <thead>\n",
              "    <tr style=\"text-align: right;\">\n",
              "      <th>y</th>\n",
              "      <th>0</th>\n",
              "      <th>1</th>\n",
              "    </tr>\n",
              "    <tr>\n",
              "      <th>campaign</th>\n",
              "      <th></th>\n",
              "      <th></th>\n",
              "    </tr>\n",
              "  </thead>\n",
              "  <tbody>\n",
              "    <tr>\n",
              "      <th>1</th>\n",
              "      <td>86.9600</td>\n",
              "      <td>13.0400</td>\n",
              "    </tr>\n",
              "    <tr>\n",
              "      <th>2</th>\n",
              "      <td>88.5400</td>\n",
              "      <td>11.4600</td>\n",
              "    </tr>\n",
              "    <tr>\n",
              "      <th>3</th>\n",
              "      <td>89.2500</td>\n",
              "      <td>10.7500</td>\n",
              "    </tr>\n",
              "    <tr>\n",
              "      <th>4</th>\n",
              "      <td>90.6100</td>\n",
              "      <td>9.3900</td>\n",
              "    </tr>\n",
              "    <tr>\n",
              "      <th>5</th>\n",
              "      <td>92.5000</td>\n",
              "      <td>7.5000</td>\n",
              "    </tr>\n",
              "    <tr>\n",
              "      <th>6</th>\n",
              "      <td>92.3400</td>\n",
              "      <td>7.6600</td>\n",
              "    </tr>\n",
              "    <tr>\n",
              "      <th>7</th>\n",
              "      <td>93.9600</td>\n",
              "      <td>6.0400</td>\n",
              "    </tr>\n",
              "    <tr>\n",
              "      <th>8</th>\n",
              "      <td>95.7500</td>\n",
              "      <td>4.2500</td>\n",
              "    </tr>\n",
              "    <tr>\n",
              "      <th>9</th>\n",
              "      <td>93.9900</td>\n",
              "      <td>6.0100</td>\n",
              "    </tr>\n",
              "    <tr>\n",
              "      <th>10</th>\n",
              "      <td>94.6700</td>\n",
              "      <td>5.3300</td>\n",
              "    </tr>\n",
              "    <tr>\n",
              "      <th>11</th>\n",
              "      <td>93.2200</td>\n",
              "      <td>6.7800</td>\n",
              "    </tr>\n",
              "    <tr>\n",
              "      <th>12</th>\n",
              "      <td>97.6000</td>\n",
              "      <td>2.4000</td>\n",
              "    </tr>\n",
              "    <tr>\n",
              "      <th>13</th>\n",
              "      <td>95.6500</td>\n",
              "      <td>4.3500</td>\n",
              "    </tr>\n",
              "    <tr>\n",
              "      <th>14</th>\n",
              "      <td>98.5500</td>\n",
              "      <td>1.4500</td>\n",
              "    </tr>\n",
              "    <tr>\n",
              "      <th>15</th>\n",
              "      <td>96.0800</td>\n",
              "      <td>3.9200</td>\n",
              "    </tr>\n",
              "    <tr>\n",
              "      <th>16</th>\n",
              "      <td>100.0000</td>\n",
              "      <td>0.0000</td>\n",
              "    </tr>\n",
              "    <tr>\n",
              "      <th>17</th>\n",
              "      <td>93.1000</td>\n",
              "      <td>6.9000</td>\n",
              "    </tr>\n",
              "    <tr>\n",
              "      <th>18</th>\n",
              "      <td>100.0000</td>\n",
              "      <td>0.0000</td>\n",
              "    </tr>\n",
              "    <tr>\n",
              "      <th>19</th>\n",
              "      <td>100.0000</td>\n",
              "      <td>0.0000</td>\n",
              "    </tr>\n",
              "    <tr>\n",
              "      <th>20</th>\n",
              "      <td>100.0000</td>\n",
              "      <td>0.0000</td>\n",
              "    </tr>\n",
              "    <tr>\n",
              "      <th>21</th>\n",
              "      <td>100.0000</td>\n",
              "      <td>0.0000</td>\n",
              "    </tr>\n",
              "    <tr>\n",
              "      <th>22</th>\n",
              "      <td>100.0000</td>\n",
              "      <td>0.0000</td>\n",
              "    </tr>\n",
              "    <tr>\n",
              "      <th>23</th>\n",
              "      <td>93.7500</td>\n",
              "      <td>6.2500</td>\n",
              "    </tr>\n",
              "    <tr>\n",
              "      <th>24</th>\n",
              "      <td>100.0000</td>\n",
              "      <td>0.0000</td>\n",
              "    </tr>\n",
              "    <tr>\n",
              "      <th>25</th>\n",
              "      <td>100.0000</td>\n",
              "      <td>0.0000</td>\n",
              "    </tr>\n",
              "    <tr>\n",
              "      <th>26</th>\n",
              "      <td>100.0000</td>\n",
              "      <td>0.0000</td>\n",
              "    </tr>\n",
              "    <tr>\n",
              "      <th>27</th>\n",
              "      <td>100.0000</td>\n",
              "      <td>0.0000</td>\n",
              "    </tr>\n",
              "    <tr>\n",
              "      <th>28</th>\n",
              "      <td>100.0000</td>\n",
              "      <td>0.0000</td>\n",
              "    </tr>\n",
              "    <tr>\n",
              "      <th>29</th>\n",
              "      <td>100.0000</td>\n",
              "      <td>0.0000</td>\n",
              "    </tr>\n",
              "    <tr>\n",
              "      <th>30</th>\n",
              "      <td>100.0000</td>\n",
              "      <td>0.0000</td>\n",
              "    </tr>\n",
              "    <tr>\n",
              "      <th>31</th>\n",
              "      <td>100.0000</td>\n",
              "      <td>0.0000</td>\n",
              "    </tr>\n",
              "    <tr>\n",
              "      <th>32</th>\n",
              "      <td>100.0000</td>\n",
              "      <td>0.0000</td>\n",
              "    </tr>\n",
              "    <tr>\n",
              "      <th>33</th>\n",
              "      <td>100.0000</td>\n",
              "      <td>0.0000</td>\n",
              "    </tr>\n",
              "    <tr>\n",
              "      <th>34</th>\n",
              "      <td>100.0000</td>\n",
              "      <td>0.0000</td>\n",
              "    </tr>\n",
              "    <tr>\n",
              "      <th>35</th>\n",
              "      <td>100.0000</td>\n",
              "      <td>0.0000</td>\n",
              "    </tr>\n",
              "    <tr>\n",
              "      <th>37</th>\n",
              "      <td>100.0000</td>\n",
              "      <td>0.0000</td>\n",
              "    </tr>\n",
              "    <tr>\n",
              "      <th>39</th>\n",
              "      <td>100.0000</td>\n",
              "      <td>0.0000</td>\n",
              "    </tr>\n",
              "    <tr>\n",
              "      <th>40</th>\n",
              "      <td>100.0000</td>\n",
              "      <td>0.0000</td>\n",
              "    </tr>\n",
              "    <tr>\n",
              "      <th>41</th>\n",
              "      <td>100.0000</td>\n",
              "      <td>0.0000</td>\n",
              "    </tr>\n",
              "    <tr>\n",
              "      <th>42</th>\n",
              "      <td>100.0000</td>\n",
              "      <td>0.0000</td>\n",
              "    </tr>\n",
              "    <tr>\n",
              "      <th>43</th>\n",
              "      <td>100.0000</td>\n",
              "      <td>0.0000</td>\n",
              "    </tr>\n",
              "    <tr>\n",
              "      <th>56</th>\n",
              "      <td>100.0000</td>\n",
              "      <td>0.0000</td>\n",
              "    </tr>\n",
              "  </tbody>\n",
              "</table>\n",
              "</div>"
            ],
            "text/plain": [
              "y               0       1\n",
              "campaign                 \n",
              "1         86.9600 13.0400\n",
              "2         88.5400 11.4600\n",
              "3         89.2500 10.7500\n",
              "4         90.6100  9.3900\n",
              "5         92.5000  7.5000\n",
              "6         92.3400  7.6600\n",
              "7         93.9600  6.0400\n",
              "8         95.7500  4.2500\n",
              "9         93.9900  6.0100\n",
              "10        94.6700  5.3300\n",
              "11        93.2200  6.7800\n",
              "12        97.6000  2.4000\n",
              "13        95.6500  4.3500\n",
              "14        98.5500  1.4500\n",
              "15        96.0800  3.9200\n",
              "16       100.0000  0.0000\n",
              "17        93.1000  6.9000\n",
              "18       100.0000  0.0000\n",
              "19       100.0000  0.0000\n",
              "20       100.0000  0.0000\n",
              "21       100.0000  0.0000\n",
              "22       100.0000  0.0000\n",
              "23        93.7500  6.2500\n",
              "24       100.0000  0.0000\n",
              "25       100.0000  0.0000\n",
              "26       100.0000  0.0000\n",
              "27       100.0000  0.0000\n",
              "28       100.0000  0.0000\n",
              "29       100.0000  0.0000\n",
              "30       100.0000  0.0000\n",
              "31       100.0000  0.0000\n",
              "32       100.0000  0.0000\n",
              "33       100.0000  0.0000\n",
              "34       100.0000  0.0000\n",
              "35       100.0000  0.0000\n",
              "37       100.0000  0.0000\n",
              "39       100.0000  0.0000\n",
              "40       100.0000  0.0000\n",
              "41       100.0000  0.0000\n",
              "42       100.0000  0.0000\n",
              "43       100.0000  0.0000\n",
              "56       100.0000  0.0000"
            ]
          },
          "metadata": {
            "tags": []
          },
          "execution_count": 49
        }
      ]
    },
    {
      "metadata": {
        "id": "nIxF3iZUpR8K",
        "colab_type": "text"
      },
      "cell_type": "markdown",
      "source": [
        "###13 pdays\n",
        "Vergangene Tage bis zum Kontakt der letzten campain > Numerisch > 999 = kein vorheriger Kontakt"
      ]
    },
    {
      "metadata": {
        "id": "9ST78B4qvpM8",
        "colab_type": "code",
        "outputId": "7b2415a0-1ba7-4861-b566-b98bb54f23f1",
        "colab": {
          "base_uri": "https://localhost:8080/",
          "height": 535
        }
      },
      "cell_type": "code",
      "source": [
        "data['pdays'].value_counts()#Inhalte Zählen"
      ],
      "execution_count": 0,
      "outputs": [
        {
          "output_type": "execute_result",
          "data": {
            "text/plain": [
              "999    39673\n",
              "3        439\n",
              "6        412\n",
              "4        118\n",
              "9         64\n",
              "2         61\n",
              "7         60\n",
              "12        58\n",
              "10        52\n",
              "5         46\n",
              "13        36\n",
              "11        28\n",
              "1         26\n",
              "15        24\n",
              "14        20\n",
              "8         18\n",
              "0         15\n",
              "16        11\n",
              "17         8\n",
              "18         7\n",
              "19         3\n",
              "22         3\n",
              "21         2\n",
              "26         1\n",
              "20         1\n",
              "25         1\n",
              "27         1\n",
              "Name: pdays, dtype: int64"
            ]
          },
          "metadata": {
            "tags": []
          },
          "execution_count": 50
        }
      ]
    },
    {
      "metadata": {
        "colab_type": "code",
        "id": "Jl4GCaSObR0s",
        "outputId": "235232c9-8743-4f25-a18f-fe757bca2a94",
        "colab": {
          "base_uri": "https://localhost:8080/",
          "height": 316
        }
      },
      "cell_type": "code",
      "source": [
        "ausgabe = picture.countplot(x='pdays' , data=data) # Grafig Ausgeben\n"
      ],
      "execution_count": 0,
      "outputs": [
        {
          "output_type": "stream",
          "text": [
            "/usr/local/lib/python3.6/dist-packages/seaborn/categorical.py:1428: FutureWarning: remove_na is deprecated and is a private function. Do not use.\n",
            "  stat_data = remove_na(group_data)\n"
          ],
          "name": "stderr"
        },
        {
          "output_type": "display_data",
          "data": {
            "image/png": "[encoded data removed]",
            "text/plain": [
              "<matplotlib.figure.Figure at 0x7ff8ba19ee80>"
            ]
          },
          "metadata": {
            "tags": []
          }
        }
      ]
    },
    {
      "metadata": {
        "colab_type": "code",
        "id": "w8rWg53qbPZx",
        "outputId": "9167ca1b-5967-4fc5-9970-9e8d649acd9e",
        "colab": {
          "base_uri": "https://localhost:8080/",
          "height": 73
        }
      },
      "cell_type": "code",
      "source": [
        "#Feature kategorisieren\n",
        "data['pdays_class']=data['pdays']\n",
        "data['pdays_class'] = [1 if (i >= 0)&(i< 999) else 0 for i in data['pdays_class']]\n",
        "\n",
        "data['pdays_class'].value_counts()\n"
      ],
      "execution_count": 0,
      "outputs": [
        {
          "output_type": "execute_result",
          "data": {
            "text/plain": [
              "0    39673\n",
              "1     1515\n",
              "Name: pdays_class, dtype: int64"
            ]
          },
          "metadata": {
            "tags": []
          },
          "execution_count": 52
        }
      ]
    },
    {
      "metadata": {
        "id": "zX5XN7QgVK-u",
        "colab_type": "code",
        "outputId": "4add3272-0f7e-4c7c-d87c-ae5236b3ab67",
        "colab": {
          "base_uri": "https://localhost:8080/",
          "height": 36
        }
      },
      "cell_type": "code",
      "source": [
        "data['pdays_class'].count() #Inhalte Zählen"
      ],
      "execution_count": 0,
      "outputs": [
        {
          "output_type": "execute_result",
          "data": {
            "text/plain": [
              "41188"
            ]
          },
          "metadata": {
            "tags": []
          },
          "execution_count": 53
        }
      ]
    },
    {
      "metadata": {
        "id": "rpaWTuA0_8--",
        "colab_type": "code",
        "outputId": "3bdaa98f-eac0-4ea4-9ca4-cd9651813d62",
        "colab": {
          "base_uri": "https://localhost:8080/",
          "height": 144
        }
      },
      "cell_type": "code",
      "source": [
        " #Prozentual zeilenweise \n",
        "pd.crosstab(index=data['pdays_class'], columns=data['y'], margins=False).apply(lambda zeile: zeile/zeile.sum(), axis=1) .round(4)*100\n"
      ],
      "execution_count": 0,
      "outputs": [
        {
          "output_type": "execute_result",
          "data": {
            "text/html": [
              "<div>\n",
              "<style scoped>\n",
              "    .dataframe tbody tr th:only-of-type {\n",
              "        vertical-align: middle;\n",
              "    }\n",
              "\n",
              "    .dataframe tbody tr th {\n",
              "        vertical-align: top;\n",
              "    }\n",
              "\n",
              "    .dataframe thead th {\n",
              "        text-align: right;\n",
              "    }\n",
              "</style>\n",
              "<table border=\"1\" class=\"dataframe\">\n",
              "  <thead>\n",
              "    <tr style=\"text-align: right;\">\n",
              "      <th>y</th>\n",
              "      <th>0</th>\n",
              "      <th>1</th>\n",
              "    </tr>\n",
              "    <tr>\n",
              "      <th>pdays_class</th>\n",
              "      <th></th>\n",
              "      <th></th>\n",
              "    </tr>\n",
              "  </thead>\n",
              "  <tbody>\n",
              "    <tr>\n",
              "      <th>0</th>\n",
              "      <td>90.7400</td>\n",
              "      <td>9.2600</td>\n",
              "    </tr>\n",
              "    <tr>\n",
              "      <th>1</th>\n",
              "      <td>36.1700</td>\n",
              "      <td>63.8300</td>\n",
              "    </tr>\n",
              "  </tbody>\n",
              "</table>\n",
              "</div>"
            ],
            "text/plain": [
              "y                 0       1\n",
              "pdays_class                \n",
              "0           90.7400  9.2600\n",
              "1           36.1700 63.8300"
            ]
          },
          "metadata": {
            "tags": []
          },
          "execution_count": 54
        }
      ]
    },
    {
      "metadata": {
        "id": "ZPhRk-mCpT7x",
        "colab_type": "text"
      },
      "cell_type": "markdown",
      "source": [
        "###14 previous\n",
        "Anzahl vorheriger Kontakte gesammt > Numerisch\n"
      ]
    },
    {
      "metadata": {
        "id": "hWqjOfjV_9rl",
        "colab_type": "code",
        "outputId": "28966be8-7b9f-4e34-e34b-db6cdfba131f",
        "colab": {
          "base_uri": "https://localhost:8080/",
          "height": 332
        }
      },
      "cell_type": "code",
      "source": [
        " #Prozentual zeilenweise \n",
        "pd.crosstab(index=data['previous'], columns=data['y'], margins=False).apply(lambda zeile: zeile/zeile.sum(), axis=1) .round(4)*100\n"
      ],
      "execution_count": 0,
      "outputs": [
        {
          "output_type": "execute_result",
          "data": {
            "text/html": [
              "<div>\n",
              "<style scoped>\n",
              "    .dataframe tbody tr th:only-of-type {\n",
              "        vertical-align: middle;\n",
              "    }\n",
              "\n",
              "    .dataframe tbody tr th {\n",
              "        vertical-align: top;\n",
              "    }\n",
              "\n",
              "    .dataframe thead th {\n",
              "        text-align: right;\n",
              "    }\n",
              "</style>\n",
              "<table border=\"1\" class=\"dataframe\">\n",
              "  <thead>\n",
              "    <tr style=\"text-align: right;\">\n",
              "      <th>y</th>\n",
              "      <th>0</th>\n",
              "      <th>1</th>\n",
              "    </tr>\n",
              "    <tr>\n",
              "      <th>previous</th>\n",
              "      <th></th>\n",
              "      <th></th>\n",
              "    </tr>\n",
              "  </thead>\n",
              "  <tbody>\n",
              "    <tr>\n",
              "      <th>0</th>\n",
              "      <td>91.1700</td>\n",
              "      <td>8.8300</td>\n",
              "    </tr>\n",
              "    <tr>\n",
              "      <th>1</th>\n",
              "      <td>78.8000</td>\n",
              "      <td>21.2000</td>\n",
              "    </tr>\n",
              "    <tr>\n",
              "      <th>2</th>\n",
              "      <td>53.5800</td>\n",
              "      <td>46.4200</td>\n",
              "    </tr>\n",
              "    <tr>\n",
              "      <th>3</th>\n",
              "      <td>40.7400</td>\n",
              "      <td>59.2600</td>\n",
              "    </tr>\n",
              "    <tr>\n",
              "      <th>4</th>\n",
              "      <td>45.7100</td>\n",
              "      <td>54.2900</td>\n",
              "    </tr>\n",
              "    <tr>\n",
              "      <th>5</th>\n",
              "      <td>27.7800</td>\n",
              "      <td>72.2200</td>\n",
              "    </tr>\n",
              "    <tr>\n",
              "      <th>6</th>\n",
              "      <td>40.0000</td>\n",
              "      <td>60.0000</td>\n",
              "    </tr>\n",
              "    <tr>\n",
              "      <th>7</th>\n",
              "      <td>100.0000</td>\n",
              "      <td>0.0000</td>\n",
              "    </tr>\n",
              "  </tbody>\n",
              "</table>\n",
              "</div>"
            ],
            "text/plain": [
              "y               0       1\n",
              "previous                 \n",
              "0         91.1700  8.8300\n",
              "1         78.8000 21.2000\n",
              "2         53.5800 46.4200\n",
              "3         40.7400 59.2600\n",
              "4         45.7100 54.2900\n",
              "5         27.7800 72.2200\n",
              "6         40.0000 60.0000\n",
              "7        100.0000  0.0000"
            ]
          },
          "metadata": {
            "tags": []
          },
          "execution_count": 55
        }
      ]
    },
    {
      "metadata": {
        "id": "KnGPKsVrpVHQ",
        "colab_type": "text"
      },
      "cell_type": "markdown",
      "source": [
        "###15 poutcome\n",
        "vorheriges Ergebnis > Kategorie > Ergebnis der vorherigen Campain"
      ]
    },
    {
      "metadata": {
        "id": "dreCbDZd_-Zp",
        "colab_type": "code",
        "outputId": "561fb0c8-9d64-4f15-a8d6-713458857afc",
        "colab": {
          "base_uri": "https://localhost:8080/",
          "height": 175
        }
      },
      "cell_type": "code",
      "source": [
        " #Prozentual zeilenweise \n",
        "pd.crosstab(index=data['poutcome'], columns=data['y'], margins=False).apply(lambda zeile: zeile/zeile.sum(), axis=1) .round(4)*100\n"
      ],
      "execution_count": 0,
      "outputs": [
        {
          "output_type": "execute_result",
          "data": {
            "text/html": [
              "<div>\n",
              "<style scoped>\n",
              "    .dataframe tbody tr th:only-of-type {\n",
              "        vertical-align: middle;\n",
              "    }\n",
              "\n",
              "    .dataframe tbody tr th {\n",
              "        vertical-align: top;\n",
              "    }\n",
              "\n",
              "    .dataframe thead th {\n",
              "        text-align: right;\n",
              "    }\n",
              "</style>\n",
              "<table border=\"1\" class=\"dataframe\">\n",
              "  <thead>\n",
              "    <tr style=\"text-align: right;\">\n",
              "      <th>y</th>\n",
              "      <th>0</th>\n",
              "      <th>1</th>\n",
              "    </tr>\n",
              "    <tr>\n",
              "      <th>poutcome</th>\n",
              "      <th></th>\n",
              "      <th></th>\n",
              "    </tr>\n",
              "  </thead>\n",
              "  <tbody>\n",
              "    <tr>\n",
              "      <th>failure</th>\n",
              "      <td>85.7700</td>\n",
              "      <td>14.2300</td>\n",
              "    </tr>\n",
              "    <tr>\n",
              "      <th>nonexistent</th>\n",
              "      <td>91.1700</td>\n",
              "      <td>8.8300</td>\n",
              "    </tr>\n",
              "    <tr>\n",
              "      <th>success</th>\n",
              "      <td>34.8900</td>\n",
              "      <td>65.1100</td>\n",
              "    </tr>\n",
              "  </tbody>\n",
              "</table>\n",
              "</div>"
            ],
            "text/plain": [
              "y                 0       1\n",
              "poutcome                   \n",
              "failure     85.7700 14.2300\n",
              "nonexistent 91.1700  8.8300\n",
              "success     34.8900 65.1100"
            ]
          },
          "metadata": {
            "tags": []
          },
          "execution_count": 56
        }
      ]
    },
    {
      "metadata": {
        "id": "knP2iZL3Ktlf",
        "colab_type": "code",
        "outputId": "533ef994-e446-47c4-8795-1b5d041438ee",
        "colab": {
          "base_uri": "https://localhost:8080/",
          "height": 73
        }
      },
      "cell_type": "code",
      "source": [
        "#Feature auslesen\t\n",
        "data['poutcome_class']=data['poutcome']\n",
        "#Feature kategorisieren\n",
        "data['poutcome_class'] = [0 if (i == 'failure') else i for i in data['poutcome_class']]\n",
        "data['poutcome_class'] = [0 if (i == 'nonexistent') else 1 for i in data['poutcome_class']]\n",
        "data['poutcome_class'].value_counts() #Inhalte Zählen\n"
      ],
      "execution_count": 0,
      "outputs": [
        {
          "output_type": "execute_result",
          "data": {
            "text/plain": [
              "0    35563\n",
              "1     5625\n",
              "Name: poutcome_class, dtype: int64"
            ]
          },
          "metadata": {
            "tags": []
          },
          "execution_count": 57
        }
      ]
    },
    {
      "metadata": {
        "id": "pzO3pDTycxaZ",
        "colab_type": "text"
      },
      "cell_type": "markdown",
      "source": [
        "## grafische Analyse"
      ]
    },
    {
      "metadata": {
        "id": "z9JqTWgLc9nx",
        "colab_type": "code",
        "outputId": "c7ab387d-417b-4781-895a-0a644a1e4def",
        "colab": {
          "base_uri": "https://localhost:8080/",
          "height": 585
        }
      },
      "cell_type": "code",
      "source": [
        "fig = plt.figure(figsize=(20, 8))\n",
        "\n",
        "ax1 = fig.add_subplot(231)\n",
        "data.groupby('contact').size().plot(kind='bar', ax=ax1)\n",
        "\n",
        "ax2 = fig.add_subplot(232)\n",
        "data.groupby('month').size().plot(kind='bar', ax=ax2)\n",
        "\n",
        "ax3 = fig.add_subplot(233)\n",
        "data.groupby('day_of_week').size().plot(kind='bar', ax=ax3)\n",
        "\n",
        "ax4 = fig.add_subplot(234)\n",
        "data.groupby(['contact', 'y']).size().groupby(level=0).apply(lambda x: 100 * x / x.sum()).unstack().plot(kind='bar', stacked=True, ax=ax4)\n",
        "ax4.legend(loc='center left', bbox_to_anchor=(1, 0.5))\n",
        "\n",
        "ax5 = fig.add_subplot(235)\n",
        "data.groupby(['month', 'y']).size().groupby(level=0).apply(lambda x: 100 * x / x.sum()).unstack().plot(kind='bar', stacked=True, ax=ax5)\n",
        "ax5.legend(loc='center left', bbox_to_anchor=(1, 0.5))\n",
        "\n",
        "ax6 = fig.add_subplot(236)\n",
        "data.groupby(['day_of_week', 'y']).size().groupby(level=0).apply(lambda x: 100 * x / x.sum()).unstack().plot(kind='bar', stacked=True, ax=ax6)\n",
        "ax6.legend(loc='center left', bbox_to_anchor=(1, 0.5))\n",
        "\n",
        "plt.tight_layout()\n",
        "plt.show()"
      ],
      "execution_count": 0,
      "outputs": [
        {
          "output_type": "display_data",
          "data": {
            "image/png": "[encoded data removed]",
            "text/plain": [
              "<matplotlib.figure.Figure at 0x7ff8b9fa7240>"
            ]
          },
          "metadata": {
            "tags": []
          }
        }
      ]
    },
    {
      "metadata": {
        "id": "InKZXmMmc-gV",
        "colab_type": "code",
        "outputId": "279f9084-9f25-4916-ac31-cbab2a6b8107",
        "colab": {
          "base_uri": "https://localhost:8080/",
          "height": 585
        }
      },
      "cell_type": "code",
      "source": [
        "fig = plt.figure(figsize=(20, 8))\n",
        "\n",
        "ax1 = fig.add_subplot(231)\n",
        "data.groupby('duration_class').size().plot(kind='bar', ax=ax1)\n",
        "\n",
        "ax2 = fig.add_subplot(232)\n",
        "data.groupby('campaign').size().plot(kind='bar', ax=ax2)\n",
        "\n",
        "ax3 = fig.add_subplot(233)\n",
        "data.groupby('pdays_class').size().plot(kind='bar', ax=ax3)\n",
        "\n",
        "ax4 = fig.add_subplot(234)\n",
        "data.groupby(['duration_class', 'y']).size().groupby(level=0).apply(lambda x: 100 * x / x.sum()).unstack().plot(kind='bar', stacked=True, ax=ax4)\n",
        "ax4.legend(loc='center left', bbox_to_anchor=(1, 0.5))\n",
        "\n",
        "ax5 = fig.add_subplot(235)\n",
        "data.groupby(['campaign', 'y']).size().groupby(level=0).apply(lambda x: 100 * x / x.sum()).unstack().plot(kind='bar', stacked=True, ax=ax5)\n",
        "ax5.legend(loc='center left', bbox_to_anchor=(1, 0.5))\n",
        "\n",
        "ax6 = fig.add_subplot(236)\n",
        "data.groupby(['pdays_class', 'y']).size().groupby(level=0).apply(lambda x: 100 * x / x.sum()).unstack().plot(kind='bar', stacked=True, ax=ax6)\n",
        "ax6.legend(loc='center left', bbox_to_anchor=(1, 0.5))\n",
        "\n",
        "plt.tight_layout()\n",
        "plt.show()"
      ],
      "execution_count": 0,
      "outputs": [
        {
          "output_type": "display_data",
          "data": {
            "image/png": "[encoded data removed]",
            "text/plain": [
              "<matplotlib.figure.Figure at 0x7ff8b9d54630>"
            ]
          },
          "metadata": {
            "tags": []
          }
        }
      ]
    },
    {
      "metadata": {
        "id": "HoH2zuLdc-3-",
        "colab_type": "code",
        "outputId": "cbcb4030-4b3f-420d-b848-ae74f63fcab1",
        "colab": {
          "base_uri": "https://localhost:8080/",
          "height": 585
        }
      },
      "cell_type": "code",
      "source": [
        "fig = plt.figure(figsize=(20, 8))\n",
        "\n",
        "ax1 = fig.add_subplot(231)\n",
        "data.groupby('previous').size().plot(kind='bar', ax=ax1)\n",
        "\n",
        "ax2 = fig.add_subplot(232)\n",
        "data.groupby('poutcome').size().plot(kind='bar', ax=ax2)\n",
        "\n",
        "\n",
        "\n",
        "ax3 = fig.add_subplot(234)\n",
        "data.groupby(['previous', 'y']).size().groupby(level=0).apply(lambda x: 100 * x / x.sum()).unstack().plot(kind='bar', stacked=True, ax=ax3)\n",
        "ax3.legend(loc='center left', bbox_to_anchor=(1, 0.5))\n",
        "\n",
        "ax4 = fig.add_subplot(235)\n",
        "data.groupby(['poutcome', 'y']).size().groupby(level=0).apply(lambda x: 100 * x / x.sum()).unstack().plot(kind='bar', stacked=True, ax=ax4)\n",
        "ax4.legend(loc='center left', bbox_to_anchor=(1, 0.5))\n",
        "\n",
        "\n",
        "\n",
        "plt.tight_layout()\n",
        "plt.show()"
      ],
      "execution_count": 0,
      "outputs": [
        {
          "output_type": "display_data",
          "data": {
            "image/png": "[encoded data removed]",
            "text/plain": [
              "<matplotlib.figure.Figure at 0x7ff8ba7b2518>"
            ]
          },
          "metadata": {
            "tags": []
          }
        }
      ]
    },
    {
      "metadata": {
        "id": "jI5VK_gMJZZA",
        "colab_type": "code",
        "colab": {}
      },
      "cell_type": "code",
      "source": [
        "#Spalte rausnehmen\n",
        "data.drop(['contact','contact_class','campaign', 'month', 'day_of_week' , 'duration', 'pdays','pdays_class', 'poutcome', 'duration_class'  ], axis=1, inplace=True)\n"
      ],
      "execution_count": 0,
      "outputs": []
    },
    {
      "metadata": {
        "id": "EWRl-g7zVHIG",
        "colab_type": "text"
      },
      "cell_type": "markdown",
      "source": [
        "# Marktvariablen"
      ]
    },
    {
      "metadata": {
        "id": "1xOi5pp_pWaS",
        "colab_type": "text"
      },
      "cell_type": "markdown",
      "source": [
        "###16 emp.var.rate\n",
        "Beschäftigungsquore? > employment variation rate - quarterly indicator (numeric)"
      ]
    },
    {
      "metadata": {
        "id": "3wrpP02zAclV",
        "colab_type": "code",
        "outputId": "2c80905b-9953-4384-a680-5812a8df9dcf",
        "colab": {
          "base_uri": "https://localhost:8080/",
          "height": 36
        }
      },
      "cell_type": "code",
      "source": [
        "data['emp.var.rate'].unique() #Inhhalte von target prüfen"
      ],
      "execution_count": 0,
      "outputs": [
        {
          "output_type": "execute_result",
          "data": {
            "text/plain": [
              "array([ 1.1,  1.4, -0.1, -0.2, -1.8, -2.9, -3.4, -3. , -1.7, -1.1])"
            ]
          },
          "metadata": {
            "tags": []
          },
          "execution_count": 62
        }
      ]
    },
    {
      "metadata": {
        "id": "eSnrx-PHG974",
        "colab_type": "code",
        "outputId": "f10f9d27-4c1d-47e5-b6a9-74a3a538057d",
        "colab": {
          "base_uri": "https://localhost:8080/",
          "height": 395
        }
      },
      "cell_type": "code",
      "source": [
        " #Prozentual zeilenweise \n",
        "pd.crosstab(index=data['emp.var.rate'], columns=data['y'], margins=False).apply(lambda zeile: zeile/zeile.sum(), axis=1) .round(4)*100\n"
      ],
      "execution_count": 0,
      "outputs": [
        {
          "output_type": "execute_result",
          "data": {
            "text/html": [
              "<div>\n",
              "<style scoped>\n",
              "    .dataframe tbody tr th:only-of-type {\n",
              "        vertical-align: middle;\n",
              "    }\n",
              "\n",
              "    .dataframe tbody tr th {\n",
              "        vertical-align: top;\n",
              "    }\n",
              "\n",
              "    .dataframe thead th {\n",
              "        text-align: right;\n",
              "    }\n",
              "</style>\n",
              "<table border=\"1\" class=\"dataframe\">\n",
              "  <thead>\n",
              "    <tr style=\"text-align: right;\">\n",
              "      <th>y</th>\n",
              "      <th>0</th>\n",
              "      <th>1</th>\n",
              "    </tr>\n",
              "    <tr>\n",
              "      <th>emp.var.rate</th>\n",
              "      <th></th>\n",
              "      <th></th>\n",
              "    </tr>\n",
              "  </thead>\n",
              "  <tbody>\n",
              "    <tr>\n",
              "      <th>-3.4000</th>\n",
              "      <td>57.6100</td>\n",
              "      <td>42.3900</td>\n",
              "    </tr>\n",
              "    <tr>\n",
              "      <th>-3.0000</th>\n",
              "      <td>48.8400</td>\n",
              "      <td>51.1600</td>\n",
              "    </tr>\n",
              "    <tr>\n",
              "      <th>-2.9000</th>\n",
              "      <td>64.2800</td>\n",
              "      <td>35.7200</td>\n",
              "    </tr>\n",
              "    <tr>\n",
              "      <th>-1.8000</th>\n",
              "      <td>84.0900</td>\n",
              "      <td>15.9100</td>\n",
              "    </tr>\n",
              "    <tr>\n",
              "      <th>-1.7000</th>\n",
              "      <td>47.8700</td>\n",
              "      <td>52.1300</td>\n",
              "    </tr>\n",
              "    <tr>\n",
              "      <th>-1.1000</th>\n",
              "      <td>52.6000</td>\n",
              "      <td>47.4000</td>\n",
              "    </tr>\n",
              "    <tr>\n",
              "      <th>-0.2000</th>\n",
              "      <td>90.0000</td>\n",
              "      <td>10.0000</td>\n",
              "    </tr>\n",
              "    <tr>\n",
              "      <th>-0.1000</th>\n",
              "      <td>93.7000</td>\n",
              "      <td>6.3000</td>\n",
              "    </tr>\n",
              "    <tr>\n",
              "      <th>1.1000</th>\n",
              "      <td>96.9100</td>\n",
              "      <td>3.0900</td>\n",
              "    </tr>\n",
              "    <tr>\n",
              "      <th>1.4000</th>\n",
              "      <td>94.6700</td>\n",
              "      <td>5.3300</td>\n",
              "    </tr>\n",
              "  </tbody>\n",
              "</table>\n",
              "</div>"
            ],
            "text/plain": [
              "y                  0       1\n",
              "emp.var.rate                \n",
              "-3.4000      57.6100 42.3900\n",
              "-3.0000      48.8400 51.1600\n",
              "-2.9000      64.2800 35.7200\n",
              "-1.8000      84.0900 15.9100\n",
              "-1.7000      47.8700 52.1300\n",
              "-1.1000      52.6000 47.4000\n",
              "-0.2000      90.0000 10.0000\n",
              "-0.1000      93.7000  6.3000\n",
              "1.1000       96.9100  3.0900\n",
              "1.4000       94.6700  5.3300"
            ]
          },
          "metadata": {
            "tags": []
          },
          "execution_count": 63
        }
      ]
    },
    {
      "metadata": {
        "id": "3FRl3z8hpZ0P",
        "colab_type": "text"
      },
      "cell_type": "markdown",
      "source": [
        "### 17 cons.price.idx\n",
        "Verbraucher Preis Index > consumer price index - monthly indicator (numeric)\n"
      ]
    },
    {
      "metadata": {
        "id": "EWyAr-geAdR8",
        "colab_type": "code",
        "outputId": "e620f348-03ab-4bb5-cc44-ec0c311369d2",
        "colab": {
          "base_uri": "https://localhost:8080/",
          "height": 91
        }
      },
      "cell_type": "code",
      "source": [
        "#Feature auslesen\t\n",
        "#Inhhalte von target prüfen\n",
        "data['cons.price.idx'].unique() \n"
      ],
      "execution_count": 0,
      "outputs": [
        {
          "output_type": "execute_result",
          "data": {
            "text/plain": [
              "array([93.994, 94.465, 93.918, 93.444, 93.798, 93.2  , 92.756, 92.843,\n",
              "       93.075, 92.893, 92.963, 92.469, 92.201, 92.379, 92.431, 92.649,\n",
              "       92.713, 93.369, 93.749, 93.876, 94.055, 94.215, 94.027, 94.199,\n",
              "       94.601, 94.767])"
            ]
          },
          "metadata": {
            "tags": []
          },
          "execution_count": 64
        }
      ]
    },
    {
      "metadata": {
        "id": "T5rN6UBO_rbt",
        "colab_type": "code",
        "outputId": "564ea730-94b3-4186-b751-78e0ad8d551e",
        "colab": {
          "base_uri": "https://localhost:8080/",
          "height": 896
        }
      },
      "cell_type": "code",
      "source": [
        " #Prozentual zeilenweise \n",
        "pd.crosstab(index=data['cons.price.idx'], columns=data['y'], margins=False).apply(lambda zeile: zeile/zeile.sum(), axis=1) .round(4)*100\n"
      ],
      "execution_count": 0,
      "outputs": [
        {
          "output_type": "execute_result",
          "data": {
            "text/html": [
              "<div>\n",
              "<style scoped>\n",
              "    .dataframe tbody tr th:only-of-type {\n",
              "        vertical-align: middle;\n",
              "    }\n",
              "\n",
              "    .dataframe tbody tr th {\n",
              "        vertical-align: top;\n",
              "    }\n",
              "\n",
              "    .dataframe thead th {\n",
              "        text-align: right;\n",
              "    }\n",
              "</style>\n",
              "<table border=\"1\" class=\"dataframe\">\n",
              "  <thead>\n",
              "    <tr style=\"text-align: right;\">\n",
              "      <th>y</th>\n",
              "      <th>0</th>\n",
              "      <th>1</th>\n",
              "    </tr>\n",
              "    <tr>\n",
              "      <th>cons.price.idx</th>\n",
              "      <th></th>\n",
              "      <th></th>\n",
              "    </tr>\n",
              "  </thead>\n",
              "  <tbody>\n",
              "    <tr>\n",
              "      <th>92.2010</th>\n",
              "      <td>65.7100</td>\n",
              "      <td>34.2900</td>\n",
              "    </tr>\n",
              "    <tr>\n",
              "      <th>92.3790</th>\n",
              "      <td>60.3000</td>\n",
              "      <td>39.7000</td>\n",
              "    </tr>\n",
              "    <tr>\n",
              "      <th>92.4310</th>\n",
              "      <td>59.7300</td>\n",
              "      <td>40.2700</td>\n",
              "    </tr>\n",
              "    <tr>\n",
              "      <th>92.4690</th>\n",
              "      <td>62.9200</td>\n",
              "      <td>37.0800</td>\n",
              "    </tr>\n",
              "    <tr>\n",
              "      <th>92.6490</th>\n",
              "      <td>52.9400</td>\n",
              "      <td>47.0600</td>\n",
              "    </tr>\n",
              "    <tr>\n",
              "      <th>92.7130</th>\n",
              "      <td>48.8400</td>\n",
              "      <td>51.1600</td>\n",
              "    </tr>\n",
              "    <tr>\n",
              "      <th>92.7560</th>\n",
              "      <td>90.0000</td>\n",
              "      <td>10.0000</td>\n",
              "    </tr>\n",
              "    <tr>\n",
              "      <th>92.8430</th>\n",
              "      <td>55.3200</td>\n",
              "      <td>44.6800</td>\n",
              "    </tr>\n",
              "    <tr>\n",
              "      <th>92.8930</th>\n",
              "      <td>90.9600</td>\n",
              "      <td>9.0400</td>\n",
              "    </tr>\n",
              "    <tr>\n",
              "      <th>92.9630</th>\n",
              "      <td>63.0800</td>\n",
              "      <td>36.9200</td>\n",
              "    </tr>\n",
              "    <tr>\n",
              "      <th>93.0750</th>\n",
              "      <td>82.0200</td>\n",
              "      <td>17.9800</td>\n",
              "    </tr>\n",
              "    <tr>\n",
              "      <th>93.2000</th>\n",
              "      <td>94.7500</td>\n",
              "      <td>5.2500</td>\n",
              "    </tr>\n",
              "    <tr>\n",
              "      <th>93.3690</th>\n",
              "      <td>43.1800</td>\n",
              "      <td>56.8200</td>\n",
              "    </tr>\n",
              "    <tr>\n",
              "      <th>93.4440</th>\n",
              "      <td>94.7600</td>\n",
              "      <td>5.2400</td>\n",
              "    </tr>\n",
              "    <tr>\n",
              "      <th>93.7490</th>\n",
              "      <td>44.2500</td>\n",
              "      <td>55.7500</td>\n",
              "    </tr>\n",
              "    <tr>\n",
              "      <th>93.7980</th>\n",
              "      <td>37.3100</td>\n",
              "      <td>62.6900</td>\n",
              "    </tr>\n",
              "    <tr>\n",
              "      <th>93.8760</th>\n",
              "      <td>42.4500</td>\n",
              "      <td>57.5500</td>\n",
              "    </tr>\n",
              "    <tr>\n",
              "      <th>93.9180</th>\n",
              "      <td>93.9100</td>\n",
              "      <td>6.0900</td>\n",
              "    </tr>\n",
              "    <tr>\n",
              "      <th>93.9940</th>\n",
              "      <td>96.9100</td>\n",
              "      <td>3.0900</td>\n",
              "    </tr>\n",
              "    <tr>\n",
              "      <th>94.0270</th>\n",
              "      <td>48.5000</td>\n",
              "      <td>51.5000</td>\n",
              "    </tr>\n",
              "    <tr>\n",
              "      <th>94.0550</th>\n",
              "      <td>53.2800</td>\n",
              "      <td>46.7200</td>\n",
              "    </tr>\n",
              "    <tr>\n",
              "      <th>94.1990</th>\n",
              "      <td>50.5000</td>\n",
              "      <td>49.5000</td>\n",
              "    </tr>\n",
              "    <tr>\n",
              "      <th>94.2150</th>\n",
              "      <td>43.4100</td>\n",
              "      <td>56.5900</td>\n",
              "    </tr>\n",
              "    <tr>\n",
              "      <th>94.4650</th>\n",
              "      <td>95.7000</td>\n",
              "      <td>4.3000</td>\n",
              "    </tr>\n",
              "    <tr>\n",
              "      <th>94.6010</th>\n",
              "      <td>54.4100</td>\n",
              "      <td>45.5900</td>\n",
              "    </tr>\n",
              "    <tr>\n",
              "      <th>94.7670</th>\n",
              "      <td>54.6900</td>\n",
              "      <td>45.3100</td>\n",
              "    </tr>\n",
              "  </tbody>\n",
              "</table>\n",
              "</div>"
            ],
            "text/plain": [
              "y                    0       1\n",
              "cons.price.idx                \n",
              "92.2010        65.7100 34.2900\n",
              "92.3790        60.3000 39.7000\n",
              "92.4310        59.7300 40.2700\n",
              "92.4690        62.9200 37.0800\n",
              "92.6490        52.9400 47.0600\n",
              "92.7130        48.8400 51.1600\n",
              "92.7560        90.0000 10.0000\n",
              "92.8430        55.3200 44.6800\n",
              "92.8930        90.9600  9.0400\n",
              "92.9630        63.0800 36.9200\n",
              "93.0750        82.0200 17.9800\n",
              "93.2000        94.7500  5.2500\n",
              "93.3690        43.1800 56.8200\n",
              "93.4440        94.7600  5.2400\n",
              "93.7490        44.2500 55.7500\n",
              "93.7980        37.3100 62.6900\n",
              "93.8760        42.4500 57.5500\n",
              "93.9180        93.9100  6.0900\n",
              "93.9940        96.9100  3.0900\n",
              "94.0270        48.5000 51.5000\n",
              "94.0550        53.2800 46.7200\n",
              "94.1990        50.5000 49.5000\n",
              "94.2150        43.4100 56.5900\n",
              "94.4650        95.7000  4.3000\n",
              "94.6010        54.4100 45.5900\n",
              "94.7670        54.6900 45.3100"
            ]
          },
          "metadata": {
            "tags": []
          },
          "execution_count": 65
        }
      ]
    },
    {
      "metadata": {
        "id": "MLVHi0VOpcUn",
        "colab_type": "text"
      },
      "cell_type": "markdown",
      "source": [
        "###18 cons.conf.idx\n",
        "Kunden Vertrauen > consumer confidence index - monthly indicator (numeric)"
      ]
    },
    {
      "metadata": {
        "id": "Vsq98OiiAd-3",
        "colab_type": "code",
        "outputId": "0cf600bf-5714-482b-b939-35ed1ab8e5a6",
        "colab": {
          "base_uri": "https://localhost:8080/",
          "height": 73
        }
      },
      "cell_type": "code",
      "source": [
        "#Feature auslesen\t\n",
        "#Inhhalte von target prüfen\n",
        "data['cons.conf.idx'].unique() \n"
      ],
      "execution_count": 0,
      "outputs": [
        {
          "output_type": "execute_result",
          "data": {
            "text/plain": [
              "array([-36.4, -41.8, -42.7, -36.1, -40.4, -42. , -45.9, -50. , -47.1,\n",
              "       -46.2, -40.8, -33.6, -31.4, -29.8, -26.9, -30.1, -33. , -34.8,\n",
              "       -34.6, -40. , -39.8, -40.3, -38.3, -37.5, -49.5, -50.8])"
            ]
          },
          "metadata": {
            "tags": []
          },
          "execution_count": 66
        }
      ]
    },
    {
      "metadata": {
        "id": "8FRw0763AAeb",
        "colab_type": "code",
        "outputId": "eb99f4e8-fbd3-4992-c26e-791e8a67bc43",
        "colab": {
          "base_uri": "https://localhost:8080/",
          "height": 896
        }
      },
      "cell_type": "code",
      "source": [
        " #Prozentual zeilenweise \n",
        "pd.crosstab(index=data['cons.conf.idx'], columns=data['y'], margins=False).apply(lambda zeile: zeile/zeile.sum(), axis=1) .round(4)*100\n"
      ],
      "execution_count": 0,
      "outputs": [
        {
          "output_type": "execute_result",
          "data": {
            "text/html": [
              "<div>\n",
              "<style scoped>\n",
              "    .dataframe tbody tr th:only-of-type {\n",
              "        vertical-align: middle;\n",
              "    }\n",
              "\n",
              "    .dataframe tbody tr th {\n",
              "        vertical-align: top;\n",
              "    }\n",
              "\n",
              "    .dataframe thead th {\n",
              "        text-align: right;\n",
              "    }\n",
              "</style>\n",
              "<table border=\"1\" class=\"dataframe\">\n",
              "  <thead>\n",
              "    <tr style=\"text-align: right;\">\n",
              "      <th>y</th>\n",
              "      <th>0</th>\n",
              "      <th>1</th>\n",
              "    </tr>\n",
              "    <tr>\n",
              "      <th>cons.conf.idx</th>\n",
              "      <th></th>\n",
              "      <th></th>\n",
              "    </tr>\n",
              "  </thead>\n",
              "  <tbody>\n",
              "    <tr>\n",
              "      <th>-50.8000</th>\n",
              "      <td>54.6900</td>\n",
              "      <td>45.3100</td>\n",
              "    </tr>\n",
              "    <tr>\n",
              "      <th>-50.0000</th>\n",
              "      <td>55.3200</td>\n",
              "      <td>44.6800</td>\n",
              "    </tr>\n",
              "    <tr>\n",
              "      <th>-49.5000</th>\n",
              "      <td>54.4100</td>\n",
              "      <td>45.5900</td>\n",
              "    </tr>\n",
              "    <tr>\n",
              "      <th>-47.1000</th>\n",
              "      <td>82.0200</td>\n",
              "      <td>17.9800</td>\n",
              "    </tr>\n",
              "    <tr>\n",
              "      <th>-46.2000</th>\n",
              "      <td>90.9600</td>\n",
              "      <td>9.0400</td>\n",
              "    </tr>\n",
              "    <tr>\n",
              "      <th>-45.9000</th>\n",
              "      <td>90.0000</td>\n",
              "      <td>10.0000</td>\n",
              "    </tr>\n",
              "    <tr>\n",
              "      <th>-42.7000</th>\n",
              "      <td>93.9100</td>\n",
              "      <td>6.0900</td>\n",
              "    </tr>\n",
              "    <tr>\n",
              "      <th>-42.0000</th>\n",
              "      <td>94.7500</td>\n",
              "      <td>5.2500</td>\n",
              "    </tr>\n",
              "    <tr>\n",
              "      <th>-41.8000</th>\n",
              "      <td>95.7000</td>\n",
              "      <td>4.3000</td>\n",
              "    </tr>\n",
              "    <tr>\n",
              "      <th>-40.8000</th>\n",
              "      <td>63.0800</td>\n",
              "      <td>36.9200</td>\n",
              "    </tr>\n",
              "    <tr>\n",
              "      <th>-40.4000</th>\n",
              "      <td>37.3100</td>\n",
              "      <td>62.6900</td>\n",
              "    </tr>\n",
              "    <tr>\n",
              "      <th>-40.3000</th>\n",
              "      <td>43.4100</td>\n",
              "      <td>56.5900</td>\n",
              "    </tr>\n",
              "    <tr>\n",
              "      <th>-40.0000</th>\n",
              "      <td>42.4500</td>\n",
              "      <td>57.5500</td>\n",
              "    </tr>\n",
              "    <tr>\n",
              "      <th>-39.8000</th>\n",
              "      <td>53.2800</td>\n",
              "      <td>46.7200</td>\n",
              "    </tr>\n",
              "    <tr>\n",
              "      <th>-38.3000</th>\n",
              "      <td>48.5000</td>\n",
              "      <td>51.5000</td>\n",
              "    </tr>\n",
              "    <tr>\n",
              "      <th>-37.5000</th>\n",
              "      <td>50.5000</td>\n",
              "      <td>49.5000</td>\n",
              "    </tr>\n",
              "    <tr>\n",
              "      <th>-36.4000</th>\n",
              "      <td>96.9100</td>\n",
              "      <td>3.0900</td>\n",
              "    </tr>\n",
              "    <tr>\n",
              "      <th>-36.1000</th>\n",
              "      <td>94.7600</td>\n",
              "      <td>5.2400</td>\n",
              "    </tr>\n",
              "    <tr>\n",
              "      <th>-34.8000</th>\n",
              "      <td>43.1800</td>\n",
              "      <td>56.8200</td>\n",
              "    </tr>\n",
              "    <tr>\n",
              "      <th>-34.6000</th>\n",
              "      <td>44.2500</td>\n",
              "      <td>55.7500</td>\n",
              "    </tr>\n",
              "    <tr>\n",
              "      <th>-33.6000</th>\n",
              "      <td>62.9200</td>\n",
              "      <td>37.0800</td>\n",
              "    </tr>\n",
              "    <tr>\n",
              "      <th>-33.0000</th>\n",
              "      <td>48.8400</td>\n",
              "      <td>51.1600</td>\n",
              "    </tr>\n",
              "    <tr>\n",
              "      <th>-31.4000</th>\n",
              "      <td>65.7100</td>\n",
              "      <td>34.2900</td>\n",
              "    </tr>\n",
              "    <tr>\n",
              "      <th>-30.1000</th>\n",
              "      <td>52.9400</td>\n",
              "      <td>47.0600</td>\n",
              "    </tr>\n",
              "    <tr>\n",
              "      <th>-29.8000</th>\n",
              "      <td>60.3000</td>\n",
              "      <td>39.7000</td>\n",
              "    </tr>\n",
              "    <tr>\n",
              "      <th>-26.9000</th>\n",
              "      <td>59.7300</td>\n",
              "      <td>40.2700</td>\n",
              "    </tr>\n",
              "  </tbody>\n",
              "</table>\n",
              "</div>"
            ],
            "text/plain": [
              "y                   0       1\n",
              "cons.conf.idx                \n",
              "-50.8000      54.6900 45.3100\n",
              "-50.0000      55.3200 44.6800\n",
              "-49.5000      54.4100 45.5900\n",
              "-47.1000      82.0200 17.9800\n",
              "-46.2000      90.9600  9.0400\n",
              "-45.9000      90.0000 10.0000\n",
              "-42.7000      93.9100  6.0900\n",
              "-42.0000      94.7500  5.2500\n",
              "-41.8000      95.7000  4.3000\n",
              "-40.8000      63.0800 36.9200\n",
              "-40.4000      37.3100 62.6900\n",
              "-40.3000      43.4100 56.5900\n",
              "-40.0000      42.4500 57.5500\n",
              "-39.8000      53.2800 46.7200\n",
              "-38.3000      48.5000 51.5000\n",
              "-37.5000      50.5000 49.5000\n",
              "-36.4000      96.9100  3.0900\n",
              "-36.1000      94.7600  5.2400\n",
              "-34.8000      43.1800 56.8200\n",
              "-34.6000      44.2500 55.7500\n",
              "-33.6000      62.9200 37.0800\n",
              "-33.0000      48.8400 51.1600\n",
              "-31.4000      65.7100 34.2900\n",
              "-30.1000      52.9400 47.0600\n",
              "-29.8000      60.3000 39.7000\n",
              "-26.9000      59.7300 40.2700"
            ]
          },
          "metadata": {
            "tags": []
          },
          "execution_count": 67
        }
      ]
    },
    {
      "metadata": {
        "id": "bXGlvqc5pe-3",
        "colab_type": "text"
      },
      "cell_type": "markdown",
      "source": [
        "###19 euribor3m\n",
        "Referenzzinssatz für Termingelder, zur ermittlung von Krediten > euribor 3 month rate - daily indicator (numeric)"
      ]
    },
    {
      "metadata": {
        "id": "5YayAkMbNxSK",
        "colab_type": "code",
        "outputId": "570e6543-3dc0-4534-dca2-a91ad700a650",
        "colab": {
          "base_uri": "https://localhost:8080/",
          "height": 128
        }
      },
      "cell_type": "code",
      "source": [
        "#Feature kategorisieren\n",
        "data['euribor3m_class']=data['euribor3m']\n",
        "data['euribor3m_class'] = [1 if (i >0)&(i <= 1.000) else i for i in data['euribor3m_class']]\n",
        "data['euribor3m_class'] = [2 if (i >1.000)&(i <= 2.000) else i for i in data['euribor3m_class']]\n",
        "data['euribor3m_class'] = [3 if (i >2.000)&(i <= 3.000) else i for i in data['euribor3m_class']]\n",
        "data['euribor3m_class'] = [4 if (i >3.000)&(i <= 4.000) else i for i in data['euribor3m_class']]\n",
        "data['euribor3m_class'] = [5 if (i >4.000)             else i for i in data['euribor3m_class']]\n",
        "data.euribor3m_class.head()\n"
      ],
      "execution_count": 0,
      "outputs": [
        {
          "output_type": "execute_result",
          "data": {
            "text/plain": [
              "0   5.0000\n",
              "1   5.0000\n",
              "2   5.0000\n",
              "3   5.0000\n",
              "4   5.0000\n",
              "Name: euribor3m_class, dtype: float64"
            ]
          },
          "metadata": {
            "tags": []
          },
          "execution_count": 68
        }
      ]
    },
    {
      "metadata": {
        "id": "hOgK6ZYTAerZ",
        "colab_type": "code",
        "outputId": "edb38f75-f623-4cdf-97f5-62c491b47467",
        "colab": {
          "base_uri": "https://localhost:8080/",
          "height": 36
        }
      },
      "cell_type": "code",
      "source": [
        "#Feature auslesen\t\n",
        "#Inhhalte von target prüfen\n",
        "data['euribor3m_class'].unique() \n"
      ],
      "execution_count": 0,
      "outputs": [
        {
          "output_type": "execute_result",
          "data": {
            "text/plain": [
              "array([5., 4., 2., 1.])"
            ]
          },
          "metadata": {
            "tags": []
          },
          "execution_count": 69
        }
      ]
    },
    {
      "metadata": {
        "id": "DoC3RueTAHgw",
        "colab_type": "code",
        "outputId": "084998a7-21cc-4c74-d9ab-03b088580bc2",
        "colab": {
          "base_uri": "https://localhost:8080/",
          "height": 164
        }
      },
      "cell_type": "code",
      "source": [
        "#Feature mit target in verbindung setzen\n",
        "pd.crosstab(data.y, data.euribor3m)\n"
      ],
      "execution_count": 0,
      "outputs": [
        {
          "output_type": "execute_result",
          "data": {
            "text/html": [
              "<div>\n",
              "<style scoped>\n",
              "    .dataframe tbody tr th:only-of-type {\n",
              "        vertical-align: middle;\n",
              "    }\n",
              "\n",
              "    .dataframe tbody tr th {\n",
              "        vertical-align: top;\n",
              "    }\n",
              "\n",
              "    .dataframe thead th {\n",
              "        text-align: right;\n",
              "    }\n",
              "</style>\n",
              "<table border=\"1\" class=\"dataframe\">\n",
              "  <thead>\n",
              "    <tr style=\"text-align: right;\">\n",
              "      <th>euribor3m</th>\n",
              "      <th>0.634</th>\n",
              "      <th>0.635</th>\n",
              "      <th>0.636</th>\n",
              "      <th>0.637</th>\n",
              "      <th>0.638</th>\n",
              "      <th>0.639</th>\n",
              "      <th>0.64</th>\n",
              "      <th>0.642</th>\n",
              "      <th>0.643</th>\n",
              "      <th>0.644</th>\n",
              "      <th>0.645</th>\n",
              "      <th>0.6459999999999999</th>\n",
              "      <th>0.649</th>\n",
              "      <th>0.65</th>\n",
              "      <th>0.6509999999999999</th>\n",
              "      <th>0.652</th>\n",
              "      <th>0.653</th>\n",
              "      <th>0.654</th>\n",
              "      <th>0.655</th>\n",
              "      <th>0.659</th>\n",
              "      <th>0.6629999999999999</th>\n",
              "      <th>0.6679999999999999</th>\n",
              "      <th>0.672</th>\n",
              "      <th>0.677</th>\n",
              "      <th>0.682</th>\n",
              "      <th>0.6829999999999999</th>\n",
              "      <th>0.684</th>\n",
              "      <th>0.685</th>\n",
              "      <th>0.688</th>\n",
              "      <th>0.69</th>\n",
              "      <th>0.6920000000000001</th>\n",
              "      <th>0.695</th>\n",
              "      <th>0.6970000000000001</th>\n",
              "      <th>0.6990000000000001</th>\n",
              "      <th>0.7</th>\n",
              "      <th>0.701</th>\n",
              "      <th>0.7020000000000001</th>\n",
              "      <th>0.7040000000000001</th>\n",
              "      <th>0.706</th>\n",
              "      <th>0.7070000000000001</th>\n",
              "      <th>0.708</th>\n",
              "      <th>0.7090000000000001</th>\n",
              "      <th>0.71</th>\n",
              "      <th>0.711</th>\n",
              "      <th>0.7120000000000001</th>\n",
              "      <th>0.713</th>\n",
              "      <th>0.7140000000000001</th>\n",
              "      <th>0.715</th>\n",
              "      <th>0.716</th>\n",
              "      <th>0.7170000000000001</th>\n",
              "      <th>0.718</th>\n",
              "      <th>0.7190000000000001</th>\n",
              "      <th>0.72</th>\n",
              "      <th>0.721</th>\n",
              "      <th>0.722</th>\n",
              "      <th>0.723</th>\n",
              "      <th>0.7240000000000001</th>\n",
              "      <th>0.727</th>\n",
              "      <th>0.728</th>\n",
              "      <th>0.7290000000000001</th>\n",
              "      <th>0.73</th>\n",
              "      <th>0.731</th>\n",
              "      <th>0.732</th>\n",
              "      <th>0.733</th>\n",
              "      <th>0.735</th>\n",
              "      <th>0.737</th>\n",
              "      <th>0.7390000000000001</th>\n",
              "      <th>0.74</th>\n",
              "      <th>0.741</th>\n",
              "      <th>0.742</th>\n",
              "      <th>0.743</th>\n",
              "      <th>0.7440000000000001</th>\n",
              "      <th>0.748</th>\n",
              "      <th>0.7490000000000001</th>\n",
              "      <th>0.75</th>\n",
              "      <th>0.752</th>\n",
              "      <th>0.753</th>\n",
              "      <th>0.754</th>\n",
              "      <th>0.755</th>\n",
              "      <th>0.7609999999999999</th>\n",
              "      <th>0.762</th>\n",
              "      <th>0.7659999999999999</th>\n",
              "      <th>0.767</th>\n",
              "      <th>0.768</th>\n",
              "      <th>0.77</th>\n",
              "      <th>0.7709999999999999</th>\n",
              "      <th>0.773</th>\n",
              "      <th>0.778</th>\n",
              "      <th>0.7809999999999999</th>\n",
              "      <th>0.782</th>\n",
              "      <th>0.7879999999999999</th>\n",
              "      <th>0.79</th>\n",
              "      <th>0.7929999999999999</th>\n",
              "      <th>0.797</th>\n",
              "      <th>0.802</th>\n",
              "      <th>0.8029999999999999</th>\n",
              "      <th>0.809</th>\n",
              "      <th>0.81</th>\n",
              "      <th>0.813</th>\n",
              "      <th>0.8190000000000001</th>\n",
              "      <th>0.821</th>\n",
              "      <th>0.8220000000000001</th>\n",
              "      <th>0.825</th>\n",
              "      <th>0.8270000000000001</th>\n",
              "      <th>0.8290000000000001</th>\n",
              "      <th>0.8340000000000001</th>\n",
              "      <th>0.835</th>\n",
              "      <th>0.838</th>\n",
              "      <th>0.84</th>\n",
              "      <th>0.843</th>\n",
              "      <th>0.846</th>\n",
              "      <th>0.8490000000000001</th>\n",
              "      <th>0.851</th>\n",
              "      <th>0.8540000000000001</th>\n",
              "      <th>0.8590000000000001</th>\n",
              "      <th>0.861</th>\n",
              "      <th>0.8690000000000001</th>\n",
              "      <th>0.87</th>\n",
              "      <th>0.873</th>\n",
              "      <th>0.8759999999999999</th>\n",
              "      <th>0.877</th>\n",
              "      <th>0.878</th>\n",
              "      <th>0.879</th>\n",
              "      <th>0.88</th>\n",
              "      <th>0.8809999999999999</th>\n",
              "      <th>0.882</th>\n",
              "      <th>0.883</th>\n",
              "      <th>0.884</th>\n",
              "      <th>0.885</th>\n",
              "      <th>0.8859999999999999</th>\n",
              "      <th>0.888</th>\n",
              "      <th>0.889</th>\n",
              "      <th>0.89</th>\n",
              "      <th>0.8909999999999999</th>\n",
              "      <th>0.893</th>\n",
              "      <th>0.894</th>\n",
              "      <th>0.895</th>\n",
              "      <th>0.8959999999999999</th>\n",
              "      <th>0.898</th>\n",
              "      <th>0.899</th>\n",
              "      <th>0.9</th>\n",
              "      <th>0.903</th>\n",
              "      <th>0.904</th>\n",
              "      <th>0.905</th>\n",
              "      <th>0.9079999999999999</th>\n",
              "      <th>0.914</th>\n",
              "      <th>0.9209999999999999</th>\n",
              "      <th>0.927</th>\n",
              "      <th>0.9329999999999999</th>\n",
              "      <th>0.937</th>\n",
              "      <th>0.9420000000000001</th>\n",
              "      <th>0.9440000000000001</th>\n",
              "      <th>0.953</th>\n",
              "      <th>0.956</th>\n",
              "      <th>0.9590000000000001</th>\n",
              "      <th>0.965</th>\n",
              "      <th>0.9690000000000001</th>\n",
              "      <th>0.972</th>\n",
              "      <th>0.977</th>\n",
              "      <th>0.9790000000000001</th>\n",
              "      <th>0.982</th>\n",
              "      <th>0.985</th>\n",
              "      <th>0.987</th>\n",
              "      <th>0.993</th>\n",
              "      <th>0.996</th>\n",
              "      <th>1.0</th>\n",
              "      <th>1.0070000000000001</th>\n",
              "      <th>1.008</th>\n",
              "      <th>1.016</th>\n",
              "      <th>1.018</th>\n",
              "      <th>1.025</th>\n",
              "      <th>1.028</th>\n",
              "      <th>1.0290000000000001</th>\n",
              "      <th>1.03</th>\n",
              "      <th>1.031</th>\n",
              "      <th>1.032</th>\n",
              "      <th>1.035</th>\n",
              "      <th>1.037</th>\n",
              "      <th>1.0390000000000001</th>\n",
              "      <th>1.04</th>\n",
              "      <th>1.041</th>\n",
              "      <th>1.043</th>\n",
              "      <th>1.044</th>\n",
              "      <th>1.045</th>\n",
              "      <th>1.046</th>\n",
              "      <th>1.047</th>\n",
              "      <th>1.048</th>\n",
              "      <th>1.0490000000000002</th>\n",
              "      <th>1.05</th>\n",
              "      <th>1.0590000000000002</th>\n",
              "      <th>1.072</th>\n",
              "      <th>1.085</th>\n",
              "      <th>1.099</th>\n",
              "      <th>1.206</th>\n",
              "      <th>1.215</th>\n",
              "      <th>1.224</th>\n",
              "      <th>1.235</th>\n",
              "      <th>1.244</th>\n",
              "      <th>1.25</th>\n",
              "      <th>1.252</th>\n",
              "      <th>1.2590000000000001</th>\n",
              "      <th>1.26</th>\n",
              "      <th>1.262</th>\n",
              "      <th>1.264</th>\n",
              "      <th>1.266</th>\n",
              "      <th>1.268</th>\n",
              "      <th>1.27</th>\n",
              "      <th>1.281</th>\n",
              "      <th>1.286</th>\n",
              "      <th>1.291</th>\n",
              "      <th>1.2990000000000002</th>\n",
              "      <th>1.3130000000000002</th>\n",
              "      <th>1.327</th>\n",
              "      <th>1.334</th>\n",
              "      <th>1.344</th>\n",
              "      <th>1.354</th>\n",
              "      <th>1.365</th>\n",
              "      <th>1.3719999999999999</th>\n",
              "      <th>1.3840000000000001</th>\n",
              "      <th>1.392</th>\n",
              "      <th>1.4</th>\n",
              "      <th>1.405</th>\n",
              "      <th>1.406</th>\n",
              "      <th>1.41</th>\n",
              "      <th>1.415</th>\n",
              "      <th>1.423</th>\n",
              "      <th>1.435</th>\n",
              "      <th>1.445</th>\n",
              "      <th>1.453</th>\n",
              "      <th>1.466</th>\n",
              "      <th>1.479</th>\n",
              "      <th>1.483</th>\n",
              "      <th>1.4980000000000002</th>\n",
              "      <th>1.51</th>\n",
              "      <th>1.52</th>\n",
              "      <th>1.531</th>\n",
              "      <th>1.538</th>\n",
              "      <th>1.548</th>\n",
              "      <th>1.556</th>\n",
              "      <th>1.56</th>\n",
              "      <th>1.574</th>\n",
              "      <th>1.584</th>\n",
              "      <th>1.6019999999999999</th>\n",
              "      <th>1.614</th>\n",
              "      <th>1.629</th>\n",
              "      <th>1.64</th>\n",
              "      <th>1.65</th>\n",
              "      <th>1.663</th>\n",
              "      <th>1.6869999999999998</th>\n",
              "      <th>1.703</th>\n",
              "      <th>1.726</th>\n",
              "      <th>1.757</th>\n",
              "      <th>1.778</th>\n",
              "      <th>1.7990000000000002</th>\n",
              "      <th>1.811</th>\n",
              "      <th>3.053</th>\n",
              "      <th>3.282</th>\n",
              "      <th>3.3289999999999997</th>\n",
              "      <th>3.428</th>\n",
              "      <th>3.488</th>\n",
              "      <th>3.563</th>\n",
              "      <th>3.6689999999999996</th>\n",
              "      <th>3.7430000000000003</th>\n",
              "      <th>3.8160000000000003</th>\n",
              "      <th>3.853</th>\n",
              "      <th>3.8789999999999996</th>\n",
              "      <th>3.9010000000000002</th>\n",
              "      <th>4.021</th>\n",
              "      <th>4.0760000000000005</th>\n",
              "      <th>4.12</th>\n",
              "      <th>4.1530000000000005</th>\n",
              "      <th>4.191</th>\n",
              "      <th>4.223</th>\n",
              "      <th>4.245</th>\n",
              "      <th>4.2860000000000005</th>\n",
              "      <th>4.343</th>\n",
              "      <th>4.406000000000001</th>\n",
              "      <th>4.474</th>\n",
              "      <th>4.592</th>\n",
              "      <th>4.663</th>\n",
              "      <th>4.7</th>\n",
              "      <th>4.7330000000000005</th>\n",
              "      <th>4.76</th>\n",
              "      <th>4.794</th>\n",
              "      <th>4.827</th>\n",
              "      <th>4.855</th>\n",
              "      <th>4.856</th>\n",
              "      <th>4.857</th>\n",
              "      <th>4.8580000000000005</th>\n",
              "      <th>4.859</th>\n",
              "      <th>4.86</th>\n",
              "      <th>4.864</th>\n",
              "      <th>4.865</th>\n",
              "      <th>4.8660000000000005</th>\n",
              "      <th>4.912</th>\n",
              "      <th>4.918</th>\n",
              "      <th>4.921</th>\n",
              "      <th>4.936</th>\n",
              "      <th>4.947</th>\n",
              "      <th>4.955</th>\n",
              "      <th>4.956</th>\n",
              "      <th>4.957</th>\n",
              "      <th>4.958</th>\n",
              "      <th>4.959</th>\n",
              "      <th>4.96</th>\n",
              "      <th>4.961</th>\n",
              "      <th>4.962</th>\n",
              "      <th>4.963</th>\n",
              "      <th>4.9639999999999995</th>\n",
              "      <th>4.965</th>\n",
              "      <th>4.966</th>\n",
              "      <th>4.967</th>\n",
              "      <th>4.968</th>\n",
              "      <th>4.97</th>\n",
              "      <th>5.0</th>\n",
              "      <th>5.045</th>\n",
              "    </tr>\n",
              "    <tr>\n",
              "      <th>y</th>\n",
              "      <th></th>\n",
              "      <th></th>\n",
              "      <th></th>\n",
              "      <th></th>\n",
              "      <th></th>\n",
              "      <th></th>\n",
              "      <th></th>\n",
              "      <th></th>\n",
              "      <th></th>\n",
              "      <th></th>\n",
              "      <th></th>\n",
              "      <th></th>\n",
              "      <th></th>\n",
              "      <th></th>\n",
              "      <th></th>\n",
              "      <th></th>\n",
              "      <th></th>\n",
              "      <th></th>\n",
              "      <th></th>\n",
              "      <th></th>\n",
              "      <th></th>\n",
              "      <th></th>\n",
              "      <th></th>\n",
              "      <th></th>\n",
              "      <th></th>\n",
              "      <th></th>\n",
              "      <th></th>\n",
              "      <th></th>\n",
              "      <th></th>\n",
              "      <th></th>\n",
              "      <th></th>\n",
              "      <th></th>\n",
              "      <th></th>\n",
              "      <th></th>\n",
              "      <th></th>\n",
              "      <th></th>\n",
              "      <th></th>\n",
              "      <th></th>\n",
              "      <th></th>\n",
              "      <th></th>\n",
              "      <th></th>\n",
              "      <th></th>\n",
              "      <th></th>\n",
              "      <th></th>\n",
              "      <th></th>\n",
              "      <th></th>\n",
              "      <th></th>\n",
              "      <th></th>\n",
              "      <th></th>\n",
              "      <th></th>\n",
              "      <th></th>\n",
              "      <th></th>\n",
              "      <th></th>\n",
              "      <th></th>\n",
              "      <th></th>\n",
              "      <th></th>\n",
              "      <th></th>\n",
              "      <th></th>\n",
              "      <th></th>\n",
              "      <th></th>\n",
              "      <th></th>\n",
              "      <th></th>\n",
              "      <th></th>\n",
              "      <th></th>\n",
              "      <th></th>\n",
              "      <th></th>\n",
              "      <th></th>\n",
              "      <th></th>\n",
              "      <th></th>\n",
              "      <th></th>\n",
              "      <th></th>\n",
              "      <th></th>\n",
              "      <th></th>\n",
              "      <th></th>\n",
              "      <th></th>\n",
              "      <th></th>\n",
              "      <th></th>\n",
              "      <th></th>\n",
              "      <th></th>\n",
              "      <th></th>\n",
              "      <th></th>\n",
              "      <th></th>\n",
              "      <th></th>\n",
              "      <th></th>\n",
              "      <th></th>\n",
              "      <th></th>\n",
              "      <th></th>\n",
              "      <th></th>\n",
              "      <th></th>\n",
              "      <th></th>\n",
              "      <th></th>\n",
              "      <th></th>\n",
              "      <th></th>\n",
              "      <th></th>\n",
              "      <th></th>\n",
              "      <th></th>\n",
              "      <th></th>\n",
              "      <th></th>\n",
              "      <th></th>\n",
              "      <th></th>\n",
              "      <th></th>\n",
              "      <th></th>\n",
              "      <th></th>\n",
              "      <th></th>\n",
              "      <th></th>\n",
              "      <th></th>\n",
              "      <th></th>\n",
              "      <th></th>\n",
              "      <th></th>\n",
              "      <th></th>\n",
              "      <th></th>\n",
              "      <th></th>\n",
              "      <th></th>\n",
              "      <th></th>\n",
              "      <th></th>\n",
              "      <th></th>\n",
              "      <th></th>\n",
              "      <th></th>\n",
              "      <th></th>\n",
              "      <th></th>\n",
              "      <th></th>\n",
              "      <th></th>\n",
              "      <th></th>\n",
              "      <th></th>\n",
              "      <th></th>\n",
              "      <th></th>\n",
              "      <th></th>\n",
              "      <th></th>\n",
              "      <th></th>\n",
              "      <th></th>\n",
              "      <th></th>\n",
              "      <th></th>\n",
              "      <th></th>\n",
              "      <th></th>\n",
              "      <th></th>\n",
              "      <th></th>\n",
              "      <th></th>\n",
              "      <th></th>\n",
              "      <th></th>\n",
              "      <th></th>\n",
              "      <th></th>\n",
              "      <th></th>\n",
              "      <th></th>\n",
              "      <th></th>\n",
              "      <th></th>\n",
              "      <th></th>\n",
              "      <th></th>\n",
              "      <th></th>\n",
              "      <th></th>\n",
              "      <th></th>\n",
              "      <th></th>\n",
              "      <th></th>\n",
              "      <th></th>\n",
              "      <th></th>\n",
              "      <th></th>\n",
              "      <th></th>\n",
              "      <th></th>\n",
              "      <th></th>\n",
              "      <th></th>\n",
              "      <th></th>\n",
              "      <th></th>\n",
              "      <th></th>\n",
              "      <th></th>\n",
              "      <th></th>\n",
              "      <th></th>\n",
              "      <th></th>\n",
              "      <th></th>\n",
              "      <th></th>\n",
              "      <th></th>\n",
              "      <th></th>\n",
              "      <th></th>\n",
              "      <th></th>\n",
              "      <th></th>\n",
              "      <th></th>\n",
              "      <th></th>\n",
              "      <th></th>\n",
              "      <th></th>\n",
              "      <th></th>\n",
              "      <th></th>\n",
              "      <th></th>\n",
              "      <th></th>\n",
              "      <th></th>\n",
              "      <th></th>\n",
              "      <th></th>\n",
              "      <th></th>\n",
              "      <th></th>\n",
              "      <th></th>\n",
              "      <th></th>\n",
              "      <th></th>\n",
              "      <th></th>\n",
              "      <th></th>\n",
              "      <th></th>\n",
              "      <th></th>\n",
              "      <th></th>\n",
              "      <th></th>\n",
              "      <th></th>\n",
              "      <th></th>\n",
              "      <th></th>\n",
              "      <th></th>\n",
              "      <th></th>\n",
              "      <th></th>\n",
              "      <th></th>\n",
              "      <th></th>\n",
              "      <th></th>\n",
              "      <th></th>\n",
              "      <th></th>\n",
              "      <th></th>\n",
              "      <th></th>\n",
              "      <th></th>\n",
              "      <th></th>\n",
              "      <th></th>\n",
              "      <th></th>\n",
              "      <th></th>\n",
              "      <th></th>\n",
              "      <th></th>\n",
              "      <th></th>\n",
              "      <th></th>\n",
              "      <th></th>\n",
              "      <th></th>\n",
              "      <th></th>\n",
              "      <th></th>\n",
              "      <th></th>\n",
              "      <th></th>\n",
              "      <th></th>\n",
              "      <th></th>\n",
              "      <th></th>\n",
              "      <th></th>\n",
              "      <th></th>\n",
              "      <th></th>\n",
              "      <th></th>\n",
              "      <th></th>\n",
              "      <th></th>\n",
              "      <th></th>\n",
              "      <th></th>\n",
              "      <th></th>\n",
              "      <th></th>\n",
              "      <th></th>\n",
              "      <th></th>\n",
              "      <th></th>\n",
              "      <th></th>\n",
              "      <th></th>\n",
              "      <th></th>\n",
              "      <th></th>\n",
              "      <th></th>\n",
              "      <th></th>\n",
              "      <th></th>\n",
              "      <th></th>\n",
              "      <th></th>\n",
              "      <th></th>\n",
              "      <th></th>\n",
              "      <th></th>\n",
              "      <th></th>\n",
              "      <th></th>\n",
              "      <th></th>\n",
              "      <th></th>\n",
              "      <th></th>\n",
              "      <th></th>\n",
              "      <th></th>\n",
              "      <th></th>\n",
              "      <th></th>\n",
              "      <th></th>\n",
              "      <th></th>\n",
              "      <th></th>\n",
              "      <th></th>\n",
              "      <th></th>\n",
              "      <th></th>\n",
              "      <th></th>\n",
              "      <th></th>\n",
              "      <th></th>\n",
              "      <th></th>\n",
              "      <th></th>\n",
              "      <th></th>\n",
              "      <th></th>\n",
              "      <th></th>\n",
              "      <th></th>\n",
              "      <th></th>\n",
              "      <th></th>\n",
              "      <th></th>\n",
              "      <th></th>\n",
              "      <th></th>\n",
              "      <th></th>\n",
              "      <th></th>\n",
              "      <th></th>\n",
              "      <th></th>\n",
              "      <th></th>\n",
              "      <th></th>\n",
              "      <th></th>\n",
              "      <th></th>\n",
              "      <th></th>\n",
              "      <th></th>\n",
              "      <th></th>\n",
              "      <th></th>\n",
              "      <th></th>\n",
              "      <th></th>\n",
              "      <th></th>\n",
              "      <th></th>\n",
              "      <th></th>\n",
              "      <th></th>\n",
              "      <th></th>\n",
              "      <th></th>\n",
              "      <th></th>\n",
              "      <th></th>\n",
              "      <th></th>\n",
              "      <th></th>\n",
              "      <th></th>\n",
              "      <th></th>\n",
              "      <th></th>\n",
              "      <th></th>\n",
              "      <th></th>\n",
              "      <th></th>\n",
              "      <th></th>\n",
              "      <th></th>\n",
              "      <th></th>\n",
              "      <th></th>\n",
              "      <th></th>\n",
              "      <th></th>\n",
              "    </tr>\n",
              "  </thead>\n",
              "  <tbody>\n",
              "    <tr>\n",
              "      <th>0</th>\n",
              "      <td>2</td>\n",
              "      <td>21</td>\n",
              "      <td>11</td>\n",
              "      <td>1</td>\n",
              "      <td>2</td>\n",
              "      <td>5</td>\n",
              "      <td>5</td>\n",
              "      <td>18</td>\n",
              "      <td>12</td>\n",
              "      <td>14</td>\n",
              "      <td>15</td>\n",
              "      <td>26</td>\n",
              "      <td>4</td>\n",
              "      <td>8</td>\n",
              "      <td>4</td>\n",
              "      <td>8</td>\n",
              "      <td>6</td>\n",
              "      <td>7</td>\n",
              "      <td>10</td>\n",
              "      <td>5</td>\n",
              "      <td>7</td>\n",
              "      <td>9</td>\n",
              "      <td>9</td>\n",
              "      <td>5</td>\n",
              "      <td>19</td>\n",
              "      <td>3</td>\n",
              "      <td>6</td>\n",
              "      <td>4</td>\n",
              "      <td>0</td>\n",
              "      <td>1</td>\n",
              "      <td>5</td>\n",
              "      <td>3</td>\n",
              "      <td>4</td>\n",
              "      <td>14</td>\n",
              "      <td>4</td>\n",
              "      <td>8</td>\n",
              "      <td>13</td>\n",
              "      <td>2</td>\n",
              "      <td>7</td>\n",
              "      <td>15</td>\n",
              "      <td>2</td>\n",
              "      <td>4</td>\n",
              "      <td>5</td>\n",
              "      <td>3</td>\n",
              "      <td>6</td>\n",
              "      <td>7</td>\n",
              "      <td>66</td>\n",
              "      <td>50</td>\n",
              "      <td>32</td>\n",
              "      <td>11</td>\n",
              "      <td>13</td>\n",
              "      <td>27</td>\n",
              "      <td>31</td>\n",
              "      <td>2</td>\n",
              "      <td>45</td>\n",
              "      <td>4</td>\n",
              "      <td>18</td>\n",
              "      <td>2</td>\n",
              "      <td>19</td>\n",
              "      <td>5</td>\n",
              "      <td>10</td>\n",
              "      <td>12</td>\n",
              "      <td>4</td>\n",
              "      <td>5</td>\n",
              "      <td>8</td>\n",
              "      <td>12</td>\n",
              "      <td>56</td>\n",
              "      <td>32</td>\n",
              "      <td>22</td>\n",
              "      <td>49</td>\n",
              "      <td>10</td>\n",
              "      <td>12</td>\n",
              "      <td>7</td>\n",
              "      <td>1</td>\n",
              "      <td>5</td>\n",
              "      <td>4</td>\n",
              "      <td>5</td>\n",
              "      <td>27</td>\n",
              "      <td>1</td>\n",
              "      <td>11</td>\n",
              "      <td>1</td>\n",
              "      <td>2</td>\n",
              "      <td>7</td>\n",
              "      <td>9</td>\n",
              "      <td>7</td>\n",
              "      <td>5</td>\n",
              "      <td>12</td>\n",
              "      <td>3</td>\n",
              "      <td>12</td>\n",
              "      <td>8</td>\n",
              "      <td>7</td>\n",
              "      <td>4</td>\n",
              "      <td>6</td>\n",
              "      <td>21</td>\n",
              "      <td>2</td>\n",
              "      <td>22</td>\n",
              "      <td>14</td>\n",
              "      <td>9</td>\n",
              "      <td>3</td>\n",
              "      <td>17</td>\n",
              "      <td>17</td>\n",
              "      <td>7</td>\n",
              "      <td>21</td>\n",
              "      <td>12</td>\n",
              "      <td>6</td>\n",
              "      <td>9</td>\n",
              "      <td>6</td>\n",
              "      <td>19</td>\n",
              "      <td>7</td>\n",
              "      <td>13</td>\n",
              "      <td>7</td>\n",
              "      <td>19</td>\n",
              "      <td>15</td>\n",
              "      <td>19</td>\n",
              "      <td>20</td>\n",
              "      <td>42</td>\n",
              "      <td>32</td>\n",
              "      <td>1</td>\n",
              "      <td>62</td>\n",
              "      <td>15</td>\n",
              "      <td>8</td>\n",
              "      <td>21</td>\n",
              "      <td>96</td>\n",
              "      <td>9</td>\n",
              "      <td>43</td>\n",
              "      <td>18</td>\n",
              "      <td>86</td>\n",
              "      <td>78</td>\n",
              "      <td>1</td>\n",
              "      <td>25</td>\n",
              "      <td>5</td>\n",
              "      <td>11</td>\n",
              "      <td>8</td>\n",
              "      <td>4</td>\n",
              "      <td>7</td>\n",
              "      <td>3</td>\n",
              "      <td>2</td>\n",
              "      <td>16</td>\n",
              "      <td>26</td>\n",
              "      <td>15</td>\n",
              "      <td>7</td>\n",
              "      <td>4</td>\n",
              "      <td>28</td>\n",
              "      <td>5</td>\n",
              "      <td>11</td>\n",
              "      <td>3</td>\n",
              "      <td>1</td>\n",
              "      <td>2</td>\n",
              "      <td>0</td>\n",
              "      <td>2</td>\n",
              "      <td>7</td>\n",
              "      <td>2</td>\n",
              "      <td>2</td>\n",
              "      <td>1</td>\n",
              "      <td>6</td>\n",
              "      <td>4</td>\n",
              "      <td>1</td>\n",
              "      <td>10</td>\n",
              "      <td>16</td>\n",
              "      <td>3</td>\n",
              "      <td>9</td>\n",
              "      <td>2</td>\n",
              "      <td>13</td>\n",
              "      <td>3</td>\n",
              "      <td>1</td>\n",
              "      <td>10</td>\n",
              "      <td>1</td>\n",
              "      <td>2</td>\n",
              "      <td>6</td>\n",
              "      <td>2</td>\n",
              "      <td>4</td>\n",
              "      <td>6</td>\n",
              "      <td>27</td>\n",
              "      <td>4</td>\n",
              "      <td>3</td>\n",
              "      <td>7</td>\n",
              "      <td>2</td>\n",
              "      <td>2</td>\n",
              "      <td>6</td>\n",
              "      <td>3</td>\n",
              "      <td>5</td>\n",
              "      <td>3</td>\n",
              "      <td>21</td>\n",
              "      <td>1</td>\n",
              "      <td>6</td>\n",
              "      <td>1</td>\n",
              "      <td>17</td>\n",
              "      <td>7</td>\n",
              "      <td>13</td>\n",
              "      <td>13</td>\n",
              "      <td>17</td>\n",
              "      <td>3</td>\n",
              "      <td>8</td>\n",
              "      <td>7</td>\n",
              "      <td>16</td>\n",
              "      <td>5</td>\n",
              "      <td>4</td>\n",
              "      <td>385</td>\n",
              "      <td>527</td>\n",
              "      <td>19</td>\n",
              "      <td>49</td>\n",
              "      <td>150</td>\n",
              "      <td>95</td>\n",
              "      <td>65</td>\n",
              "      <td>716</td>\n",
              "      <td>55</td>\n",
              "      <td>89</td>\n",
              "      <td>574</td>\n",
              "      <td>9</td>\n",
              "      <td>503</td>\n",
              "      <td>495</td>\n",
              "      <td>468</td>\n",
              "      <td>505</td>\n",
              "      <td>450</td>\n",
              "      <td>369</td>\n",
              "      <td>158</td>\n",
              "      <td>167</td>\n",
              "      <td>7</td>\n",
              "      <td>8</td>\n",
              "      <td>15</td>\n",
              "      <td>9</td>\n",
              "      <td>1034</td>\n",
              "      <td>15</td>\n",
              "      <td>227</td>\n",
              "      <td>73</td>\n",
              "      <td>61</td>\n",
              "      <td>65</td>\n",
              "      <td>83</td>\n",
              "      <td>73</td>\n",
              "      <td>49</td>\n",
              "      <td>58</td>\n",
              "      <td>43</td>\n",
              "      <td>29</td>\n",
              "      <td>8</td>\n",
              "      <td>12</td>\n",
              "      <td>15</td>\n",
              "      <td>12</td>\n",
              "      <td>1</td>\n",
              "      <td>7</td>\n",
              "      <td>4</td>\n",
              "      <td>1</td>\n",
              "      <td>1</td>\n",
              "      <td>3</td>\n",
              "      <td>6</td>\n",
              "      <td>9</td>\n",
              "      <td>6</td>\n",
              "      <td>3</td>\n",
              "      <td>10</td>\n",
              "      <td>13</td>\n",
              "      <td>6</td>\n",
              "      <td>2</td>\n",
              "      <td>13</td>\n",
              "      <td>1</td>\n",
              "      <td>4</td>\n",
              "      <td>19</td>\n",
              "      <td>0</td>\n",
              "      <td>1</td>\n",
              "      <td>1</td>\n",
              "      <td>1</td>\n",
              "      <td>1</td>\n",
              "      <td>2</td>\n",
              "      <td>1</td>\n",
              "      <td>1</td>\n",
              "      <td>1</td>\n",
              "      <td>1</td>\n",
              "      <td>2</td>\n",
              "      <td>1</td>\n",
              "      <td>639</td>\n",
              "      <td>772</td>\n",
              "      <td>713</td>\n",
              "      <td>671</td>\n",
              "      <td>591</td>\n",
              "      <td>1</td>\n",
              "      <td>7</td>\n",
              "      <td>5</td>\n",
              "      <td>3</td>\n",
              "      <td>5</td>\n",
              "      <td>1</td>\n",
              "      <td>2</td>\n",
              "      <td>5</td>\n",
              "      <td>5</td>\n",
              "      <td>2</td>\n",
              "      <td>1</td>\n",
              "      <td>1</td>\n",
              "      <td>2</td>\n",
              "      <td>819</td>\n",
              "      <td>1178</td>\n",
              "      <td>2796</td>\n",
              "      <td>704</td>\n",
              "      <td>758</td>\n",
              "      <td>854</td>\n",
              "      <td>991</td>\n",
              "      <td>358</td>\n",
              "      <td>326</td>\n",
              "      <td>3</td>\n",
              "      <td>2</td>\n",
              "      <td>1</td>\n",
              "      <td>1</td>\n",
              "      <td>94</td>\n",
              "      <td>96</td>\n",
              "      <td>23</td>\n",
              "      <td>484</td>\n",
              "      <td>546</td>\n",
              "      <td>858</td>\n",
              "      <td>956</td>\n",
              "      <td>1812</td>\n",
              "      <td>2469</td>\n",
              "      <td>2361</td>\n",
              "      <td>1120</td>\n",
              "      <td>1007</td>\n",
              "      <td>574</td>\n",
              "      <td>610</td>\n",
              "      <td>935</td>\n",
              "      <td>168</td>\n",
              "      <td>4</td>\n",
              "      <td>4</td>\n",
              "    </tr>\n",
              "    <tr>\n",
              "      <th>1</th>\n",
              "      <td>6</td>\n",
              "      <td>22</td>\n",
              "      <td>3</td>\n",
              "      <td>5</td>\n",
              "      <td>5</td>\n",
              "      <td>11</td>\n",
              "      <td>5</td>\n",
              "      <td>17</td>\n",
              "      <td>11</td>\n",
              "      <td>24</td>\n",
              "      <td>11</td>\n",
              "      <td>23</td>\n",
              "      <td>6</td>\n",
              "      <td>4</td>\n",
              "      <td>3</td>\n",
              "      <td>27</td>\n",
              "      <td>13</td>\n",
              "      <td>13</td>\n",
              "      <td>24</td>\n",
              "      <td>10</td>\n",
              "      <td>4</td>\n",
              "      <td>9</td>\n",
              "      <td>7</td>\n",
              "      <td>7</td>\n",
              "      <td>20</td>\n",
              "      <td>11</td>\n",
              "      <td>10</td>\n",
              "      <td>5</td>\n",
              "      <td>3</td>\n",
              "      <td>2</td>\n",
              "      <td>5</td>\n",
              "      <td>7</td>\n",
              "      <td>19</td>\n",
              "      <td>14</td>\n",
              "      <td>1</td>\n",
              "      <td>3</td>\n",
              "      <td>9</td>\n",
              "      <td>5</td>\n",
              "      <td>11</td>\n",
              "      <td>11</td>\n",
              "      <td>4</td>\n",
              "      <td>4</td>\n",
              "      <td>4</td>\n",
              "      <td>1</td>\n",
              "      <td>4</td>\n",
              "      <td>2</td>\n",
              "      <td>73</td>\n",
              "      <td>85</td>\n",
              "      <td>22</td>\n",
              "      <td>7</td>\n",
              "      <td>5</td>\n",
              "      <td>3</td>\n",
              "      <td>47</td>\n",
              "      <td>4</td>\n",
              "      <td>29</td>\n",
              "      <td>6</td>\n",
              "      <td>5</td>\n",
              "      <td>3</td>\n",
              "      <td>16</td>\n",
              "      <td>8</td>\n",
              "      <td>14</td>\n",
              "      <td>3</td>\n",
              "      <td>2</td>\n",
              "      <td>13</td>\n",
              "      <td>13</td>\n",
              "      <td>13</td>\n",
              "      <td>26</td>\n",
              "      <td>13</td>\n",
              "      <td>5</td>\n",
              "      <td>19</td>\n",
              "      <td>7</td>\n",
              "      <td>5</td>\n",
              "      <td>5</td>\n",
              "      <td>1</td>\n",
              "      <td>2</td>\n",
              "      <td>1</td>\n",
              "      <td>2</td>\n",
              "      <td>17</td>\n",
              "      <td>6</td>\n",
              "      <td>11</td>\n",
              "      <td>3</td>\n",
              "      <td>1</td>\n",
              "      <td>10</td>\n",
              "      <td>4</td>\n",
              "      <td>13</td>\n",
              "      <td>1</td>\n",
              "      <td>10</td>\n",
              "      <td>4</td>\n",
              "      <td>9</td>\n",
              "      <td>3</td>\n",
              "      <td>13</td>\n",
              "      <td>7</td>\n",
              "      <td>3</td>\n",
              "      <td>17</td>\n",
              "      <td>5</td>\n",
              "      <td>9</td>\n",
              "      <td>7</td>\n",
              "      <td>10</td>\n",
              "      <td>3</td>\n",
              "      <td>5</td>\n",
              "      <td>7</td>\n",
              "      <td>4</td>\n",
              "      <td>6</td>\n",
              "      <td>12</td>\n",
              "      <td>7</td>\n",
              "      <td>4</td>\n",
              "      <td>14</td>\n",
              "      <td>10</td>\n",
              "      <td>11</td>\n",
              "      <td>3</td>\n",
              "      <td>14</td>\n",
              "      <td>16</td>\n",
              "      <td>12</td>\n",
              "      <td>11</td>\n",
              "      <td>15</td>\n",
              "      <td>23</td>\n",
              "      <td>22</td>\n",
              "      <td>12</td>\n",
              "      <td>20</td>\n",
              "      <td>16</td>\n",
              "      <td>12</td>\n",
              "      <td>12</td>\n",
              "      <td>84</td>\n",
              "      <td>11</td>\n",
              "      <td>36</td>\n",
              "      <td>7</td>\n",
              "      <td>38</td>\n",
              "      <td>50</td>\n",
              "      <td>9</td>\n",
              "      <td>23</td>\n",
              "      <td>0</td>\n",
              "      <td>6</td>\n",
              "      <td>0</td>\n",
              "      <td>0</td>\n",
              "      <td>6</td>\n",
              "      <td>0</td>\n",
              "      <td>1</td>\n",
              "      <td>21</td>\n",
              "      <td>13</td>\n",
              "      <td>35</td>\n",
              "      <td>20</td>\n",
              "      <td>8</td>\n",
              "      <td>32</td>\n",
              "      <td>12</td>\n",
              "      <td>5</td>\n",
              "      <td>0</td>\n",
              "      <td>1</td>\n",
              "      <td>0</td>\n",
              "      <td>1</td>\n",
              "      <td>0</td>\n",
              "      <td>0</td>\n",
              "      <td>1</td>\n",
              "      <td>0</td>\n",
              "      <td>0</td>\n",
              "      <td>10</td>\n",
              "      <td>1</td>\n",
              "      <td>0</td>\n",
              "      <td>7</td>\n",
              "      <td>5</td>\n",
              "      <td>0</td>\n",
              "      <td>6</td>\n",
              "      <td>5</td>\n",
              "      <td>6</td>\n",
              "      <td>2</td>\n",
              "      <td>0</td>\n",
              "      <td>8</td>\n",
              "      <td>2</td>\n",
              "      <td>3</td>\n",
              "      <td>3</td>\n",
              "      <td>1</td>\n",
              "      <td>10</td>\n",
              "      <td>3</td>\n",
              "      <td>17</td>\n",
              "      <td>2</td>\n",
              "      <td>5</td>\n",
              "      <td>9</td>\n",
              "      <td>5</td>\n",
              "      <td>4</td>\n",
              "      <td>3</td>\n",
              "      <td>7</td>\n",
              "      <td>4</td>\n",
              "      <td>6</td>\n",
              "      <td>16</td>\n",
              "      <td>0</td>\n",
              "      <td>9</td>\n",
              "      <td>0</td>\n",
              "      <td>5</td>\n",
              "      <td>6</td>\n",
              "      <td>8</td>\n",
              "      <td>10</td>\n",
              "      <td>17</td>\n",
              "      <td>4</td>\n",
              "      <td>3</td>\n",
              "      <td>2</td>\n",
              "      <td>4</td>\n",
              "      <td>2</td>\n",
              "      <td>5</td>\n",
              "      <td>37</td>\n",
              "      <td>60</td>\n",
              "      <td>7</td>\n",
              "      <td>21</td>\n",
              "      <td>102</td>\n",
              "      <td>50</td>\n",
              "      <td>22</td>\n",
              "      <td>104</td>\n",
              "      <td>40</td>\n",
              "      <td>21</td>\n",
              "      <td>63</td>\n",
              "      <td>7</td>\n",
              "      <td>41</td>\n",
              "      <td>25</td>\n",
              "      <td>24</td>\n",
              "      <td>33</td>\n",
              "      <td>32</td>\n",
              "      <td>26</td>\n",
              "      <td>57</td>\n",
              "      <td>136</td>\n",
              "      <td>3</td>\n",
              "      <td>1</td>\n",
              "      <td>6</td>\n",
              "      <td>4</td>\n",
              "      <td>135</td>\n",
              "      <td>10</td>\n",
              "      <td>27</td>\n",
              "      <td>25</td>\n",
              "      <td>26</td>\n",
              "      <td>16</td>\n",
              "      <td>20</td>\n",
              "      <td>8</td>\n",
              "      <td>8</td>\n",
              "      <td>4</td>\n",
              "      <td>7</td>\n",
              "      <td>6</td>\n",
              "      <td>3</td>\n",
              "      <td>5</td>\n",
              "      <td>14</td>\n",
              "      <td>5</td>\n",
              "      <td>5</td>\n",
              "      <td>5</td>\n",
              "      <td>4</td>\n",
              "      <td>0</td>\n",
              "      <td>2</td>\n",
              "      <td>5</td>\n",
              "      <td>7</td>\n",
              "      <td>1</td>\n",
              "      <td>4</td>\n",
              "      <td>5</td>\n",
              "      <td>10</td>\n",
              "      <td>9</td>\n",
              "      <td>2</td>\n",
              "      <td>9</td>\n",
              "      <td>7</td>\n",
              "      <td>2</td>\n",
              "      <td>10</td>\n",
              "      <td>12</td>\n",
              "      <td>1</td>\n",
              "      <td>0</td>\n",
              "      <td>0</td>\n",
              "      <td>0</td>\n",
              "      <td>0</td>\n",
              "      <td>0</td>\n",
              "      <td>0</td>\n",
              "      <td>0</td>\n",
              "      <td>0</td>\n",
              "      <td>0</td>\n",
              "      <td>0</td>\n",
              "      <td>0</td>\n",
              "      <td>37</td>\n",
              "      <td>50</td>\n",
              "      <td>43</td>\n",
              "      <td>19</td>\n",
              "      <td>19</td>\n",
              "      <td>3</td>\n",
              "      <td>2</td>\n",
              "      <td>2</td>\n",
              "      <td>2</td>\n",
              "      <td>2</td>\n",
              "      <td>2</td>\n",
              "      <td>2</td>\n",
              "      <td>4</td>\n",
              "      <td>3</td>\n",
              "      <td>0</td>\n",
              "      <td>2</td>\n",
              "      <td>4</td>\n",
              "      <td>3</td>\n",
              "      <td>21</td>\n",
              "      <td>32</td>\n",
              "      <td>72</td>\n",
              "      <td>29</td>\n",
              "      <td>30</td>\n",
              "      <td>38</td>\n",
              "      <td>53</td>\n",
              "      <td>15</td>\n",
              "      <td>14</td>\n",
              "      <td>4</td>\n",
              "      <td>2</td>\n",
              "      <td>2</td>\n",
              "      <td>5</td>\n",
              "      <td>4</td>\n",
              "      <td>7</td>\n",
              "      <td>0</td>\n",
              "      <td>53</td>\n",
              "      <td>35</td>\n",
              "      <td>37</td>\n",
              "      <td>57</td>\n",
              "      <td>90</td>\n",
              "      <td>144</td>\n",
              "      <td>126</td>\n",
              "      <td>55</td>\n",
              "      <td>64</td>\n",
              "      <td>48</td>\n",
              "      <td>33</td>\n",
              "      <td>57</td>\n",
              "      <td>4</td>\n",
              "      <td>3</td>\n",
              "      <td>5</td>\n",
              "    </tr>\n",
              "  </tbody>\n",
              "</table>\n",
              "</div>"
            ],
            "text/plain": [
              "euribor3m  0.6340  0.6350  0.6360  0.6370  0.6380  0.6390  0.6400  0.6420  \\\n",
              "y                                                                           \n",
              "0               2      21      11       1       2       5       5      18   \n",
              "1               6      22       3       5       5      11       5      17   \n",
              "\n",
              "euribor3m  0.6430  0.6440  0.6450  0.6460  0.6490  0.6500  0.6510  0.6520  \\\n",
              "y                                                                           \n",
              "0              12      14      15      26       4       8       4       8   \n",
              "1              11      24      11      23       6       4       3      27   \n",
              "\n",
              "euribor3m  0.6530  0.6540  0.6550  0.6590  0.6630  0.6680  0.6720  0.6770  \\\n",
              "y                                                                           \n",
              "0               6       7      10       5       7       9       9       5   \n",
              "1              13      13      24      10       4       9       7       7   \n",
              "\n",
              "euribor3m  0.6820  0.6830  0.6840  0.6850  0.6880  0.6900  0.6920  0.6950  \\\n",
              "y                                                                           \n",
              "0              19       3       6       4       0       1       5       3   \n",
              "1              20      11      10       5       3       2       5       7   \n",
              "\n",
              "euribor3m  0.6970  0.6990  0.7000  0.7010  0.7020  0.7040  0.7060  0.7070  \\\n",
              "y                                                                           \n",
              "0               4      14       4       8      13       2       7      15   \n",
              "1              19      14       1       3       9       5      11      11   \n",
              "\n",
              "euribor3m  0.7080  0.7090  0.7100  0.7110  0.7120  0.7130  0.7140  0.7150  \\\n",
              "y                                                                           \n",
              "0               2       4       5       3       6       7      66      50   \n",
              "1               4       4       4       1       4       2      73      85   \n",
              "\n",
              "euribor3m  0.7160  0.7170  0.7180  0.7190  0.7200  0.7210  0.7220  0.7230  \\\n",
              "y                                                                           \n",
              "0              32      11      13      27      31       2      45       4   \n",
              "1              22       7       5       3      47       4      29       6   \n",
              "\n",
              "euribor3m  0.7240  0.7270  0.7280  0.7290  0.7300  0.7310  0.7320  0.7330  \\\n",
              "y                                                                           \n",
              "0              18       2      19       5      10      12       4       5   \n",
              "1               5       3      16       8      14       3       2      13   \n",
              "\n",
              "euribor3m  0.7350  0.7370  0.7390  0.7400  0.7410  0.7420  0.7430  0.7440  \\\n",
              "y                                                                           \n",
              "0               8      12      56      32      22      49      10      12   \n",
              "1              13      13      26      13       5      19       7       5   \n",
              "\n",
              "euribor3m  0.7480  0.7490  0.7500  0.7520  0.7530  0.7540  0.7550  0.7610  \\\n",
              "y                                                                           \n",
              "0               7       1       5       4       5      27       1      11   \n",
              "1               5       1       2       1       2      17       6      11   \n",
              "\n",
              "euribor3m  0.7620  0.7660  0.7670  0.7680  0.7700  0.7710  0.7730  0.7780  \\\n",
              "y                                                                           \n",
              "0               1       2       7       9       7       5      12       3   \n",
              "1               3       1      10       4      13       1      10       4   \n",
              "\n",
              "euribor3m  0.7810  0.7820  0.7880  0.7900  0.7930  0.7970  0.8020  0.8030  \\\n",
              "y                                                                           \n",
              "0              12       8       7       4       6      21       2      22   \n",
              "1               9       3      13       7       3      17       5       9   \n",
              "\n",
              "euribor3m  0.8090  0.8100  0.8130  0.8190  0.8210  0.8220  0.8250  0.8270  \\\n",
              "y                                                                           \n",
              "0              14       9       3      17      17       7      21      12   \n",
              "1               7      10       3       5       7       4       6      12   \n",
              "\n",
              "euribor3m  0.8290  0.8340  0.8350  0.8380  0.8400  0.8430  0.8460  0.8490  \\\n",
              "y                                                                           \n",
              "0               6       9       6      19       7      13       7      19   \n",
              "1               7       4      14      10      11       3      14      16   \n",
              "\n",
              "euribor3m  0.8510  0.8540  0.8590  0.8610  0.8690  0.8700  0.8730  0.8760  \\\n",
              "y                                                                           \n",
              "0              15      19      20      42      32       1      62      15   \n",
              "1              12      11      15      23      22      12      20      16   \n",
              "\n",
              "euribor3m  0.8770  0.8780  0.8790  0.8800  0.8810  0.8820  0.8830  0.8840  \\\n",
              "y                                                                           \n",
              "0               8      21      96       9      43      18      86      78   \n",
              "1              12      12      84      11      36       7      38      50   \n",
              "\n",
              "euribor3m  0.8850  0.8860  0.8880  0.8890  0.8900  0.8910  0.8930  0.8940  \\\n",
              "y                                                                           \n",
              "0               1      25       5      11       8       4       7       3   \n",
              "1               9      23       0       6       0       0       6       0   \n",
              "\n",
              "euribor3m  0.8950  0.8960  0.8980  0.8990  0.9000  0.9030  0.9040  0.9050  \\\n",
              "y                                                                           \n",
              "0               2      16      26      15       7       4      28       5   \n",
              "1               1      21      13      35      20       8      32      12   \n",
              "\n",
              "euribor3m  0.9080  0.9140  0.9210  0.9270  0.9330  0.9370  0.9420  0.9440  \\\n",
              "y                                                                           \n",
              "0              11       3       1       2       0       2       7       2   \n",
              "1               5       0       1       0       1       0       0       1   \n",
              "\n",
              "euribor3m  0.9530  0.9560  0.9590  0.9650  0.9690  0.9720  0.9770  0.9790  \\\n",
              "y                                                                           \n",
              "0               2       1       6       4       1      10      16       3   \n",
              "1               0       0      10       1       0       7       5       0   \n",
              "\n",
              "euribor3m  0.9820  0.9850  0.9870  0.9930  0.9960  1.0000  1.0070  1.0080  \\\n",
              "y                                                                           \n",
              "0               9       2      13       3       1      10       1       2   \n",
              "1               6       5       6       2       0       8       2       3   \n",
              "\n",
              "euribor3m  1.0160  1.0180  1.0250  1.0280  1.0290  1.0300  1.0310  1.0320  \\\n",
              "y                                                                           \n",
              "0               6       2       4       6      27       4       3       7   \n",
              "1               3       1      10       3      17       2       5       9   \n",
              "\n",
              "euribor3m  1.0350  1.0370  1.0390  1.0400  1.0410  1.0430  1.0440  1.0450  \\\n",
              "y                                                                           \n",
              "0               2       2       6       3       5       3      21       1   \n",
              "1               5       4       3       7       4       6      16       0   \n",
              "\n",
              "euribor3m  1.0460  1.0470  1.0480  1.0490  1.0500  1.0590  1.0720  1.0850  \\\n",
              "y                                                                           \n",
              "0               6       1      17       7      13      13      17       3   \n",
              "1               9       0       5       6       8      10      17       4   \n",
              "\n",
              "euribor3m  1.0990  1.2060  1.2150  1.2240  1.2350  1.2440  1.2500  1.2520  \\\n",
              "y                                                                           \n",
              "0               8       7      16       5       4     385     527      19   \n",
              "1               3       2       4       2       5      37      60       7   \n",
              "\n",
              "euribor3m  1.2590  1.2600  1.2620  1.2640  1.2660  1.2680  1.2700  1.2810  \\\n",
              "y                                                                           \n",
              "0              49     150      95      65     716      55      89     574   \n",
              "1              21     102      50      22     104      40      21      63   \n",
              "\n",
              "euribor3m  1.2860  1.2910  1.2990  1.3130  1.3270  1.3340  1.3440  1.3540  \\\n",
              "y                                                                           \n",
              "0               9     503     495     468     505     450     369     158   \n",
              "1               7      41      25      24      33      32      26      57   \n",
              "\n",
              "euribor3m  1.3650  1.3720  1.3840  1.3920  1.4000  1.4050  1.4060  1.4100  \\\n",
              "y                                                                           \n",
              "0             167       7       8      15       9    1034      15     227   \n",
              "1             136       3       1       6       4     135      10      27   \n",
              "\n",
              "euribor3m  1.4150  1.4230  1.4350  1.4450  1.4530  1.4660  1.4790  1.4830  \\\n",
              "y                                                                           \n",
              "0              73      61      65      83      73      49      58      43   \n",
              "1              25      26      16      20       8       8       4       7   \n",
              "\n",
              "euribor3m  1.4980  1.5100  1.5200  1.5310  1.5380  1.5480  1.5560  1.5600  \\\n",
              "y                                                                           \n",
              "0              29       8      12      15      12       1       7       4   \n",
              "1               6       3       5      14       5       5       5       4   \n",
              "\n",
              "euribor3m  1.5740  1.5840  1.6020  1.6140  1.6290  1.6400  1.6500  1.6630  \\\n",
              "y                                                                           \n",
              "0               1       1       3       6       9       6       3      10   \n",
              "1               0       2       5       7       1       4       5      10   \n",
              "\n",
              "euribor3m  1.6870  1.7030  1.7260  1.7570  1.7780  1.7990  1.8110  3.0530  \\\n",
              "y                                                                           \n",
              "0              13       6       2      13       1       4      19       0   \n",
              "1               9       2       9       7       2      10      12       1   \n",
              "\n",
              "euribor3m  3.2820  3.3290  3.4280  3.4880  3.5630  3.6690  3.7430  3.8160  \\\n",
              "y                                                                           \n",
              "0               1       1       1       1       2       1       1       1   \n",
              "1               0       0       0       0       0       0       0       0   \n",
              "\n",
              "euribor3m  3.8530  3.8790  3.9010  4.0210  4.0760  4.1200  4.1530  4.1910  \\\n",
              "y                                                                           \n",
              "0               1       2       1     639     772     713     671     591   \n",
              "1               0       0       0      37      50      43      19      19   \n",
              "\n",
              "euribor3m  4.2230  4.2450  4.2860  4.3430  4.4060  4.4740  4.5920  4.6630  \\\n",
              "y                                                                           \n",
              "0               1       7       5       3       5       1       2       5   \n",
              "1               3       2       2       2       2       2       2       4   \n",
              "\n",
              "euribor3m  4.7000  4.7330  4.7600  4.7940  4.8270  4.8550  4.8560  4.8570  \\\n",
              "y                                                                           \n",
              "0               5       2       1       1       2     819    1178    2796   \n",
              "1               3       0       2       4       3      21      32      72   \n",
              "\n",
              "euribor3m  4.8580  4.8590  4.8600  4.8640  4.8650  4.8660  4.9120  4.9180  \\\n",
              "y                                                                           \n",
              "0             704     758     854     991     358     326       3       2   \n",
              "1              29      30      38      53      15      14       4       2   \n",
              "\n",
              "euribor3m  4.9210  4.9360  4.9470  4.9550  4.9560  4.9570  4.9580  4.9590  \\\n",
              "y                                                                           \n",
              "0               1       1      94      96      23     484     546     858   \n",
              "1               2       5       4       7       0      53      35      37   \n",
              "\n",
              "euribor3m  4.9600  4.9610  4.9620  4.9630  4.9640  4.9650  4.9660  4.9670  \\\n",
              "y                                                                           \n",
              "0             956    1812    2469    2361    1120    1007     574     610   \n",
              "1              57      90     144     126      55      64      48      33   \n",
              "\n",
              "euribor3m  4.9680  4.9700  5.0000  5.0450  \n",
              "y                                          \n",
              "0             935     168       4       4  \n",
              "1              57       4       3       5  "
            ]
          },
          "metadata": {
            "tags": []
          },
          "execution_count": 70
        }
      ]
    },
    {
      "metadata": {
        "id": "J9JIh68jpiF3",
        "colab_type": "text"
      },
      "cell_type": "markdown",
      "source": [
        "###20 nr.employed\n",
        "Anzahl von angestellten > number of employees - quarterly indicator (numeric)"
      ]
    },
    {
      "metadata": {
        "id": "6HpCam4DAGIy",
        "colab_type": "code",
        "outputId": "9e2a7dc5-5600-4859-a1ef-1c54b1fdcef9",
        "colab": {
          "base_uri": "https://localhost:8080/",
          "height": 426
        }
      },
      "cell_type": "code",
      "source": [
        " #Prozentual zeilenweise \n",
        "pd.crosstab(index=data['nr.employed'], columns=data['y'], margins=False).apply(lambda zeile: zeile/zeile.sum(), axis=1) .round(4)*100\n"
      ],
      "execution_count": 0,
      "outputs": [
        {
          "output_type": "execute_result",
          "data": {
            "text/html": [
              "<div>\n",
              "<style scoped>\n",
              "    .dataframe tbody tr th:only-of-type {\n",
              "        vertical-align: middle;\n",
              "    }\n",
              "\n",
              "    .dataframe tbody tr th {\n",
              "        vertical-align: top;\n",
              "    }\n",
              "\n",
              "    .dataframe thead th {\n",
              "        text-align: right;\n",
              "    }\n",
              "</style>\n",
              "<table border=\"1\" class=\"dataframe\">\n",
              "  <thead>\n",
              "    <tr style=\"text-align: right;\">\n",
              "      <th>y</th>\n",
              "      <th>0</th>\n",
              "      <th>1</th>\n",
              "    </tr>\n",
              "    <tr>\n",
              "      <th>nr.employed</th>\n",
              "      <th></th>\n",
              "      <th></th>\n",
              "    </tr>\n",
              "  </thead>\n",
              "  <tbody>\n",
              "    <tr>\n",
              "      <th>4963.6000</th>\n",
              "      <td>52.6000</td>\n",
              "      <td>47.4000</td>\n",
              "    </tr>\n",
              "    <tr>\n",
              "      <th>4991.6000</th>\n",
              "      <td>47.8700</td>\n",
              "      <td>52.1300</td>\n",
              "    </tr>\n",
              "    <tr>\n",
              "      <th>5008.7000</th>\n",
              "      <td>43.2300</td>\n",
              "      <td>56.7700</td>\n",
              "    </tr>\n",
              "    <tr>\n",
              "      <th>5017.5000</th>\n",
              "      <td>57.6100</td>\n",
              "      <td>42.3900</td>\n",
              "    </tr>\n",
              "    <tr>\n",
              "      <th>5023.5000</th>\n",
              "      <td>48.8400</td>\n",
              "      <td>51.1600</td>\n",
              "    </tr>\n",
              "    <tr>\n",
              "      <th>5076.2000</th>\n",
              "      <td>64.2800</td>\n",
              "      <td>35.7200</td>\n",
              "    </tr>\n",
              "    <tr>\n",
              "      <th>5099.1000</th>\n",
              "      <td>87.2000</td>\n",
              "      <td>12.8000</td>\n",
              "    </tr>\n",
              "    <tr>\n",
              "      <th>5176.3000</th>\n",
              "      <td>90.0000</td>\n",
              "      <td>10.0000</td>\n",
              "    </tr>\n",
              "    <tr>\n",
              "      <th>5191.0000</th>\n",
              "      <td>96.9100</td>\n",
              "      <td>3.0900</td>\n",
              "    </tr>\n",
              "    <tr>\n",
              "      <th>5195.8000</th>\n",
              "      <td>93.7000</td>\n",
              "      <td>6.3000</td>\n",
              "    </tr>\n",
              "    <tr>\n",
              "      <th>5228.1000</th>\n",
              "      <td>94.6700</td>\n",
              "      <td>5.3300</td>\n",
              "    </tr>\n",
              "  </tbody>\n",
              "</table>\n",
              "</div>"
            ],
            "text/plain": [
              "y                 0       1\n",
              "nr.employed                \n",
              "4963.6000   52.6000 47.4000\n",
              "4991.6000   47.8700 52.1300\n",
              "5008.7000   43.2300 56.7700\n",
              "5017.5000   57.6100 42.3900\n",
              "5023.5000   48.8400 51.1600\n",
              "5076.2000   64.2800 35.7200\n",
              "5099.1000   87.2000 12.8000\n",
              "5176.3000   90.0000 10.0000\n",
              "5191.0000   96.9100  3.0900\n",
              "5195.8000   93.7000  6.3000\n",
              "5228.1000   94.6700  5.3300"
            ]
          },
          "metadata": {
            "tags": []
          },
          "execution_count": 71
        }
      ]
    },
    {
      "metadata": {
        "id": "7V_BcyzBj-gY",
        "colab_type": "text"
      },
      "cell_type": "markdown",
      "source": [
        "##grafische Analyse"
      ]
    },
    {
      "metadata": {
        "id": "b5d4fZwfjyDo",
        "colab_type": "code",
        "outputId": "3dca7ffe-0a66-4498-911c-26f8bc0270eb",
        "colab": {
          "base_uri": "https://localhost:8080/",
          "height": 586
        }
      },
      "cell_type": "code",
      "source": [
        "fig = plt.figure(figsize=(20, 8))\n",
        "\n",
        "ax1 = fig.add_subplot(231)\n",
        "data.groupby('euribor3m_class').size().plot(kind='bar', ax=ax1)\n",
        "\n",
        "ax2 = fig.add_subplot(232)\n",
        "data.groupby('cons.price.idx').size().plot(kind='bar', ax=ax2)\n",
        "\n",
        "ax3 = fig.add_subplot(233)\n",
        "data.groupby('cons.conf.idx').size().plot(kind='bar', ax=ax3)\n",
        "\n",
        "ax4 = fig.add_subplot(234)\n",
        "data.groupby(['euribor3m_class', 'y']).size().groupby(level=0).apply(lambda x: 100 * x / x.sum()).unstack().plot(kind='bar', stacked=True, ax=ax4)\n",
        "ax4.legend(loc='center left', bbox_to_anchor=(1, 0.5))\n",
        "\n",
        "ax5 = fig.add_subplot(235)\n",
        "data.groupby(['cons.price.idx', 'y']).size().groupby(level=0).apply(lambda x: 100 * x / x.sum()).unstack().plot(kind='bar', stacked=True, ax=ax5)\n",
        "ax5.legend(loc='center left', bbox_to_anchor=(1, 0.5))\n",
        "\n",
        "ax6 = fig.add_subplot(236)\n",
        "data.groupby(['cons.conf.idx', 'y']).size().groupby(level=0).apply(lambda x: 100 * x / x.sum()).unstack().plot(kind='bar', stacked=True, ax=ax6)\n",
        "ax6.legend(loc='center left', bbox_to_anchor=(1, 0.5))\n",
        "\n",
        "plt.tight_layout()\n",
        "plt.show()"
      ],
      "execution_count": 0,
      "outputs": [
        {
          "output_type": "display_data",
          "data": {
            "image/png": "[encoded data removed]",
            "text/plain": [
              "<matplotlib.figure.Figure at 0x7ff8ba386208>"
            ]
          },
          "metadata": {
            "tags": []
          }
        }
      ]
    },
    {
      "metadata": {
        "id": "shtt1eNakEjb",
        "colab_type": "code",
        "outputId": "b1f2df34-2c27-49a3-959d-24ae88abdd56",
        "colab": {
          "base_uri": "https://localhost:8080/",
          "height": 585
        }
      },
      "cell_type": "code",
      "source": [
        "fig = plt.figure(figsize=(20, 8))\n",
        "\n",
        "ax1 = fig.add_subplot(231)\n",
        "data.groupby('emp.var.rate').size().plot(kind='bar', ax=ax1)\n",
        "\n",
        "ax2 = fig.add_subplot(232)\n",
        "data.groupby('nr.employed').size().plot(kind='bar', ax=ax2)\n",
        "\n",
        "\n",
        "\n",
        "ax3 = fig.add_subplot(234)\n",
        "data.groupby(['emp.var.rate', 'y']).size().groupby(level=0).apply(lambda x: 100 * x / x.sum()).unstack().plot(kind='bar', stacked=True, ax=ax3)\n",
        "ax3.legend(loc='center left', bbox_to_anchor=(1, 0.5))\n",
        "\n",
        "ax4 = fig.add_subplot(235)\n",
        "data.groupby(['nr.employed', 'y']).size().groupby(level=0).apply(lambda x: 100 * x / x.sum()).unstack().plot(kind='bar', stacked=True, ax=ax4)\n",
        "ax4.legend(loc='center left', bbox_to_anchor=(1, 0.5))\n",
        "\n",
        "\n",
        "\n",
        "plt.tight_layout()\n",
        "plt.show()"
      ],
      "execution_count": 0,
      "outputs": [
        {
          "output_type": "display_data",
          "data": {
            "image/png": "[encoded data removed]",
            "text/plain": [
              "<matplotlib.figure.Figure at 0x7ff8b9722828>"
            ]
          },
          "metadata": {
            "tags": []
          }
        }
      ]
    },
    {
      "metadata": {
        "id": "VAjVtFh-OHsb",
        "colab_type": "code",
        "colab": {}
      },
      "cell_type": "code",
      "source": [
        "#Spalte rausnehmen\n",
        "data.drop(['euribor3m_class', 'emp.var.rate'], axis=1, inplace=True)\n"
      ],
      "execution_count": 0,
      "outputs": []
    },
    {
      "metadata": {
        "id": "j7mdJBG2ahIy",
        "colab_type": "text"
      },
      "cell_type": "markdown",
      "source": [
        "#Auswahl Features"
      ]
    },
    {
      "metadata": {
        "id": "dPE2cmuZlo7c",
        "colab_type": "text"
      },
      "cell_type": "markdown",
      "source": [
        "# Features umwandeln"
      ]
    },
    {
      "metadata": {
        "id": "qOImoeBulwEE",
        "colab_type": "text"
      },
      "cell_type": "markdown",
      "source": [
        "**bold text**##### One-Hot-Encoding  # für regression aber nur categories age z.B. ist schon ein Numerischer Zeitwert und kann übernommen werden"
      ]
    },
    {
      "metadata": {
        "id": "RmzedL0JCVB_",
        "colab_type": "code",
        "outputId": "c2bf66f7-e20a-4ab9-eab8-8cc6c18e3c93",
        "colab": {
          "base_uri": "https://localhost:8080/",
          "height": 221
        }
      },
      "cell_type": "code",
      "source": [
        "data.dtypes"
      ],
      "execution_count": 0,
      "outputs": [
        {
          "output_type": "execute_result",
          "data": {
            "text/plain": [
              "age                 int64\n",
              "previous            int64\n",
              "cons.price.idx    float64\n",
              "cons.conf.idx     float64\n",
              "euribor3m         float64\n",
              "nr.employed       float64\n",
              "y                   int64\n",
              "job_class           int64\n",
              "month_class         int64\n",
              "poutcome_class      int64\n",
              "dtype: object"
            ]
          },
          "metadata": {
            "tags": []
          },
          "execution_count": 75
        }
      ]
    },
    {
      "metadata": {
        "id": "xJCJrUIpl7o4",
        "colab_type": "text"
      },
      "cell_type": "markdown",
      "source": [
        "#Normalization"
      ]
    },
    {
      "metadata": {
        "id": "U1jdCCoymAWt",
        "colab_type": "text"
      },
      "cell_type": "markdown",
      "source": [
        "Standard Scaling # alle nichtskallierten Daten werden genommen auser die gedropten wie age, um die ausreisser zu minimieren."
      ]
    },
    {
      "metadata": {
        "id": "g96Dc1xjmA_C",
        "colab_type": "code",
        "colab": {}
      },
      "cell_type": "code",
      "source": [
        "#normalized_numerical_feature_names = []\n",
        "#for numeric_feature in list(data.select_dtypes(['int64', 'float64']).drop(['age'], axis=1).columns[0:5]):\n",
        "   # scaler = StandardScaler()\n",
        "   # feature_name = f'norm_{numeric_feature}'\n",
        "   # data[feature_name] = scaler.fit_transform(data[[numeric_feature]].values)\n",
        "   # normalized_numerical_feature_names.append(feature_name)"
      ],
      "execution_count": 0,
      "outputs": []
    },
    {
      "metadata": {
        "id": "QWhc7A0_1sgQ",
        "colab_type": "text"
      },
      "cell_type": "markdown",
      "source": [
        "#Logistic Regression"
      ]
    },
    {
      "metadata": {
        "id": "WC-Np964DsjS",
        "colab_type": "text"
      },
      "cell_type": "markdown",
      "source": [
        "## Data Zuordnung Achsen"
      ]
    },
    {
      "metadata": {
        "id": "gUC44SRvO4JD",
        "colab_type": "text"
      },
      "cell_type": "markdown",
      "source": [
        "Features:\n",
        "\n",
        "'age'\n",
        "'job_class'   \n",
        "contact_class \n",
        " 'month_class'\n",
        "'poutcome_class'\n",
        "emp.var.rate \n",
        "'nr.employed'   \n",
        "\n",
        "  cons.price.idx'    \n",
        "'cons.conf.idx'    \n",
        "            \n",
        "         \n",
        "    'euribor3m'    \n",
        "       \n",
        "      \n",
        "\n",
        "                \n"
      ]
    },
    {
      "metadata": {
        "id": "Rm2648ZrDzJe",
        "colab_type": "code",
        "colab": {}
      },
      "cell_type": "code",
      "source": [
        "x, y = data        [[\n",
        "'age',\n",
        "'month_class',\n",
        "'job_class',\n",
        "'poutcome_class',\n",
        "'nr.employed'\n",
        "    \n",
        "   \n",
        "]].values, data['y'].values \n",
        "\n",
        "\n",
        "#daten in Matrix packen, pro [] eine Array inszanz also [[]] 2 Dimensoon Matrix, .values um in matrix zu wandeln"
      ],
      "execution_count": 0,
      "outputs": []
    },
    {
      "metadata": {
        "id": "gm-19mStw44h",
        "colab_type": "code",
        "outputId": "32dfe5dd-914f-43c0-8733-3ef277f04c3a",
        "colab": {
          "base_uri": "https://localhost:8080/",
          "height": 36
        }
      },
      "cell_type": "code",
      "source": [
        "x.shape"
      ],
      "execution_count": 0,
      "outputs": [
        {
          "output_type": "execute_result",
          "data": {
            "text/plain": [
              "(41188, 5)"
            ]
          },
          "metadata": {
            "tags": []
          },
          "execution_count": 78
        }
      ]
    },
    {
      "metadata": {
        "id": "_h4_QEkc0Vbz",
        "colab_type": "code",
        "outputId": "2faf8b09-ebf7-4c79-e2c8-abd4d541838e",
        "colab": {
          "base_uri": "https://localhost:8080/",
          "height": 147
        }
      },
      "cell_type": "code",
      "source": [
        "x.real\n"
      ],
      "execution_count": 0,
      "outputs": [
        {
          "output_type": "execute_result",
          "data": {
            "text/plain": [
              "array([[5.6000e+01, 0.0000e+00, 0.0000e+00, 0.0000e+00, 5.1910e+03],\n",
              "       [5.7000e+01, 0.0000e+00, 0.0000e+00, 0.0000e+00, 5.1910e+03],\n",
              "       [3.7000e+01, 0.0000e+00, 0.0000e+00, 0.0000e+00, 5.1910e+03],\n",
              "       ...,\n",
              "       [5.6000e+01, 0.0000e+00, 0.0000e+00, 0.0000e+00, 4.9636e+03],\n",
              "       [4.4000e+01, 0.0000e+00, 0.0000e+00, 0.0000e+00, 4.9636e+03],\n",
              "       [7.4000e+01, 0.0000e+00, 0.0000e+00, 1.0000e+00, 4.9636e+03]])"
            ]
          },
          "metadata": {
            "tags": []
          },
          "execution_count": 79
        }
      ]
    },
    {
      "metadata": {
        "id": "DCL8KcOu0LRX",
        "colab_type": "code",
        "outputId": "1a93e2fe-d7da-4460-9aa4-5c0f45ac3aca",
        "colab": {
          "base_uri": "https://localhost:8080/",
          "height": 36
        }
      },
      "cell_type": "code",
      "source": [
        "y.shape"
      ],
      "execution_count": 0,
      "outputs": [
        {
          "output_type": "execute_result",
          "data": {
            "text/plain": [
              "(41188,)"
            ]
          },
          "metadata": {
            "tags": []
          },
          "execution_count": 80
        }
      ]
    },
    {
      "metadata": {
        "id": "EHnKtZrC05Ud",
        "colab_type": "code",
        "outputId": "07830916-c467-4f3e-c250-7ed1e0241725",
        "colab": {
          "base_uri": "https://localhost:8080/",
          "height": 36
        }
      },
      "cell_type": "code",
      "source": [
        "y.real"
      ],
      "execution_count": 0,
      "outputs": [
        {
          "output_type": "execute_result",
          "data": {
            "text/plain": [
              "array([0, 0, 0, ..., 0, 1, 0])"
            ]
          },
          "metadata": {
            "tags": []
          },
          "execution_count": 81
        }
      ]
    },
    {
      "metadata": {
        "id": "wYrgZHN-D7Dr",
        "colab_type": "text"
      },
      "cell_type": "markdown",
      "source": [
        "## Training with Logistic Regression with Stochastic Gradient Descent"
      ]
    },
    {
      "metadata": {
        "id": "Cw5pzGcXxz62",
        "colab_type": "code",
        "outputId": "29c0e85f-b2d4-4e04-b9c5-c04d2ad6649e",
        "colab": {
          "base_uri": "https://localhost:8080/",
          "height": 185
        }
      },
      "cell_type": "code",
      "source": [
        "# Set Seed for \"Deterministic Randomness\".\n",
        "#np.random.seed(1909) #lieber weglassen\n",
        "\n",
        "# Initialize the Logisitc Regression Model.-\n",
        "logistic_model = SGDClassifier(loss='log', \n",
        "                               eta0=0.001, #schrittlänge um min Punkt zu finden und nicht versehendlich zu übergehen\n",
        "                               alpha=0.03, #wie stark die loss funktion gewichtet wird (bestrafung der Modellkomplexität)\n",
        "                               max_iter=1000, # anzahl d. itterationsschritte begrenzen, determinator\n",
        "                               random_state=8765) #hier lieber random_state setzen\n",
        "\n",
        "# Perform the Learning.\n",
        "logistic_model.fit(x, y) #fit = setze eine gerade oder eine ebene an..."
      ],
      "execution_count": 0,
      "outputs": [
        {
          "output_type": "stream",
          "text": [
            "/usr/local/lib/python3.6/dist-packages/sklearn/linear_model/stochastic_gradient.py:183: FutureWarning: max_iter and tol parameters have been added in SGDClassifier in 0.19. If max_iter is set but tol is left unset, the default value for tol in 0.19 and 0.20 will be None (which is equivalent to -infinity, so it has no effect) but will change in 0.21 to 1e-3. Specify tol to silence this warning.\n",
            "  FutureWarning)\n"
          ],
          "name": "stderr"
        },
        {
          "output_type": "execute_result",
          "data": {
            "text/plain": [
              "SGDClassifier(alpha=0.03, average=False, class_weight=None,\n",
              "       early_stopping=False, epsilon=0.1, eta0=0.001, fit_intercept=True,\n",
              "       l1_ratio=0.15, learning_rate='optimal', loss='log', max_iter=1000,\n",
              "       n_iter=None, n_iter_no_change=5, n_jobs=None, penalty='l2',\n",
              "       power_t=0.5, random_state=8765, shuffle=True, tol=None,\n",
              "       validation_fraction=0.1, verbose=0, warm_start=False)"
            ]
          },
          "metadata": {
            "tags": []
          },
          "execution_count": 82
        }
      ]
    },
    {
      "metadata": {
        "id": "2l7QuJKpEHd8",
        "colab_type": "code",
        "outputId": "16b87c6a-83bb-45c7-a23f-c452a6648346",
        "colab": {
          "base_uri": "https://localhost:8080/",
          "height": 452
        }
      },
      "cell_type": "code",
      "source": [
        "# Perform the Prediction for a student has been sleeping 20 hours and has been learning 8 hours.\n",
        "y_pred = logistic_model.predict([[30,1,1,4,6,5,3,8,1]])\n",
        "y_pred_probabilities = logistic_model.predict_proba([[30,1,1,4,6,5,3,8,1]])"
      ],
      "execution_count": 0,
      "outputs": [
        {
          "output_type": "error",
          "ename": "ValueError",
          "evalue": "ignored",
          "traceback": [
            "\u001b[0;31m---------------------------------------------------------------------------\u001b[0m",
            "\u001b[0;31mValueError\u001b[0m                                Traceback (most recent call last)",
            "\u001b[0;32m<ipython-input-83-58b2d5b7399e>\u001b[0m in \u001b[0;36m<module>\u001b[0;34m()\u001b[0m\n\u001b[0;32m----> 1\u001b[0;31m \u001b[0my_pred\u001b[0m \u001b[0;34m=\u001b[0m \u001b[0mlogistic_model\u001b[0m\u001b[0;34m.\u001b[0m\u001b[0mpredict\u001b[0m\u001b[0;34m(\u001b[0m\u001b[0;34m[\u001b[0m\u001b[0;34m[\u001b[0m\u001b[0;36m30\u001b[0m\u001b[0;34m,\u001b[0m\u001b[0;36m1\u001b[0m\u001b[0;34m,\u001b[0m\u001b[0;36m1\u001b[0m\u001b[0;34m,\u001b[0m\u001b[0;36m4\u001b[0m\u001b[0;34m,\u001b[0m\u001b[0;36m6\u001b[0m\u001b[0;34m,\u001b[0m\u001b[0;36m5\u001b[0m\u001b[0;34m,\u001b[0m\u001b[0;36m3\u001b[0m\u001b[0;34m,\u001b[0m\u001b[0;36m8\u001b[0m\u001b[0;34m,\u001b[0m\u001b[0;36m1\u001b[0m\u001b[0;34m]\u001b[0m\u001b[0;34m]\u001b[0m\u001b[0;34m)\u001b[0m\u001b[0;34m\u001b[0m\u001b[0;34m\u001b[0m\u001b[0m\n\u001b[0m\u001b[1;32m      2\u001b[0m \u001b[0my_pred_probabilities\u001b[0m \u001b[0;34m=\u001b[0m \u001b[0mlogistic_model\u001b[0m\u001b[0;34m.\u001b[0m\u001b[0mpredict_proba\u001b[0m\u001b[0;34m(\u001b[0m\u001b[0;34m[\u001b[0m\u001b[0;34m[\u001b[0m\u001b[0;36m30\u001b[0m\u001b[0;34m,\u001b[0m\u001b[0;36m1\u001b[0m\u001b[0;34m,\u001b[0m\u001b[0;36m1\u001b[0m\u001b[0;34m,\u001b[0m\u001b[0;36m4\u001b[0m\u001b[0;34m,\u001b[0m\u001b[0;36m6\u001b[0m\u001b[0;34m,\u001b[0m\u001b[0;36m5\u001b[0m\u001b[0;34m,\u001b[0m\u001b[0;36m3\u001b[0m\u001b[0;34m,\u001b[0m\u001b[0;36m8\u001b[0m\u001b[0;34m,\u001b[0m\u001b[0;36m1\u001b[0m\u001b[0;34m]\u001b[0m\u001b[0;34m]\u001b[0m\u001b[0;34m)\u001b[0m\u001b[0;34m\u001b[0m\u001b[0;34m\u001b[0m\u001b[0m\n",
            "\u001b[0;32m/usr/local/lib/python3.6/dist-packages/sklearn/linear_model/base.py\u001b[0m in \u001b[0;36mpredict\u001b[0;34m(self, X)\u001b[0m\n\u001b[1;32m    279\u001b[0m             \u001b[0mPredicted\u001b[0m \u001b[0;32mclass\u001b[0m \u001b[0mlabel\u001b[0m \u001b[0mper\u001b[0m \u001b[0msample\u001b[0m\u001b[0;34m.\u001b[0m\u001b[0;34m\u001b[0m\u001b[0;34m\u001b[0m\u001b[0m\n\u001b[1;32m    280\u001b[0m         \"\"\"\n\u001b[0;32m--> 281\u001b[0;31m         \u001b[0mscores\u001b[0m \u001b[0;34m=\u001b[0m \u001b[0mself\u001b[0m\u001b[0;34m.\u001b[0m\u001b[0mdecision_function\u001b[0m\u001b[0;34m(\u001b[0m\u001b[0mX\u001b[0m\u001b[0;34m)\u001b[0m\u001b[0;34m\u001b[0m\u001b[0;34m\u001b[0m\u001b[0m\n\u001b[0m\u001b[1;32m    282\u001b[0m         \u001b[0;32mif\u001b[0m \u001b[0mlen\u001b[0m\u001b[0;34m(\u001b[0m\u001b[0mscores\u001b[0m\u001b[0;34m.\u001b[0m\u001b[0mshape\u001b[0m\u001b[0;34m)\u001b[0m \u001b[0;34m==\u001b[0m \u001b[0;36m1\u001b[0m\u001b[0;34m:\u001b[0m\u001b[0;34m\u001b[0m\u001b[0;34m\u001b[0m\u001b[0m\n\u001b[1;32m    283\u001b[0m             \u001b[0mindices\u001b[0m \u001b[0;34m=\u001b[0m \u001b[0;34m(\u001b[0m\u001b[0mscores\u001b[0m \u001b[0;34m>\u001b[0m \u001b[0;36m0\u001b[0m\u001b[0;34m)\u001b[0m\u001b[0;34m.\u001b[0m\u001b[0mastype\u001b[0m\u001b[0;34m(\u001b[0m\u001b[0mnp\u001b[0m\u001b[0;34m.\u001b[0m\u001b[0mint\u001b[0m\u001b[0;34m)\u001b[0m\u001b[0;34m\u001b[0m\u001b[0;34m\u001b[0m\u001b[0m\n",
            "\u001b[0;32m/usr/local/lib/python3.6/dist-packages/sklearn/linear_model/base.py\u001b[0m in \u001b[0;36mdecision_function\u001b[0;34m(self, X)\u001b[0m\n\u001b[1;32m    260\u001b[0m         \u001b[0;32mif\u001b[0m \u001b[0mX\u001b[0m\u001b[0;34m.\u001b[0m\u001b[0mshape\u001b[0m\u001b[0;34m[\u001b[0m\u001b[0;36m1\u001b[0m\u001b[0;34m]\u001b[0m \u001b[0;34m!=\u001b[0m \u001b[0mn_features\u001b[0m\u001b[0;34m:\u001b[0m\u001b[0;34m\u001b[0m\u001b[0;34m\u001b[0m\u001b[0m\n\u001b[1;32m    261\u001b[0m             raise ValueError(\"X has %d features per sample; expecting %d\"\n\u001b[0;32m--> 262\u001b[0;31m                              % (X.shape[1], n_features))\n\u001b[0m\u001b[1;32m    263\u001b[0m \u001b[0;34m\u001b[0m\u001b[0m\n\u001b[1;32m    264\u001b[0m         scores = safe_sparse_dot(X, self.coef_.T,\n",
            "\u001b[0;31mValueError\u001b[0m: X has 9 features per sample; expecting 5"
          ]
        }
      ]
    },
    {
      "metadata": {
        "id": "CvDFDBFCENcb",
        "colab_type": "code",
        "colab": {}
      },
      "cell_type": "code",
      "source": [
        "print('Ergebniss')\n",
        "\n",
        "\n",
        "\n",
        "# Predict class probabilities for a student who has slept 20 hours and has learnt 8 hours.\n",
        "print(f'- kauft nicht: {y_pred_probabilities[0][0] * 100:.2f}%')\n",
        "print(f'- kauft: {y_pred_probabilities[0][1] * 100:.2f}%')"
      ],
      "execution_count": 0,
      "outputs": []
    },
    {
      "metadata": {
        "id": "Tf-wCLokEPrH",
        "colab_type": "text"
      },
      "cell_type": "markdown",
      "source": [
        "#Evaluation"
      ]
    },
    {
      "metadata": {
        "id": "alah1Na1EVTQ",
        "colab_type": "text"
      },
      "cell_type": "markdown",
      "source": [
        "##Holdout Method\n",
        "\n",
        "einen teil zum testen weglassen"
      ]
    },
    {
      "metadata": {
        "id": "ph734dBWESNh",
        "colab_type": "code",
        "colab": {}
      },
      "cell_type": "code",
      "source": [
        "# Set Seed for \"Deterministic Randomness\".\n",
        "np.random.seed(7845789)\n",
        "\n",
        "# Train-Test-Split with 75% for Training and 25% for Testing\n",
        "x_train, x_test, y_train, y_test = train_test_split(x, y, test_size=0.25)\n",
        "\n",
        "# Perform the Learning\n",
        "logistic_model.fit(x_train, y_train)"
      ],
      "execution_count": 0,
      "outputs": []
    },
    {
      "metadata": {
        "id": "MUIt0-c2ElGw",
        "colab_type": "code",
        "colab": {}
      },
      "cell_type": "code",
      "source": [
        "# Perform the Prediction on the Test-Set-Features.\n",
        "y_pred = logistic_model.predict(x_test)\n",
        "y_pred_probabilities = logistic_model.predict_proba(x_test)"
      ],
      "execution_count": 0,
      "outputs": []
    },
    {
      "metadata": {
        "id": "iotEF1wBEpnr",
        "colab_type": "code",
        "colab": {}
      },
      "cell_type": "code",
      "source": [
        "# Calculating various performance measures.\n",
        "accuracy0 = accuracy_score(y_test, y_pred)\n",
        "precision0 = precision_score(y_test, y_pred)\n",
        "recall0 = recall_score(y_test, y_pred)\n",
        "f10 = f1_score(y_test, y_pred)\n",
        "\n",
        "print(f'Accuracy: {accuracy0 * 100:.2f}%')    # trefferchance, acc + f1 nah = balanded wenn nicht nah dann imbalanced \n",
        "print(f'Precision: {precision0 * 100:.2f}%')  # vorhersage\n",
        "print(f'Recall: {recall0 * 100:.2f}%')        # \n",
        "print(f'F1: {f10 * 100:.2f}%')                #"
      ],
      "execution_count": 0,
      "outputs": []
    },
    {
      "metadata": {
        "id": "0LS0MD4NEsmK",
        "colab_type": "text"
      },
      "cell_type": "markdown",
      "source": [
        "##10-Fold Chross_Validation"
      ]
    },
    {
      "metadata": {
        "id": "NnQzvqqkEyfs",
        "colab_type": "code",
        "colab": {}
      },
      "cell_type": "code",
      "source": [
        "# Set seed for \"deterministic randomness\".\n",
        "np.random.seed(1909)\n",
        "\n",
        "# Initialize 10-Fold-Cross-Validation.\n",
        "k_fold = KFold(n_splits=10)  #teile in 10 gleich große teile\n",
        "\n",
        "# Empty lists for persisting the performances measures calculated in each iteration. \n",
        "accuracies = []\n",
        "precisions = []\n",
        "recalls = []\n",
        "f1s = []\n",
        "\n",
        "#schleife, alles was eingerückt ist gehört dazu\n",
        "\n",
        "for train_idx, test_idx in k_fold.split(x):\n",
        "  # Split dataset into a train and test set.\n",
        "  x_train, x_test = x[train_idx], x[test_idx]\n",
        "  y_train, y_test = y[train_idx], y[test_idx]\n",
        "  \n",
        "  # Run the logistic regression on the current training set.\n",
        "  logistic_model = SGDClassifier(loss='log', eta0=0.001, alpha=0.03, max_iter=1000)\n",
        "  logistic_model.fit(x_train, y_train)\n",
        "  \n",
        "  # Perform the Prediction on the Test-Set-Features.\n",
        "  y_pred = logistic_model.predict(x_test)\n",
        "  y_pred_probabilities = logistic_model.predict_proba(x_test)\n",
        "  \n",
        "  # Calculate the performance measures on the current test set.\n",
        "  accuracy = accuracy_score(y_test, y_pred)\n",
        "  precision = precision_score(y_test, y_pred)\n",
        "  recall = recall_score(y_test, y_pred)\n",
        "  f1 = f1_score(y_test, y_pred)\n",
        "  \n",
        "  # Append to performances measures to lists.\n",
        "  accuracies.append(accuracy)\n",
        "  precisions.append(precision)\n",
        "  recalls.append(recall)\n",
        "  f1s.append(f1)"
      ],
      "execution_count": 0,
      "outputs": []
    },
    {
      "metadata": {
        "id": "uDbfnaxHE3gM",
        "colab_type": "code",
        "colab": {}
      },
      "cell_type": "code",
      "source": [
        "print(f'Average accuracy: {np.mean(accuracies) * 100:.2f}%') #np.mean = mittelwert\n",
        "print(f'Average precision: {np.mean(precisions) * 100:.2f}%')\n",
        "print(f'Average recall: {np.mean(recalls) * 100:.2f}%')\n",
        "print(f'Average F1: {np.mean(f1s) * 100:.2f}%')"
      ],
      "execution_count": 0,
      "outputs": []
    },
    {
      "metadata": {
        "id": "kvno2aobuYwy",
        "colab_type": "text"
      },
      "cell_type": "markdown",
      "source": [
        "## StratifiedKFold"
      ]
    },
    {
      "metadata": {
        "id": "Km2UEDT3uZJo",
        "colab_type": "code",
        "colab": {}
      },
      "cell_type": "code",
      "source": [
        "skf = StratifiedKFold(n_splits=2)\n",
        "skf.get_n_splits(x, y)\n",
        "# Initialize StratifiedKFold\n",
        "StratifiedKFold(n_splits=2, random_state=5468, shuffle=True)  #teile in x teile\n",
        "\n",
        "# Empty lists for persisting the performances measures calculated in each iteration. \n",
        "accuracies2 = []\n",
        "precisions2 = []\n",
        "recalls2 = []\n",
        "f1s2 = []\n",
        "\n",
        "#schleife, alles was eingerückt ist gehört dazu\n",
        "\n",
        "print(skf)  \n",
        "StratifiedKFold(n_splits=2, random_state=16543, shuffle=False)\n",
        "for train_index, test_index in skf.split(x, y):\n",
        "  x_train, x_test = x[train_index], x[test_index]\n",
        "  y_train, y_test = y[train_index], y[test_index]\n",
        "  \n",
        "  \n",
        "  \n",
        "  # Run the logistic regression on the current training set.\n",
        "  logistic_model = SGDClassifier(loss='log', eta0=0.001, alpha=0.02, max_iter=5000)\n",
        "  logistic_model.fit(x_train, y_train)\n",
        "  \n",
        "  # Perform the Prediction on the Test-Set-Features.\n",
        "  y_pred = logistic_model.predict(x_test)\n",
        "  y_pred_probabilities = logistic_model.predict_proba(x_test)\n",
        "  \n",
        "  # Calculate the performance measures on the current test set.\n",
        "  accuracy = accuracy_score(y_test, y_pred)\n",
        "  precision = precision_score(y_test, y_pred)\n",
        "  recall = recall_score(y_test, y_pred)\n",
        "  f1 = f1_score(y_test, y_pred)\n",
        "  \n",
        "  # Append to performances measures to lists.\n",
        "  accuracies2.append(accuracy)\n",
        "  precisions2.append(precision)\n",
        "  recalls2.append(recall)\n",
        "  f1s2.append(f1)"
      ],
      "execution_count": 0,
      "outputs": []
    },
    {
      "metadata": {
        "id": "JrgAyAdluxKV",
        "colab_type": "code",
        "colab": {}
      },
      "cell_type": "code",
      "source": [
        "print(f'Average accuracy: {np.mean(accuracies2) * 100:.2f}%') #np.mean = mittelwert\n",
        "print(f'Average precision: {np.mean(precisions2) * 100:.2f}%')\n",
        "print(f'Average recall: {np.mean(recalls2) * 100:.2f}%')\n",
        "print(f'Average F1: {np.mean(f1s2) * 100:.2f}%')"
      ],
      "execution_count": 0,
      "outputs": []
    },
    {
      "metadata": {
        "id": "23E7ePeZDL26",
        "colab_type": "text"
      },
      "cell_type": "markdown",
      "source": [
        "##Basic Literature\n",
        "\n",
        "Moro S., Laureano, R., & Cortez, P. (2011). Using Data Mining for Bank Direct Marketing: An Application of the CRISP-DM Methodology. In P. Novais et al, Proceedings of the European Simulation and Modelling Conference. Paper presented at the 2011 European Simulation and Modelling Conference, Guimaraes, Portugal (117-121). Belgium: EUROSIS.\n",
        "Moro S., Cortez, P., & Rita, P. (2004). A Data-Driven Approach to Predict the Success of Bank Telemarketing. Decision Support Systems, 62, 22-31. https://doi.org/10.1016/j.dss.2014.03.001\n",
        "\n",
        "##Source\n",
        "\n",
        "https://archive.ics.uci.edu/ml/datasets/Bank+Marketing"
      ]
    }
  ]
}